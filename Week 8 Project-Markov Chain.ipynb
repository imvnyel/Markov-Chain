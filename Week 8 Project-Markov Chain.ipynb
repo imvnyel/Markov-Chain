{
 "cells": [
  {
   "cell_type": "code",
   "execution_count": 1,
   "id": "a9bac27b",
   "metadata": {},
   "outputs": [],
   "source": [
    "import pandas as pd\n",
    "import seaborn as sns\n",
    "import numpy as np\n",
    "import matplotlib.pyplot as plt\n",
    "import os\n",
    "import datetime as dt"
   ]
  },
  {
   "cell_type": "code",
   "execution_count": 2,
   "id": "4daf8808",
   "metadata": {},
   "outputs": [],
   "source": [
    "files = os.listdir(path='data')"
   ]
  },
  {
   "cell_type": "code",
   "execution_count": 3,
   "id": "c0550a49",
   "metadata": {},
   "outputs": [
    {
     "data": {
      "text/plain": [
       "['friday.csv', 'monday.csv', 'thursday.csv', 'tuesday.csv', 'wednesday.csv']"
      ]
     },
     "execution_count": 3,
     "metadata": {},
     "output_type": "execute_result"
    }
   ],
   "source": [
    "files"
   ]
  },
  {
   "cell_type": "code",
   "execution_count": 4,
   "id": "ad0da84f",
   "metadata": {},
   "outputs": [],
   "source": [
    "def read_files(files, datapath='data/', delimiter = ';'):\n",
    "        df_temp = []\n",
    "\n",
    "        if type(files) == list:\n",
    "            for i in files:\n",
    "                df = pd.read_csv(datapath+i, delimiter=delimiter, parse_dates=True, index_col='timestamp')\n",
    "                day_name = df.index.day_name()[0][:3]\n",
    "                df['customer_no'] = df.customer_no.apply(lambda x: f'{day_name}_{x}')\n",
    "                df_temp.append(df)\n",
    "            df = pd.concat(df_temp)\n",
    "        else:\n",
    "            df = pd.read_csv(files, delimiter=delimiter, parse_dates=True, index_col='timestamp')\n",
    "            day_name = df.index.day_name()[0][:3]\n",
    "            df['customer_no'] = df.customer_no.apply(lambda x: f'{day_name}_{x}')\n",
    "\n",
    "        return df"
   ]
  },
  {
   "cell_type": "code",
   "execution_count": 5,
   "id": "003df293",
   "metadata": {},
   "outputs": [],
   "source": [
    "shop_data = read_files(files)"
   ]
  },
  {
   "cell_type": "markdown",
   "id": "39c6abc1",
   "metadata": {},
   "source": [
    "# Part 1: Data Exploration"
   ]
  },
  {
   "cell_type": "code",
   "execution_count": 6,
   "id": "73238d88",
   "metadata": {},
   "outputs": [],
   "source": [
    "shop_data = shop_data.sort_values(by='timestamp')"
   ]
  },
  {
   "cell_type": "code",
   "execution_count": 7,
   "id": "00290286",
   "metadata": {},
   "outputs": [],
   "source": [
    "#shop_data = shop_data.reset_index()"
   ]
  },
  {
   "cell_type": "code",
   "execution_count": 143,
   "id": "a18f884c",
   "metadata": {},
   "outputs": [
    {
     "data": {
      "text/html": [
       "<div>\n",
       "<style scoped>\n",
       "    .dataframe tbody tr th:only-of-type {\n",
       "        vertical-align: middle;\n",
       "    }\n",
       "\n",
       "    .dataframe tbody tr th {\n",
       "        vertical-align: top;\n",
       "    }\n",
       "\n",
       "    .dataframe thead th {\n",
       "        text-align: right;\n",
       "    }\n",
       "</style>\n",
       "<table border=\"1\" class=\"dataframe\">\n",
       "  <thead>\n",
       "    <tr style=\"text-align: right;\">\n",
       "      <th></th>\n",
       "      <th>customer_no</th>\n",
       "      <th>location</th>\n",
       "    </tr>\n",
       "    <tr>\n",
       "      <th>timestamp</th>\n",
       "      <th></th>\n",
       "      <th></th>\n",
       "    </tr>\n",
       "  </thead>\n",
       "  <tbody>\n",
       "    <tr>\n",
       "      <th>2019-09-02 07:03:00</th>\n",
       "      <td>Mon_1</td>\n",
       "      <td>dairy</td>\n",
       "    </tr>\n",
       "    <tr>\n",
       "      <th>2019-09-02 07:03:00</th>\n",
       "      <td>Mon_2</td>\n",
       "      <td>dairy</td>\n",
       "    </tr>\n",
       "    <tr>\n",
       "      <th>2019-09-02 07:04:00</th>\n",
       "      <td>Mon_3</td>\n",
       "      <td>dairy</td>\n",
       "    </tr>\n",
       "    <tr>\n",
       "      <th>2019-09-02 07:04:00</th>\n",
       "      <td>Mon_4</td>\n",
       "      <td>dairy</td>\n",
       "    </tr>\n",
       "    <tr>\n",
       "      <th>2019-09-02 07:04:00</th>\n",
       "      <td>Mon_5</td>\n",
       "      <td>spices</td>\n",
       "    </tr>\n",
       "    <tr>\n",
       "      <th>...</th>\n",
       "      <td>...</td>\n",
       "      <td>...</td>\n",
       "    </tr>\n",
       "    <tr>\n",
       "      <th>2019-09-06 21:50:00</th>\n",
       "      <td>Fri_1509</td>\n",
       "      <td>drinks</td>\n",
       "    </tr>\n",
       "    <tr>\n",
       "      <th>2019-09-06 21:50:00</th>\n",
       "      <td>Fri_1507</td>\n",
       "      <td>checkout</td>\n",
       "    </tr>\n",
       "    <tr>\n",
       "      <th>2019-09-06 21:50:00</th>\n",
       "      <td>Fri_1508</td>\n",
       "      <td>checkout</td>\n",
       "    </tr>\n",
       "    <tr>\n",
       "      <th>2019-09-06 21:50:00</th>\n",
       "      <td>Fri_1496</td>\n",
       "      <td>fruit</td>\n",
       "    </tr>\n",
       "    <tr>\n",
       "      <th>2019-09-06 21:50:00</th>\n",
       "      <td>Fri_1500</td>\n",
       "      <td>dairy</td>\n",
       "    </tr>\n",
       "  </tbody>\n",
       "</table>\n",
       "<p>24877 rows × 2 columns</p>\n",
       "</div>"
      ],
      "text/plain": [
       "                    customer_no  location\n",
       "timestamp                                \n",
       "2019-09-02 07:03:00       Mon_1     dairy\n",
       "2019-09-02 07:03:00       Mon_2     dairy\n",
       "2019-09-02 07:04:00       Mon_3     dairy\n",
       "2019-09-02 07:04:00       Mon_4     dairy\n",
       "2019-09-02 07:04:00       Mon_5    spices\n",
       "...                         ...       ...\n",
       "2019-09-06 21:50:00    Fri_1509    drinks\n",
       "2019-09-06 21:50:00    Fri_1507  checkout\n",
       "2019-09-06 21:50:00    Fri_1508  checkout\n",
       "2019-09-06 21:50:00    Fri_1496     fruit\n",
       "2019-09-06 21:50:00    Fri_1500     dairy\n",
       "\n",
       "[24877 rows x 2 columns]"
      ]
     },
     "execution_count": 143,
     "metadata": {},
     "output_type": "execute_result"
    }
   ],
   "source": [
    "shop_data"
   ]
  },
  {
   "cell_type": "code",
   "execution_count": 46,
   "id": "b85c8195",
   "metadata": {},
   "outputs": [],
   "source": [
    "df_timefill = shop_data.groupby(['customer_no', 'location']).resample('T').ffill()"
   ]
  },
  {
   "cell_type": "code",
   "execution_count": 48,
   "id": "8d2571d0",
   "metadata": {},
   "outputs": [],
   "source": [
    "df_timefill = df_timefill.droplevel('location').reset_index(level=1)"
   ]
  },
  {
   "cell_type": "code",
   "execution_count": 60,
   "id": "cee187b5",
   "metadata": {
    "collapsed": true
   },
   "outputs": [
    {
     "ename": "KeyError",
     "evalue": "\"['customer_no'] not found in axis\"",
     "output_type": "error",
     "traceback": [
      "\u001b[1;31m---------------------------------------------------------------------------\u001b[0m",
      "\u001b[1;31mKeyError\u001b[0m                                  Traceback (most recent call last)",
      "\u001b[1;32m~\\AppData\\Local\\Temp/ipykernel_2308/665514288.py\u001b[0m in \u001b[0;36m<module>\u001b[1;34m\u001b[0m\n\u001b[1;32m----> 1\u001b[1;33m \u001b[0mdf_timefill\u001b[0m \u001b[1;33m=\u001b[0m \u001b[0mdf_timefill\u001b[0m\u001b[1;33m.\u001b[0m\u001b[0mdrop\u001b[0m\u001b[1;33m(\u001b[0m\u001b[1;34m'customer_no'\u001b[0m\u001b[1;33m,\u001b[0m \u001b[0maxis\u001b[0m\u001b[1;33m=\u001b[0m\u001b[1;36m1\u001b[0m\u001b[1;33m)\u001b[0m\u001b[1;33m.\u001b[0m\u001b[0mreset_index\u001b[0m\u001b[1;33m(\u001b[0m\u001b[1;33m)\u001b[0m\u001b[1;33m\u001b[0m\u001b[1;33m\u001b[0m\u001b[0m\n\u001b[0m",
      "\u001b[1;32m~\\anaconda3\\lib\\site-packages\\pandas\\util\\_decorators.py\u001b[0m in \u001b[0;36mwrapper\u001b[1;34m(*args, **kwargs)\u001b[0m\n\u001b[0;32m    309\u001b[0m                     \u001b[0mstacklevel\u001b[0m\u001b[1;33m=\u001b[0m\u001b[0mstacklevel\u001b[0m\u001b[1;33m,\u001b[0m\u001b[1;33m\u001b[0m\u001b[1;33m\u001b[0m\u001b[0m\n\u001b[0;32m    310\u001b[0m                 )\n\u001b[1;32m--> 311\u001b[1;33m             \u001b[1;32mreturn\u001b[0m \u001b[0mfunc\u001b[0m\u001b[1;33m(\u001b[0m\u001b[1;33m*\u001b[0m\u001b[0margs\u001b[0m\u001b[1;33m,\u001b[0m \u001b[1;33m**\u001b[0m\u001b[0mkwargs\u001b[0m\u001b[1;33m)\u001b[0m\u001b[1;33m\u001b[0m\u001b[1;33m\u001b[0m\u001b[0m\n\u001b[0m\u001b[0;32m    312\u001b[0m \u001b[1;33m\u001b[0m\u001b[0m\n\u001b[0;32m    313\u001b[0m         \u001b[1;32mreturn\u001b[0m \u001b[0mwrapper\u001b[0m\u001b[1;33m\u001b[0m\u001b[1;33m\u001b[0m\u001b[0m\n",
      "\u001b[1;32m~\\anaconda3\\lib\\site-packages\\pandas\\core\\frame.py\u001b[0m in \u001b[0;36mdrop\u001b[1;34m(self, labels, axis, index, columns, level, inplace, errors)\u001b[0m\n\u001b[0;32m   4904\u001b[0m                 \u001b[0mweight\u001b[0m  \u001b[1;36m1.0\u001b[0m     \u001b[1;36m0.8\u001b[0m\u001b[1;33m\u001b[0m\u001b[1;33m\u001b[0m\u001b[0m\n\u001b[0;32m   4905\u001b[0m         \"\"\"\n\u001b[1;32m-> 4906\u001b[1;33m         return super().drop(\n\u001b[0m\u001b[0;32m   4907\u001b[0m             \u001b[0mlabels\u001b[0m\u001b[1;33m=\u001b[0m\u001b[0mlabels\u001b[0m\u001b[1;33m,\u001b[0m\u001b[1;33m\u001b[0m\u001b[1;33m\u001b[0m\u001b[0m\n\u001b[0;32m   4908\u001b[0m             \u001b[0maxis\u001b[0m\u001b[1;33m=\u001b[0m\u001b[0maxis\u001b[0m\u001b[1;33m,\u001b[0m\u001b[1;33m\u001b[0m\u001b[1;33m\u001b[0m\u001b[0m\n",
      "\u001b[1;32m~\\anaconda3\\lib\\site-packages\\pandas\\core\\generic.py\u001b[0m in \u001b[0;36mdrop\u001b[1;34m(self, labels, axis, index, columns, level, inplace, errors)\u001b[0m\n\u001b[0;32m   4148\u001b[0m         \u001b[1;32mfor\u001b[0m \u001b[0maxis\u001b[0m\u001b[1;33m,\u001b[0m \u001b[0mlabels\u001b[0m \u001b[1;32min\u001b[0m \u001b[0maxes\u001b[0m\u001b[1;33m.\u001b[0m\u001b[0mitems\u001b[0m\u001b[1;33m(\u001b[0m\u001b[1;33m)\u001b[0m\u001b[1;33m:\u001b[0m\u001b[1;33m\u001b[0m\u001b[1;33m\u001b[0m\u001b[0m\n\u001b[0;32m   4149\u001b[0m             \u001b[1;32mif\u001b[0m \u001b[0mlabels\u001b[0m \u001b[1;32mis\u001b[0m \u001b[1;32mnot\u001b[0m \u001b[1;32mNone\u001b[0m\u001b[1;33m:\u001b[0m\u001b[1;33m\u001b[0m\u001b[1;33m\u001b[0m\u001b[0m\n\u001b[1;32m-> 4150\u001b[1;33m                 \u001b[0mobj\u001b[0m \u001b[1;33m=\u001b[0m \u001b[0mobj\u001b[0m\u001b[1;33m.\u001b[0m\u001b[0m_drop_axis\u001b[0m\u001b[1;33m(\u001b[0m\u001b[0mlabels\u001b[0m\u001b[1;33m,\u001b[0m \u001b[0maxis\u001b[0m\u001b[1;33m,\u001b[0m \u001b[0mlevel\u001b[0m\u001b[1;33m=\u001b[0m\u001b[0mlevel\u001b[0m\u001b[1;33m,\u001b[0m \u001b[0merrors\u001b[0m\u001b[1;33m=\u001b[0m\u001b[0merrors\u001b[0m\u001b[1;33m)\u001b[0m\u001b[1;33m\u001b[0m\u001b[1;33m\u001b[0m\u001b[0m\n\u001b[0m\u001b[0;32m   4151\u001b[0m \u001b[1;33m\u001b[0m\u001b[0m\n\u001b[0;32m   4152\u001b[0m         \u001b[1;32mif\u001b[0m \u001b[0minplace\u001b[0m\u001b[1;33m:\u001b[0m\u001b[1;33m\u001b[0m\u001b[1;33m\u001b[0m\u001b[0m\n",
      "\u001b[1;32m~\\anaconda3\\lib\\site-packages\\pandas\\core\\generic.py\u001b[0m in \u001b[0;36m_drop_axis\u001b[1;34m(self, labels, axis, level, errors)\u001b[0m\n\u001b[0;32m   4183\u001b[0m                 \u001b[0mnew_axis\u001b[0m \u001b[1;33m=\u001b[0m \u001b[0maxis\u001b[0m\u001b[1;33m.\u001b[0m\u001b[0mdrop\u001b[0m\u001b[1;33m(\u001b[0m\u001b[0mlabels\u001b[0m\u001b[1;33m,\u001b[0m \u001b[0mlevel\u001b[0m\u001b[1;33m=\u001b[0m\u001b[0mlevel\u001b[0m\u001b[1;33m,\u001b[0m \u001b[0merrors\u001b[0m\u001b[1;33m=\u001b[0m\u001b[0merrors\u001b[0m\u001b[1;33m)\u001b[0m\u001b[1;33m\u001b[0m\u001b[1;33m\u001b[0m\u001b[0m\n\u001b[0;32m   4184\u001b[0m             \u001b[1;32melse\u001b[0m\u001b[1;33m:\u001b[0m\u001b[1;33m\u001b[0m\u001b[1;33m\u001b[0m\u001b[0m\n\u001b[1;32m-> 4185\u001b[1;33m                 \u001b[0mnew_axis\u001b[0m \u001b[1;33m=\u001b[0m \u001b[0maxis\u001b[0m\u001b[1;33m.\u001b[0m\u001b[0mdrop\u001b[0m\u001b[1;33m(\u001b[0m\u001b[0mlabels\u001b[0m\u001b[1;33m,\u001b[0m \u001b[0merrors\u001b[0m\u001b[1;33m=\u001b[0m\u001b[0merrors\u001b[0m\u001b[1;33m)\u001b[0m\u001b[1;33m\u001b[0m\u001b[1;33m\u001b[0m\u001b[0m\n\u001b[0m\u001b[0;32m   4186\u001b[0m             \u001b[0mresult\u001b[0m \u001b[1;33m=\u001b[0m \u001b[0mself\u001b[0m\u001b[1;33m.\u001b[0m\u001b[0mreindex\u001b[0m\u001b[1;33m(\u001b[0m\u001b[1;33m**\u001b[0m\u001b[1;33m{\u001b[0m\u001b[0maxis_name\u001b[0m\u001b[1;33m:\u001b[0m \u001b[0mnew_axis\u001b[0m\u001b[1;33m}\u001b[0m\u001b[1;33m)\u001b[0m\u001b[1;33m\u001b[0m\u001b[1;33m\u001b[0m\u001b[0m\n\u001b[0;32m   4187\u001b[0m \u001b[1;33m\u001b[0m\u001b[0m\n",
      "\u001b[1;32m~\\anaconda3\\lib\\site-packages\\pandas\\core\\indexes\\base.py\u001b[0m in \u001b[0;36mdrop\u001b[1;34m(self, labels, errors)\u001b[0m\n\u001b[0;32m   6015\u001b[0m         \u001b[1;32mif\u001b[0m \u001b[0mmask\u001b[0m\u001b[1;33m.\u001b[0m\u001b[0many\u001b[0m\u001b[1;33m(\u001b[0m\u001b[1;33m)\u001b[0m\u001b[1;33m:\u001b[0m\u001b[1;33m\u001b[0m\u001b[1;33m\u001b[0m\u001b[0m\n\u001b[0;32m   6016\u001b[0m             \u001b[1;32mif\u001b[0m \u001b[0merrors\u001b[0m \u001b[1;33m!=\u001b[0m \u001b[1;34m\"ignore\"\u001b[0m\u001b[1;33m:\u001b[0m\u001b[1;33m\u001b[0m\u001b[1;33m\u001b[0m\u001b[0m\n\u001b[1;32m-> 6017\u001b[1;33m                 \u001b[1;32mraise\u001b[0m \u001b[0mKeyError\u001b[0m\u001b[1;33m(\u001b[0m\u001b[1;34mf\"{labels[mask]} not found in axis\"\u001b[0m\u001b[1;33m)\u001b[0m\u001b[1;33m\u001b[0m\u001b[1;33m\u001b[0m\u001b[0m\n\u001b[0m\u001b[0;32m   6018\u001b[0m             \u001b[0mindexer\u001b[0m \u001b[1;33m=\u001b[0m \u001b[0mindexer\u001b[0m\u001b[1;33m[\u001b[0m\u001b[1;33m~\u001b[0m\u001b[0mmask\u001b[0m\u001b[1;33m]\u001b[0m\u001b[1;33m\u001b[0m\u001b[1;33m\u001b[0m\u001b[0m\n\u001b[0;32m   6019\u001b[0m         \u001b[1;32mreturn\u001b[0m \u001b[0mself\u001b[0m\u001b[1;33m.\u001b[0m\u001b[0mdelete\u001b[0m\u001b[1;33m(\u001b[0m\u001b[0mindexer\u001b[0m\u001b[1;33m)\u001b[0m\u001b[1;33m\u001b[0m\u001b[1;33m\u001b[0m\u001b[0m\n",
      "\u001b[1;31mKeyError\u001b[0m: \"['customer_no'] not found in axis\""
     ]
    }
   ],
   "source": [
    "df_timefill = df_timefill.drop('customer_no', axis=1)"
   ]
  },
  {
   "cell_type": "code",
   "execution_count": 62,
   "id": "235e2819",
   "metadata": {},
   "outputs": [],
   "source": [
    "df_timefill = df_timefill.reset_index()"
   ]
  },
  {
   "cell_type": "code",
   "execution_count": 65,
   "id": "981c623c",
   "metadata": {},
   "outputs": [],
   "source": [
    "customer_flow = pd.pivot_table(df_timefill, index='customer_no', columns='location', values='timestamp' )"
   ]
  },
  {
   "cell_type": "code",
   "execution_count": null,
   "id": "9f8bea95",
   "metadata": {},
   "outputs": [],
   "source": [
    "customer_flow.apply(np.sort, axis=1)"
   ]
  },
  {
   "cell_type": "markdown",
   "id": "dc539e4a",
   "metadata": {},
   "source": [
    "# Create entrance times and fill checkout times"
   ]
  },
  {
   "cell_type": "code",
   "execution_count": 110,
   "id": "d4ff3bce",
   "metadata": {},
   "outputs": [],
   "source": [
    "def fill_enter(dataframe):\n",
    "    \n",
    "    entry_time = dataframe.loc[dataframe.notnull()].min() - dt.timedelta(minutes=1)\n",
    "    return entry_time\n",
    "    #if dataframe.entrance != dataframe.entrance:\n",
    "    #    entry_time = dataframe.loc[dataframe.notnull()].min() - timedelta(minuntes=1)\n",
    "    #    return entry_time\n",
    "    #elif dataframe.entrance:\n",
    "    #    return dataframe.entrance"
   ]
  },
  {
   "cell_type": "code",
   "execution_count": 104,
   "id": "e20ed349",
   "metadata": {},
   "outputs": [],
   "source": [
    "def fill_exit(dataframe):\n",
    "    if dataframe.checkout != dataframe.checkout:\n",
    "        closing_time = dataframe.loc[dataframe.notnull()].max().round('H')\n",
    "        return closing_time\n",
    "    elif dataframe.checkout:\n",
    "        return dataframe.checkout"
   ]
  },
  {
   "cell_type": "code",
   "execution_count": 111,
   "id": "25536cf1",
   "metadata": {},
   "outputs": [],
   "source": [
    "customer_flow['entrance'] = customer_flow.apply(fill_enter, axis=1)\n",
    "customer_flow['checkout'] = customer_flow.apply(fill_exit, axis=1)"
   ]
  },
  {
   "cell_type": "code",
   "execution_count": 183,
   "id": "9c14a6ed",
   "metadata": {},
   "outputs": [],
   "source": [
    "customer_flow = customer_flow.reset_index(level=0)"
   ]
  },
  {
   "cell_type": "code",
   "execution_count": 184,
   "id": "874bde7f",
   "metadata": {},
   "outputs": [],
   "source": [
    "customer_flow = customer_flow.melt(id_vars='customer_no', value_name='timestamp')"
   ]
  },
  {
   "cell_type": "code",
   "execution_count": 185,
   "id": "b77f3b61",
   "metadata": {},
   "outputs": [],
   "source": [
    "customer_flow = customer_flow.dropna()"
   ]
  },
  {
   "cell_type": "markdown",
   "id": "15daefe2",
   "metadata": {},
   "source": [
    "# Shift location one step"
   ]
  },
  {
   "cell_type": "code",
   "execution_count": 186,
   "id": "80498c0c",
   "metadata": {},
   "outputs": [],
   "source": [
    "customer_transitions = customer_flow.sort_values(by=['customer_no', 'timestamp'])"
   ]
  },
  {
   "cell_type": "code",
   "execution_count": 187,
   "id": "8d2ee093",
   "metadata": {},
   "outputs": [],
   "source": [
    "customer_transitions = customer_transitions[['customer_no', 'location']]"
   ]
  },
  {
   "cell_type": "code",
   "execution_count": 188,
   "id": "89cca832",
   "metadata": {},
   "outputs": [],
   "source": [
    "customer_transitions['location+1'] = customer_transitions.groupby('customer_no')['location'].shift(-1)"
   ]
  },
  {
   "cell_type": "code",
   "execution_count": 189,
   "id": "f6934421",
   "metadata": {},
   "outputs": [
    {
     "data": {
      "text/html": [
       "<div>\n",
       "<style scoped>\n",
       "    .dataframe tbody tr th:only-of-type {\n",
       "        vertical-align: middle;\n",
       "    }\n",
       "\n",
       "    .dataframe tbody tr th {\n",
       "        vertical-align: top;\n",
       "    }\n",
       "\n",
       "    .dataframe thead th {\n",
       "        text-align: right;\n",
       "    }\n",
       "</style>\n",
       "<table border=\"1\" class=\"dataframe\">\n",
       "  <thead>\n",
       "    <tr style=\"text-align: right;\">\n",
       "      <th></th>\n",
       "      <th>customer_no</th>\n",
       "      <th>location</th>\n",
       "      <th>location+1</th>\n",
       "    </tr>\n",
       "  </thead>\n",
       "  <tbody>\n",
       "    <tr>\n",
       "      <th>37225</th>\n",
       "      <td>Fri_1</td>\n",
       "      <td>entrance</td>\n",
       "      <td>dairy</td>\n",
       "    </tr>\n",
       "    <tr>\n",
       "      <th>7445</th>\n",
       "      <td>Fri_1</td>\n",
       "      <td>dairy</td>\n",
       "      <td>spices</td>\n",
       "    </tr>\n",
       "    <tr>\n",
       "      <th>29780</th>\n",
       "      <td>Fri_1</td>\n",
       "      <td>spices</td>\n",
       "      <td>checkout</td>\n",
       "    </tr>\n",
       "    <tr>\n",
       "      <th>0</th>\n",
       "      <td>Fri_1</td>\n",
       "      <td>checkout</td>\n",
       "      <td>NaN</td>\n",
       "    </tr>\n",
       "    <tr>\n",
       "      <th>37226</th>\n",
       "      <td>Fri_10</td>\n",
       "      <td>entrance</td>\n",
       "      <td>fruit</td>\n",
       "    </tr>\n",
       "    <tr>\n",
       "      <th>...</th>\n",
       "      <td>...</td>\n",
       "      <td>...</td>\n",
       "      <td>...</td>\n",
       "    </tr>\n",
       "    <tr>\n",
       "      <th>29778</th>\n",
       "      <td>Wed_998</td>\n",
       "      <td>fruit</td>\n",
       "      <td>checkout</td>\n",
       "    </tr>\n",
       "    <tr>\n",
       "      <th>7443</th>\n",
       "      <td>Wed_998</td>\n",
       "      <td>checkout</td>\n",
       "      <td>NaN</td>\n",
       "    </tr>\n",
       "    <tr>\n",
       "      <th>44669</th>\n",
       "      <td>Wed_999</td>\n",
       "      <td>entrance</td>\n",
       "      <td>fruit</td>\n",
       "    </tr>\n",
       "    <tr>\n",
       "      <th>29779</th>\n",
       "      <td>Wed_999</td>\n",
       "      <td>fruit</td>\n",
       "      <td>checkout</td>\n",
       "    </tr>\n",
       "    <tr>\n",
       "      <th>7444</th>\n",
       "      <td>Wed_999</td>\n",
       "      <td>checkout</td>\n",
       "      <td>NaN</td>\n",
       "    </tr>\n",
       "  </tbody>\n",
       "</table>\n",
       "<p>29144 rows × 3 columns</p>\n",
       "</div>"
      ],
      "text/plain": [
       "      customer_no  location location+1\n",
       "37225       Fri_1  entrance      dairy\n",
       "7445        Fri_1     dairy     spices\n",
       "29780       Fri_1    spices   checkout\n",
       "0           Fri_1  checkout        NaN\n",
       "37226      Fri_10  entrance      fruit\n",
       "...           ...       ...        ...\n",
       "29778     Wed_998     fruit   checkout\n",
       "7443      Wed_998  checkout        NaN\n",
       "44669     Wed_999  entrance      fruit\n",
       "29779     Wed_999     fruit   checkout\n",
       "7444      Wed_999  checkout        NaN\n",
       "\n",
       "[29144 rows x 3 columns]"
      ]
     },
     "execution_count": 189,
     "metadata": {},
     "output_type": "execute_result"
    }
   ],
   "source": [
    "customer_transitions"
   ]
  },
  {
   "cell_type": "markdown",
   "id": "4f9c0bb1",
   "metadata": {},
   "source": [
    "# Create Probabilities table"
   ]
  },
  {
   "cell_type": "code",
   "execution_count": 190,
   "id": "e5659c37",
   "metadata": {},
   "outputs": [],
   "source": [
    "probabilites = pd.crosstab(customer_transitions['location'], customer_transitions['location+1'], normalize=0)"
   ]
  },
  {
   "cell_type": "code",
   "execution_count": 191,
   "id": "c2c77f6c",
   "metadata": {},
   "outputs": [
    {
     "data": {
      "text/html": [
       "<div>\n",
       "<style scoped>\n",
       "    .dataframe tbody tr th:only-of-type {\n",
       "        vertical-align: middle;\n",
       "    }\n",
       "\n",
       "    .dataframe tbody tr th {\n",
       "        vertical-align: top;\n",
       "    }\n",
       "\n",
       "    .dataframe thead th {\n",
       "        text-align: right;\n",
       "    }\n",
       "</style>\n",
       "<table border=\"1\" class=\"dataframe\">\n",
       "  <thead>\n",
       "    <tr style=\"text-align: right;\">\n",
       "      <th>location+1</th>\n",
       "      <th>checkout</th>\n",
       "      <th>dairy</th>\n",
       "      <th>drinks</th>\n",
       "      <th>fruit</th>\n",
       "      <th>spices</th>\n",
       "    </tr>\n",
       "    <tr>\n",
       "      <th>location</th>\n",
       "      <th></th>\n",
       "      <th></th>\n",
       "      <th></th>\n",
       "      <th></th>\n",
       "      <th></th>\n",
       "    </tr>\n",
       "  </thead>\n",
       "  <tbody>\n",
       "    <tr>\n",
       "      <th>dairy</th>\n",
       "      <td>0.452069</td>\n",
       "      <td>0.000000</td>\n",
       "      <td>0.202200</td>\n",
       "      <td>0.174175</td>\n",
       "      <td>0.171556</td>\n",
       "    </tr>\n",
       "    <tr>\n",
       "      <th>drinks</th>\n",
       "      <td>0.625078</td>\n",
       "      <td>0.054449</td>\n",
       "      <td>0.000000</td>\n",
       "      <td>0.165215</td>\n",
       "      <td>0.155258</td>\n",
       "    </tr>\n",
       "    <tr>\n",
       "      <th>entrance</th>\n",
       "      <td>0.000000</td>\n",
       "      <td>0.305440</td>\n",
       "      <td>0.164540</td>\n",
       "      <td>0.357018</td>\n",
       "      <td>0.173002</td>\n",
       "    </tr>\n",
       "    <tr>\n",
       "      <th>fruit</th>\n",
       "      <td>0.587302</td>\n",
       "      <td>0.173669</td>\n",
       "      <td>0.123249</td>\n",
       "      <td>0.000000</td>\n",
       "      <td>0.115780</td>\n",
       "    </tr>\n",
       "    <tr>\n",
       "      <th>spices</th>\n",
       "      <td>0.406399</td>\n",
       "      <td>0.212730</td>\n",
       "      <td>0.234513</td>\n",
       "      <td>0.146358</td>\n",
       "      <td>0.000000</td>\n",
       "    </tr>\n",
       "  </tbody>\n",
       "</table>\n",
       "</div>"
      ],
      "text/plain": [
       "location+1  checkout     dairy    drinks     fruit    spices\n",
       "location                                                    \n",
       "dairy       0.452069  0.000000  0.202200  0.174175  0.171556\n",
       "drinks      0.625078  0.054449  0.000000  0.165215  0.155258\n",
       "entrance    0.000000  0.305440  0.164540  0.357018  0.173002\n",
       "fruit       0.587302  0.173669  0.123249  0.000000  0.115780\n",
       "spices      0.406399  0.212730  0.234513  0.146358  0.000000"
      ]
     },
     "execution_count": 191,
     "metadata": {},
     "output_type": "execute_result"
    }
   ],
   "source": [
    "probabilites"
   ]
  },
  {
   "cell_type": "markdown",
   "id": "ec03419e",
   "metadata": {},
   "source": [
    "# Predict states"
   ]
  },
  {
   "cell_type": "code",
   "execution_count": 192,
   "id": "70138882",
   "metadata": {},
   "outputs": [],
   "source": [
    "from random import choices"
   ]
  },
  {
   "cell_type": "code",
   "execution_count": 197,
   "id": "f5ed4ac3",
   "metadata": {},
   "outputs": [
    {
     "data": {
      "text/plain": [
       "['entrance', 'dairy', 'spices', 'checkout', 'fruit', 'drinks']"
      ]
     },
     "execution_count": 197,
     "metadata": {},
     "output_type": "execute_result"
    }
   ],
   "source": [
    "location_states = list(customer_transitions.location.unique())\n",
    "location_states"
   ]
  }
 ],
 "metadata": {
  "kernelspec": {
   "display_name": "Python 3 (ipykernel)",
   "language": "python",
   "name": "python3"
  },
  "language_info": {
   "codemirror_mode": {
    "name": "ipython",
    "version": 3
   },
   "file_extension": ".py",
   "mimetype": "text/x-python",
   "name": "python",
   "nbconvert_exporter": "python",
   "pygments_lexer": "ipython3",
   "version": "3.9.7"
  }
 },
 "nbformat": 4,
 "nbformat_minor": 5
}

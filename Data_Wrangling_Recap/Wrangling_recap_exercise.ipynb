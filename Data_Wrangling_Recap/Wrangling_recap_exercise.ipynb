{
 "cells": [
  {
   "cell_type": "markdown",
   "id": "40ae2db2",
   "metadata": {},
   "source": [
    "## Data Wrangling recap\n",
    "+ Load the datasets and combine them\n",
    "  + concatenating along the rows (you need to have the same columns)\n",
    "  + merging/joining (on the common column)\n",
    "  + appending (you need to have the same columns)\n",
    "  + have a copy\n",
    "  \n",
    "+ Explore the variables\n",
    "  + getting infos on the dataframe \n",
    "  + looking at missing data\n",
    "  + **grouping and aggregation**\n",
    "  + make also some plots\n"
   ]
  },
  {
   "cell_type": "code",
   "execution_count": 2,
   "id": "f9657689",
   "metadata": {},
   "outputs": [],
   "source": [
    "import pandas as pd"
   ]
  },
  {
   "cell_type": "markdown",
   "id": "6112b3ce",
   "metadata": {},
   "source": [
    "### Load and combining\n",
    " Load the penguins .csv files for the three years and with all penguins in one dataframe and answer the questions below."
   ]
  },
  {
   "cell_type": "code",
   "execution_count": 4,
   "id": "6adec719",
   "metadata": {},
   "outputs": [],
   "source": [
    "df1 = pd.read_csv('penguins_2007.csv')\n",
    "df2 = pd.read_csv('penguins_2008.csv')\n",
    "df3 = pd.read_csv('penguins_2009.csv')"
   ]
  },
  {
   "cell_type": "code",
   "execution_count": 11,
   "id": "4817195d",
   "metadata": {},
   "outputs": [],
   "source": [
    "dataframes = [df1, df2, df3]\n",
    "new_df = pd.concat(dataframes)\n",
    "new_df = pd.concat([df1, df2, df3])"
   ]
  },
  {
   "cell_type": "code",
   "execution_count": 20,
   "id": "ac06b6e7",
   "metadata": {},
   "outputs": [
    {
     "data": {
      "text/html": [
       "<div>\n",
       "<style scoped>\n",
       "    .dataframe tbody tr th:only-of-type {\n",
       "        vertical-align: middle;\n",
       "    }\n",
       "\n",
       "    .dataframe tbody tr th {\n",
       "        vertical-align: top;\n",
       "    }\n",
       "\n",
       "    .dataframe thead th {\n",
       "        text-align: right;\n",
       "    }\n",
       "</style>\n",
       "<table border=\"1\" class=\"dataframe\">\n",
       "  <thead>\n",
       "    <tr style=\"text-align: right;\">\n",
       "      <th></th>\n",
       "      <th>Individual ID</th>\n",
       "      <th>Species</th>\n",
       "      <th>Region</th>\n",
       "      <th>Island</th>\n",
       "      <th>Date Egg</th>\n",
       "      <th>Body Mass (g)</th>\n",
       "      <th>n_eggs</th>\n",
       "    </tr>\n",
       "  </thead>\n",
       "  <tbody>\n",
       "    <tr>\n",
       "      <th>0</th>\n",
       "      <td>N1A1</td>\n",
       "      <td>Adelie</td>\n",
       "      <td>Anvers</td>\n",
       "      <td>Torgersen</td>\n",
       "      <td>2007-11-11</td>\n",
       "      <td>3750.0</td>\n",
       "      <td>3</td>\n",
       "    </tr>\n",
       "    <tr>\n",
       "      <th>1</th>\n",
       "      <td>N1A2</td>\n",
       "      <td>Adelie</td>\n",
       "      <td>Anvers</td>\n",
       "      <td>Torgersen</td>\n",
       "      <td>2007-11-11</td>\n",
       "      <td>3800.0</td>\n",
       "      <td>2</td>\n",
       "    </tr>\n",
       "    <tr>\n",
       "      <th>2</th>\n",
       "      <td>N2A1</td>\n",
       "      <td>Adelie</td>\n",
       "      <td>Anvers</td>\n",
       "      <td>Torgersen</td>\n",
       "      <td>2007-11-16</td>\n",
       "      <td>3250.0</td>\n",
       "      <td>3</td>\n",
       "    </tr>\n",
       "    <tr>\n",
       "      <th>3</th>\n",
       "      <td>N3A1</td>\n",
       "      <td>Adelie</td>\n",
       "      <td>Anvers</td>\n",
       "      <td>Torgersen</td>\n",
       "      <td>2007-11-16</td>\n",
       "      <td>3450.0</td>\n",
       "      <td>1</td>\n",
       "    </tr>\n",
       "    <tr>\n",
       "      <th>4</th>\n",
       "      <td>N3A2</td>\n",
       "      <td>Adelie</td>\n",
       "      <td>Anvers</td>\n",
       "      <td>Torgersen</td>\n",
       "      <td>2007-11-16</td>\n",
       "      <td>3650.0</td>\n",
       "      <td>3</td>\n",
       "    </tr>\n",
       "  </tbody>\n",
       "</table>\n",
       "</div>"
      ],
      "text/plain": [
       "  Individual ID Species  Region     Island    Date Egg  Body Mass (g)  n_eggs\n",
       "0          N1A1  Adelie  Anvers  Torgersen  2007-11-11         3750.0       3\n",
       "1          N1A2  Adelie  Anvers  Torgersen  2007-11-11         3800.0       2\n",
       "2          N2A1  Adelie  Anvers  Torgersen  2007-11-16         3250.0       3\n",
       "3          N3A1  Adelie  Anvers  Torgersen  2007-11-16         3450.0       1\n",
       "4          N3A2  Adelie  Anvers  Torgersen  2007-11-16         3650.0       3"
      ]
     },
     "execution_count": 20,
     "metadata": {},
     "output_type": "execute_result"
    }
   ],
   "source": [
    "new_df.head()"
   ]
  },
  {
   "cell_type": "markdown",
   "id": "8c03b58e",
   "metadata": {},
   "source": [
    "### Explore Variables"
   ]
  },
  {
   "cell_type": "markdown",
   "id": "fef4088e",
   "metadata": {},
   "source": [
    "1. **Which species of penguins do we have?**"
   ]
  },
  {
   "cell_type": "code",
   "execution_count": 22,
   "id": "e1a5a96c",
   "metadata": {},
   "outputs": [],
   "source": [
    "species_list = new_df.Species.unique()"
   ]
  },
  {
   "cell_type": "code",
   "execution_count": null,
   "id": "9aac6de5",
   "metadata": {},
   "outputs": [],
   "source": []
  },
  {
   "cell_type": "markdown",
   "id": "64837356",
   "metadata": {},
   "source": [
    "2. **How many regions do we have?**"
   ]
  },
  {
   "cell_type": "code",
   "execution_count": 23,
   "id": "1c6ffc65",
   "metadata": {},
   "outputs": [
    {
     "data": {
      "text/plain": [
       "1"
      ]
     },
     "execution_count": 23,
     "metadata": {},
     "output_type": "execute_result"
    }
   ],
   "source": [
    "new_df.Region.nunique()"
   ]
  },
  {
   "cell_type": "markdown",
   "id": "38993e55",
   "metadata": {},
   "source": [
    "3. **How many islands do we have?**"
   ]
  },
  {
   "cell_type": "code",
   "execution_count": 25,
   "id": "aa3fb98d",
   "metadata": {},
   "outputs": [
    {
     "data": {
      "text/plain": [
       "3"
      ]
     },
     "execution_count": 25,
     "metadata": {},
     "output_type": "execute_result"
    }
   ],
   "source": [
    "new_df.Island.nunique()"
   ]
  },
  {
   "cell_type": "markdown",
   "id": "66bb90ba",
   "metadata": {},
   "source": [
    "4. **What is the Body Mass of the heaviest penguin**"
   ]
  },
  {
   "cell_type": "code",
   "execution_count": 26,
   "id": "3a98f4d2",
   "metadata": {},
   "outputs": [
    {
     "data": {
      "text/plain": [
       "6300.0"
      ]
     },
     "execution_count": 26,
     "metadata": {},
     "output_type": "execute_result"
    }
   ],
   "source": [
    "new_df['Body Mass (g)'].max()"
   ]
  },
  {
   "cell_type": "markdown",
   "id": "d3448b5a",
   "metadata": {},
   "source": [
    "5. **What is the species of that heaviest penguin?**"
   ]
  },
  {
   "cell_type": "code",
   "execution_count": 27,
   "id": "18c44fca",
   "metadata": {},
   "outputs": [
    {
     "data": {
      "text/plain": [
       "Body Mass (g)    6300.0\n",
       "Species          Gentoo\n",
       "dtype: object"
      ]
     },
     "execution_count": 27,
     "metadata": {},
     "output_type": "execute_result"
    }
   ],
   "source": [
    "new_df[['Body Mass (g)', 'Species']].max()"
   ]
  },
  {
   "cell_type": "code",
   "execution_count": 61,
   "id": "a557ea6b",
   "metadata": {},
   "outputs": [
    {
     "data": {
      "text/plain": [
       "Body Mass (g)    6300.0\n",
       "Species          Gentoo\n",
       "dtype: object"
      ]
     },
     "execution_count": 61,
     "metadata": {},
     "output_type": "execute_result"
    }
   ],
   "source": [
    "new_df[['Body Mass (g)', 'Species']].max()"
   ]
  },
  {
   "cell_type": "code",
   "execution_count": 63,
   "id": "9a78fa29",
   "metadata": {},
   "outputs": [
    {
     "data": {
      "text/plain": [
       "Year\n",
       "2007    Gentoo\n",
       "Name: Species, dtype: object"
      ]
     },
     "execution_count": 63,
     "metadata": {},
     "output_type": "execute_result"
    }
   ],
   "source": [
    "new_df.loc[new_df['Body Mass (g)'] == new_df['Body Mass (g)'].max(), 'Species']"
   ]
  },
  {
   "cell_type": "code",
   "execution_count": null,
   "id": "2d22e3c2",
   "metadata": {},
   "outputs": [],
   "source": []
  },
  {
   "cell_type": "markdown",
   "id": "e3d70709",
   "metadata": {},
   "source": [
    "6. **How many penguins from each species do we have in each island?**"
   ]
  },
  {
   "cell_type": "code",
   "execution_count": 32,
   "id": "a065332f",
   "metadata": {},
   "outputs": [
    {
     "data": {
      "text/html": [
       "<div>\n",
       "<style scoped>\n",
       "    .dataframe tbody tr th:only-of-type {\n",
       "        vertical-align: middle;\n",
       "    }\n",
       "\n",
       "    .dataframe tbody tr th {\n",
       "        vertical-align: top;\n",
       "    }\n",
       "\n",
       "    .dataframe thead th {\n",
       "        text-align: right;\n",
       "    }\n",
       "</style>\n",
       "<table border=\"1\" class=\"dataframe\">\n",
       "  <thead>\n",
       "    <tr style=\"text-align: right;\">\n",
       "      <th></th>\n",
       "      <th></th>\n",
       "      <th>Individual ID</th>\n",
       "      <th>Region</th>\n",
       "      <th>Date Egg</th>\n",
       "      <th>Body Mass (g)</th>\n",
       "      <th>n_eggs</th>\n",
       "    </tr>\n",
       "    <tr>\n",
       "      <th>Island</th>\n",
       "      <th>Species</th>\n",
       "      <th></th>\n",
       "      <th></th>\n",
       "      <th></th>\n",
       "      <th></th>\n",
       "      <th></th>\n",
       "    </tr>\n",
       "  </thead>\n",
       "  <tbody>\n",
       "    <tr>\n",
       "      <th rowspan=\"2\" valign=\"top\">Biscoe</th>\n",
       "      <th>Adelie</th>\n",
       "      <td>44</td>\n",
       "      <td>44</td>\n",
       "      <td>44</td>\n",
       "      <td>44</td>\n",
       "      <td>44</td>\n",
       "    </tr>\n",
       "    <tr>\n",
       "      <th>Gentoo</th>\n",
       "      <td>123</td>\n",
       "      <td>123</td>\n",
       "      <td>123</td>\n",
       "      <td>123</td>\n",
       "      <td>123</td>\n",
       "    </tr>\n",
       "    <tr>\n",
       "      <th rowspan=\"2\" valign=\"top\">Dream</th>\n",
       "      <th>Adelie</th>\n",
       "      <td>56</td>\n",
       "      <td>56</td>\n",
       "      <td>56</td>\n",
       "      <td>56</td>\n",
       "      <td>56</td>\n",
       "    </tr>\n",
       "    <tr>\n",
       "      <th>Chinstrap</th>\n",
       "      <td>68</td>\n",
       "      <td>68</td>\n",
       "      <td>68</td>\n",
       "      <td>68</td>\n",
       "      <td>68</td>\n",
       "    </tr>\n",
       "    <tr>\n",
       "      <th>Torgersen</th>\n",
       "      <th>Adelie</th>\n",
       "      <td>51</td>\n",
       "      <td>51</td>\n",
       "      <td>51</td>\n",
       "      <td>51</td>\n",
       "      <td>51</td>\n",
       "    </tr>\n",
       "  </tbody>\n",
       "</table>\n",
       "</div>"
      ],
      "text/plain": [
       "                     Individual ID  Region  Date Egg  Body Mass (g)  n_eggs\n",
       "Island    Species                                                          \n",
       "Biscoe    Adelie                44      44        44             44      44\n",
       "          Gentoo               123     123       123            123     123\n",
       "Dream     Adelie                56      56        56             56      56\n",
       "          Chinstrap             68      68        68             68      68\n",
       "Torgersen Adelie                51      51        51             51      51"
      ]
     },
     "execution_count": 32,
     "metadata": {},
     "output_type": "execute_result"
    }
   ],
   "source": [
    "new_df.groupby(['Island', 'Species']).count()"
   ]
  },
  {
   "cell_type": "markdown",
   "id": "fea51444",
   "metadata": {},
   "source": [
    "7. **How has the number of eggs changed per year?**"
   ]
  },
  {
   "cell_type": "markdown",
   "id": "9f803c3b",
   "metadata": {},
   "source": [
    "First create a column `df['Year']`"
   ]
  },
  {
   "cell_type": "code",
   "execution_count": 33,
   "id": "b296fa48",
   "metadata": {},
   "outputs": [
    {
     "data": {
      "text/plain": [
       "Index(['Individual ID', 'Species', 'Region', 'Island', 'Date Egg',\n",
       "       'Body Mass (g)', 'n_eggs'],\n",
       "      dtype='object')"
      ]
     },
     "execution_count": 33,
     "metadata": {},
     "output_type": "execute_result"
    }
   ],
   "source": [
    "new_df.columns"
   ]
  },
  {
   "cell_type": "code",
   "execution_count": 36,
   "id": "9fa8d1b6",
   "metadata": {},
   "outputs": [],
   "source": [
    "new_df[\"Year\"] = pd.to_datetime(new_df['Date Egg']).dt.year"
   ]
  },
  {
   "cell_type": "code",
   "execution_count": 39,
   "id": "50197f07",
   "metadata": {},
   "outputs": [],
   "source": [
    "new_df.set_index('Year', inplace=True)"
   ]
  },
  {
   "cell_type": "code",
   "execution_count": null,
   "id": "eac7b4c2",
   "metadata": {},
   "outputs": [],
   "source": []
  },
  {
   "cell_type": "code",
   "execution_count": 66,
   "id": "c0eab3ac",
   "metadata": {},
   "outputs": [
    {
     "data": {
      "text/plain": [
       "<AxesSubplot:xlabel='Year'>"
      ]
     },
     "execution_count": 66,
     "metadata": {},
     "output_type": "execute_result"
    },
    {
     "data": {
      "image/png": "[encoded data removed]",
      "text/plain": [
       "<Figure size 432x288 with 1 Axes>"
      ]
     },
     "metadata": {
      "needs_background": "light"
     },
     "output_type": "display_data"
    }
   ],
   "source": [
    "new_df.groupby('Year')['n_eggs'].sum().plot(kind='bar')"
   ]
  },
  {
   "cell_type": "code",
   "execution_count": 67,
   "id": "a1ecbc05",
   "metadata": {},
   "outputs": [
    {
     "data": {
      "text/plain": [
       "Year\n",
       "2007     NaN\n",
       "2008     8.0\n",
       "2009    30.0\n",
       "Name: n_eggs, dtype: float64"
      ]
     },
     "execution_count": 67,
     "metadata": {},
     "output_type": "execute_result"
    }
   ],
   "source": [
    "new_df.groupby('Year')['n_eggs'].sum().diff()"
   ]
  },
  {
   "cell_type": "code",
   "execution_count": 68,
   "id": "33c0075f",
   "metadata": {},
   "outputs": [
    {
     "data": {
      "text/plain": [
       "Year\n",
       "2007         NaN\n",
       "2008    0.036866\n",
       "2009    0.133333\n",
       "Name: n_eggs, dtype: float64"
      ]
     },
     "execution_count": 68,
     "metadata": {},
     "output_type": "execute_result"
    }
   ],
   "source": [
    "new_df.groupby('Year')['n_eggs'].sum().pct_change()"
   ]
  },
  {
   "cell_type": "markdown",
   "id": "22a32c8e",
   "metadata": {},
   "source": [
    "8. **Which is the change in Body Mass (g) for the penguins**\n",
    "\n",
    "For each individual, in case there's more than one entry per penguin with the same `Individual ID`. You can use the helper function."
   ]
  },
  {
   "cell_type": "code",
   "execution_count": null,
   "id": "e304844a",
   "metadata": {},
   "outputs": [],
   "source": [
    "def get_change(x):\n",
    "    return x.max() - x.min()"
   ]
  },
  {
   "cell_type": "code",
   "execution_count": null,
   "id": "16c74e71",
   "metadata": {},
   "outputs": [],
   "source": [
    "bodymasschange = df.groupby(\"___\")[\"___\"].transform(___)"
   ]
  }
 ],
 "metadata": {
  "hide_input": false,
  "kernelspec": {
   "display_name": "Python 3 (ipykernel)",
   "language": "python",
   "name": "python3"
  },
  "language_info": {
   "codemirror_mode": {
    "name": "ipython",
    "version": 3
   },
   "file_extension": ".py",
   "mimetype": "text/x-python",
   "name": "python",
   "nbconvert_exporter": "python",
   "pygments_lexer": "ipython3",
   "version": "3.9.7"
  },
  "latex_envs": {
   "LaTeX_envs_menu_present": true,
   "autoclose": false,
   "autocomplete": true,
   "bibliofile": "biblio.bib",
   "cite_by": "apalike",
   "current_citInitial": 1,
   "eqLabelWithNumbers": true,
   "eqNumInitial": 1,
   "hotkeys": {
    "equation": "Ctrl-E",
    "itemize": "Ctrl-I"
   },
   "labels_anchors": false,
   "latex_user_defs": false,
   "report_style_numbering": false,
   "user_envs_cfg": false
  },
  "nbTranslate": {
   "displayLangs": [
    "*"
   ],
   "hotkey": "alt-t",
   "langInMainMenu": true,
   "sourceLang": "en",
   "targetLang": "fr",
   "useGoogleTranslate": true
  },
  "toc": {
   "base_numbering": 1,
   "nav_menu": {},
   "number_sections": false,
   "sideBar": true,
   "skip_h1_title": false,
   "title_cell": "Table of Contents",
   "title_sidebar": "Contents",
   "toc_cell": false,
   "toc_position": {},
   "toc_section_display": true,
   "toc_window_display": false
  },
  "varInspector": {
   "cols": {
    "lenName": 16,
    "lenType": 16,
    "lenVar": 40
   },
   "kernels_config": {
    "python": {
     "delete_cmd_postfix": "",
     "delete_cmd_prefix": "del ",
     "library": "var_list.py",
     "varRefreshCmd": "print(var_dic_list())"
    },
    "r": {
     "delete_cmd_postfix": ") ",
     "delete_cmd_prefix": "rm(",
     "library": "var_list.r",
     "varRefreshCmd": "cat(var_dic_list()) "
    }
   },
   "types_to_exclude": [
    "module",
    "function",
    "builtin_function_or_method",
    "instance",
    "_Feature"
   ],
   "window_display": false
  }
 },
 "nbformat": 4,
 "nbformat_minor": 5
}

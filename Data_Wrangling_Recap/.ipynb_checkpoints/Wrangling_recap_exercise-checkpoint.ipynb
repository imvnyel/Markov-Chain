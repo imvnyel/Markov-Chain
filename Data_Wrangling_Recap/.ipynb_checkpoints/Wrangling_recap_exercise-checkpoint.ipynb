{
 "cells": [
  {
   "cell_type": "markdown",
   "id": "40ae2db2",
   "metadata": {},
   "source": [
    "## Data Wrangling recap\n",
    "+ Load the datasets and combine them\n",
    "  + concatenating along the rows (you need to have the same columns)\n",
    "  + merging/joining (on the common column)\n",
    "  + appending (you need to have the same columns)\n",
    "  + have a copy\n",
    "  \n",
    "+ Explore the variables\n",
    "  + getting infos on the dataframe \n",
    "  + looking at missing data\n",
    "  + **grouping and aggregation**\n",
    "  + make also some plots\n"
   ]
  },
  {
   "cell_type": "code",
   "execution_count": 2,
   "id": "f9657689",
   "metadata": {},
   "outputs": [],
   "source": [
    "import pandas as pd"
   ]
  },
  {
   "cell_type": "markdown",
   "id": "6112b3ce",
   "metadata": {},
   "source": [
    "### Load and combining\n",
    " Load the penguins .csv files for the three years and with all penguins in one dataframe and answer the questions below."
   ]
  },
  {
   "cell_type": "code",
   "execution_count": 4,
   "id": "6adec719",
   "metadata": {},
   "outputs": [],
   "source": [
    "df1 = pd.read_csv('penguins_2007.csv')\n",
    "df2 = pd.read_csv('penguins_2008.csv')\n",
    "df3 = pd.read_csv('penguins_2009.csv')"
   ]
  },
  {
   "cell_type": "code",
   "execution_count": 7,
   "id": "4817195d",
   "metadata": {},
   "outputs": [
    {
     "data": {
      "text/html": [
       "<div>\n",
       "<style scoped>\n",
       "    .dataframe tbody tr th:only-of-type {\n",
       "        vertical-align: middle;\n",
       "    }\n",
       "\n",
       "    .dataframe tbody tr th {\n",
       "        vertical-align: top;\n",
       "    }\n",
       "\n",
       "    .dataframe thead th {\n",
       "        text-align: right;\n",
       "    }\n",
       "</style>\n",
       "<table border=\"1\" class=\"dataframe\">\n",
       "  <thead>\n",
       "    <tr style=\"text-align: right;\">\n",
       "      <th></th>\n",
       "      <th>Individual ID</th>\n",
       "      <th>Species</th>\n",
       "      <th>Region</th>\n",
       "      <th>Island</th>\n",
       "      <th>Date Egg</th>\n",
       "      <th>Body Mass (g)</th>\n",
       "      <th>n_eggs</th>\n",
       "    </tr>\n",
       "  </thead>\n",
       "  <tbody>\n",
       "    <tr>\n",
       "      <th>0</th>\n",
       "      <td>N47A1</td>\n",
       "      <td>Adelie</td>\n",
       "      <td>Anvers</td>\n",
       "      <td>Biscoe</td>\n",
       "      <td>11/9/09</td>\n",
       "      <td>3725.0</td>\n",
       "      <td>3</td>\n",
       "    </tr>\n",
       "    <tr>\n",
       "      <th>1</th>\n",
       "      <td>N47A2</td>\n",
       "      <td>Adelie</td>\n",
       "      <td>Anvers</td>\n",
       "      <td>Biscoe</td>\n",
       "      <td>11/9/09</td>\n",
       "      <td>4725.0</td>\n",
       "      <td>2</td>\n",
       "    </tr>\n",
       "    <tr>\n",
       "      <th>2</th>\n",
       "      <td>N49A1</td>\n",
       "      <td>Adelie</td>\n",
       "      <td>Anvers</td>\n",
       "      <td>Biscoe</td>\n",
       "      <td>11/15/09</td>\n",
       "      <td>3075.0</td>\n",
       "      <td>3</td>\n",
       "    </tr>\n",
       "    <tr>\n",
       "      <th>3</th>\n",
       "      <td>N49A2</td>\n",
       "      <td>Adelie</td>\n",
       "      <td>Anvers</td>\n",
       "      <td>Biscoe</td>\n",
       "      <td>11/15/09</td>\n",
       "      <td>4250.0</td>\n",
       "      <td>3</td>\n",
       "    </tr>\n",
       "    <tr>\n",
       "      <th>4</th>\n",
       "      <td>N51A1</td>\n",
       "      <td>Adelie</td>\n",
       "      <td>Anvers</td>\n",
       "      <td>Biscoe</td>\n",
       "      <td>11/15/09</td>\n",
       "      <td>2925.0</td>\n",
       "      <td>2</td>\n",
       "    </tr>\n",
       "  </tbody>\n",
       "</table>\n",
       "</div>"
      ],
      "text/plain": [
       "  Individual ID Species  Region  Island  Date Egg  Body Mass (g)  n_eggs\n",
       "0         N47A1  Adelie  Anvers  Biscoe   11/9/09         3725.0       3\n",
       "1         N47A2  Adelie  Anvers  Biscoe   11/9/09         4725.0       2\n",
       "2         N49A1  Adelie  Anvers  Biscoe  11/15/09         3075.0       3\n",
       "3         N49A2  Adelie  Anvers  Biscoe  11/15/09         4250.0       3\n",
       "4         N51A1  Adelie  Anvers  Biscoe  11/15/09         2925.0       2"
      ]
     },
     "execution_count": 7,
     "metadata": {},
     "output_type": "execute_result"
    }
   ],
   "source": [
    "df1.head()\n",
    "df2.head()\n",
    "df3.head()"
   ]
  },
  {
   "cell_type": "code",
   "execution_count": null,
   "id": "ac06b6e7",
   "metadata": {},
   "outputs": [],
   "source": []
  },
  {
   "cell_type": "markdown",
   "id": "8c03b58e",
   "metadata": {},
   "source": [
    "### Explore Variables"
   ]
  },
  {
   "cell_type": "markdown",
   "id": "fef4088e",
   "metadata": {},
   "source": [
    "1. **Which species of penguins do we have?**"
   ]
  },
  {
   "cell_type": "code",
   "execution_count": null,
   "id": "e1a5a96c",
   "metadata": {},
   "outputs": [],
   "source": []
  },
  {
   "cell_type": "code",
   "execution_count": null,
   "id": "9aac6de5",
   "metadata": {},
   "outputs": [],
   "source": []
  },
  {
   "cell_type": "markdown",
   "id": "64837356",
   "metadata": {},
   "source": [
    "2. **How many regions do we have?**"
   ]
  },
  {
   "cell_type": "code",
   "execution_count": null,
   "id": "1c6ffc65",
   "metadata": {},
   "outputs": [],
   "source": []
  },
  {
   "cell_type": "markdown",
   "id": "38993e55",
   "metadata": {},
   "source": [
    "3. **How many islands do we have?**"
   ]
  },
  {
   "cell_type": "code",
   "execution_count": null,
   "id": "aa3fb98d",
   "metadata": {},
   "outputs": [],
   "source": []
  },
  {
   "cell_type": "markdown",
   "id": "66bb90ba",
   "metadata": {},
   "source": [
    "4. **What is the Body Mass of the heaviest penguin**"
   ]
  },
  {
   "cell_type": "code",
   "execution_count": null,
   "id": "3a98f4d2",
   "metadata": {},
   "outputs": [],
   "source": []
  },
  {
   "cell_type": "markdown",
   "id": "d3448b5a",
   "metadata": {},
   "source": [
    "5. **What is the species of that heaviest penguin?**"
   ]
  },
  {
   "cell_type": "code",
   "execution_count": null,
   "id": "18c44fca",
   "metadata": {},
   "outputs": [],
   "source": []
  },
  {
   "cell_type": "code",
   "execution_count": null,
   "id": "9a78fa29",
   "metadata": {},
   "outputs": [],
   "source": []
  },
  {
   "cell_type": "code",
   "execution_count": null,
   "id": "2d22e3c2",
   "metadata": {},
   "outputs": [],
   "source": []
  },
  {
   "cell_type": "markdown",
   "id": "e3d70709",
   "metadata": {},
   "source": [
    "6. **How many penguins from each species do we have in each island?**"
   ]
  },
  {
   "cell_type": "code",
   "execution_count": null,
   "id": "a065332f",
   "metadata": {},
   "outputs": [],
   "source": []
  },
  {
   "cell_type": "markdown",
   "id": "fea51444",
   "metadata": {},
   "source": [
    "7. **How has the number of eggs changed per year?**"
   ]
  },
  {
   "cell_type": "markdown",
   "id": "9f803c3b",
   "metadata": {},
   "source": [
    "First create a column `df['Year']`"
   ]
  },
  {
   "cell_type": "code",
   "execution_count": null,
   "id": "9fa8d1b6",
   "metadata": {},
   "outputs": [],
   "source": [
    "df[\"Year\"] = pd.to_datetime(df[___]).__.___"
   ]
  },
  {
   "cell_type": "code",
   "execution_count": null,
   "id": "50197f07",
   "metadata": {},
   "outputs": [],
   "source": []
  },
  {
   "cell_type": "markdown",
   "id": "22a32c8e",
   "metadata": {},
   "source": [
    "8. **Which is the change in Body Mass (g) for the penguins**\n",
    "\n",
    "For each individual, in case there's more than one entry per penguin with the same `Individual ID`. You can use the helper function."
   ]
  },
  {
   "cell_type": "code",
   "execution_count": null,
   "id": "e304844a",
   "metadata": {},
   "outputs": [],
   "source": [
    "def get_change(x):\n",
    "    return x.max() - x.min()"
   ]
  },
  {
   "cell_type": "code",
   "execution_count": null,
   "id": "16c74e71",
   "metadata": {},
   "outputs": [],
   "source": [
    "bodymasschange = df.groupby(\"___\")[\"___\"].transform(___)"
   ]
  }
 ],
 "metadata": {
  "hide_input": false,
  "kernelspec": {
   "display_name": "Python 3 (ipykernel)",
   "language": "python",
   "name": "python3"
  },
  "language_info": {
   "codemirror_mode": {
    "name": "ipython",
    "version": 3
   },
   "file_extension": ".py",
   "mimetype": "text/x-python",
   "name": "python",
   "nbconvert_exporter": "python",
   "pygments_lexer": "ipython3",
   "version": "3.9.7"
  },
  "latex_envs": {
   "LaTeX_envs_menu_present": true,
   "autoclose": false,
   "autocomplete": true,
   "bibliofile": "biblio.bib",
   "cite_by": "apalike",
   "current_citInitial": 1,
   "eqLabelWithNumbers": true,
   "eqNumInitial": 1,
   "hotkeys": {
    "equation": "Ctrl-E",
    "itemize": "Ctrl-I"
   },
   "labels_anchors": false,
   "latex_user_defs": false,
   "report_style_numbering": false,
   "user_envs_cfg": false
  },
  "nbTranslate": {
   "displayLangs": [
    "*"
   ],
   "hotkey": "alt-t",
   "langInMainMenu": true,
   "sourceLang": "en",
   "targetLang": "fr",
   "useGoogleTranslate": true
  },
  "toc": {
   "base_numbering": 1,
   "nav_menu": {},
   "number_sections": false,
   "sideBar": true,
   "skip_h1_title": false,
   "title_cell": "Table of Contents",
   "title_sidebar": "Contents",
   "toc_cell": false,
   "toc_position": {},
   "toc_section_display": true,
   "toc_window_display": false
  },
  "varInspector": {
   "cols": {
    "lenName": 16,
    "lenType": 16,
    "lenVar": 40
   },
   "kernels_config": {
    "python": {
     "delete_cmd_postfix": "",
     "delete_cmd_prefix": "del ",
     "library": "var_list.py",
     "varRefreshCmd": "print(var_dic_list())"
    },
    "r": {
     "delete_cmd_postfix": ") ",
     "delete_cmd_prefix": "rm(",
     "library": "var_list.r",
     "varRefreshCmd": "cat(var_dic_list()) "
    }
   },
   "types_to_exclude": [
    "module",
    "function",
    "builtin_function_or_method",
    "instance",
    "_Feature"
   ],
   "window_display": false
  }
 },
 "nbformat": 4,
 "nbformat_minor": 5
}

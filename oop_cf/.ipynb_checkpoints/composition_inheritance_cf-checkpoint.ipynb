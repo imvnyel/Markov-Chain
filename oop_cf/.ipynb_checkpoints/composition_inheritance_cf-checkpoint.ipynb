{
 "cells": [
  {
   "cell_type": "markdown",
   "id": "9befb1c3",
   "metadata": {},
   "source": [
    "# Composition and Inheritance"
   ]
  },
  {
   "cell_type": "markdown",
   "id": "b5e5ee7d",
   "metadata": {},
   "source": [
    "## Warmup - Fix all the bugs"
   ]
  },
  {
   "cell_type": "code",
   "execution_count": null,
   "id": "74311810",
   "metadata": {},
   "outputs": [],
   "source": [
    "#Fix all the bugs:\n",
    "class Animal():\n",
    "\n",
    "    def __init__(self, name, sound):\n",
    "        self.name = name\n",
    "        self.sound = sound\n",
    "\n",
    "    def sound(self):\n",
    "        print(f'{self.sound.upper()}!!')\n",
    "\n",
    "croc = Animal(self, 'crocodile', 'snap!')\n",
    "croc.sound()\n"
   ]
  },
  {
   "cell_type": "markdown",
   "id": "d0f89b23",
   "metadata": {
    "heading_collapsed": true
   },
   "source": [
    "## Recap"
   ]
  },
  {
   "cell_type": "code",
   "execution_count": null,
   "id": "1fdafb11",
   "metadata": {
    "hidden": true
   },
   "outputs": [],
   "source": [
    "class Dinosaur():\n",
    "    \"A class to simulate a dinosaur\"\n",
    "    \n",
    "    def __init__(self, dino_name, dino_species, is_carnivore=True):\n",
    "        self.name = name\n",
    "        self.species = dino_species\n",
    "        self.is_carnivore = is_carnivore\n",
    "        self.number_of_eggs = 0\n",
    "    \n",
    "    \n",
    "    def __repr__(self):\n",
    "        return f\"A {self.species} named {self.name} with {self.number_of_eggs} eggs. Is carnivore: {self.is_carnivore}.\"\n",
    "    \n",
    "    def lay_eggs(self, number_of_laid_eggs=1):\n",
    "        self.number_of_eggs += number_of_laid_eggs\n",
    "        print(f\"{self.name} has laid {number_of_laid_eggs} egg(s) and now has {self.number_of_eggs}.\")\n",
    "    \n",
    "    "
   ]
  },
  {
   "cell_type": "code",
   "execution_count": null,
   "id": "3609276d",
   "metadata": {
    "hidden": true
   },
   "outputs": [],
   "source": []
  },
  {
   "cell_type": "code",
   "execution_count": null,
   "id": "5befb21d",
   "metadata": {
    "hidden": true
   },
   "outputs": [],
   "source": []
  },
  {
   "cell_type": "markdown",
   "id": "e6a79ba2",
   "metadata": {
    "hidden": true
   },
   "source": [
    "Some useful methods:"
   ]
  },
  {
   "cell_type": "code",
   "execution_count": null,
   "id": "ff10aaa2",
   "metadata": {
    "hidden": true
   },
   "outputs": [],
   "source": [
    "#type()"
   ]
  },
  {
   "cell_type": "code",
   "execution_count": null,
   "id": "017adb16",
   "metadata": {
    "hidden": true
   },
   "outputs": [],
   "source": [
    "#dir()\n"
   ]
  },
  {
   "cell_type": "code",
   "execution_count": null,
   "id": "7f5cad3f",
   "metadata": {
    "hidden": true
   },
   "outputs": [],
   "source": [
    "#isinstance()"
   ]
  },
  {
   "cell_type": "markdown",
   "id": "2b7c9758",
   "metadata": {
    "heading_collapsed": true
   },
   "source": [
    "## Composition "
   ]
  },
  {
   "cell_type": "markdown",
   "id": "fbd710db",
   "metadata": {
    "hidden": true
   },
   "source": [
    "This is when one class has **instances of another class as attibutes**. This can be a **one-to-many** or a **one-to-one** relationship.\n",
    "\n",
    "You can think about the relationship in terms of **\"has a\"** - a car has an engine, a zoo has some animals etc.\n"
   ]
  },
  {
   "cell_type": "code",
   "execution_count": null,
   "id": "93f1d65d",
   "metadata": {
    "hidden": true
   },
   "outputs": [],
   "source": [
    "class JurassicPark():\n",
    "    \"\"\"Your scientists were so preoccupied with whether they could, they didn't stop to think if they should.\"\"\"\n",
    "    \n",
    "    # initialise our park to be empty\n",
    "    \n",
    "    \n",
    "    \n",
    "    # make a method to add a dinosaur that we know\n",
    "    \n",
    "    # can use assert and isinstance to check that we only add \n",
    "    "
   ]
  },
  {
   "cell_type": "markdown",
   "id": "f688529a",
   "metadata": {
    "heading_collapsed": true
   },
   "source": [
    "## Inheritance"
   ]
  },
  {
   "cell_type": "markdown",
   "id": "96e5bbf8",
   "metadata": {
    "hidden": true
   },
   "source": [
    "What if we want to make a new class that is a **special case** or **extension** of another class? \n",
    "\n",
    "We can say that a **child class** can **inherit** from a **parent class** (aka. **superclass**). This is useful if you have some code you want to reuse from a more general case to a more specific one.\n",
    "\n",
    "You can think of this relationship in terms of **is a**: a dog is an animal, a manager is an employee, etc.\n"
   ]
  },
  {
   "cell_type": "markdown",
   "id": "0f096353",
   "metadata": {
    "hidden": true
   },
   "source": [
    "**Remember our dinosaur class?**"
   ]
  },
  {
   "cell_type": "code",
   "execution_count": null,
   "id": "8a985e18",
   "metadata": {
    "hidden": true
   },
   "outputs": [],
   "source": [
    "class Dinosaur():\n",
    "    \"A class to simulate a dinosaur\"\n",
    "    \n",
    "    def __init__(self, dino_name, dino_species, is_carnivore=True):\n",
    "        self.name = name\n",
    "        self.species = dino_species\n",
    "        self.is_carnivore = is_carnivore\n",
    "        self.number_of_eggs = 0\n",
    "    \n",
    "    \n",
    "    def __repr__(self):\n",
    "        return f\"A {self.species} named {self.name} with {self.number_of_eggs} eggs. Is carnivore: {self.is_carnivore}.\"\n",
    "    \n",
    "    def lay_eggs(self, number_of_laid_eggs=1):\n",
    "        self.number_of_eggs += number_of_laid_eggs\n",
    "        print(f\"{self.name} has laid {number_of_laid_eggs} egg(s) and now has {self.number_of_eggs}.\")\n",
    "    \n",
    "    "
   ]
  },
  {
   "cell_type": "markdown",
   "id": "7ce06226",
   "metadata": {
    "hidden": true
   },
   "source": [
    "Suppose now we want to model a pterodactyl. It is pretty fundamental to incorporate the fact that it has wings and can fly. Otherwise it is a dinosaur like all other dinosaurs and has all the things that a general case dinosaur has too. We can basically reuse our code and add some things to it: \n",
    "   - `wingspan` attribute\n",
    "   - `fly_away` method\n",
    "   \n",
    "To reuse the code we can use **inheritance**:"
   ]
  },
  {
   "cell_type": "code",
   "execution_count": null,
   "id": "95955912",
   "metadata": {
    "hidden": true
   },
   "outputs": [],
   "source": []
  },
  {
   "cell_type": "markdown",
   "id": "e3e62a4e",
   "metadata": {
    "hidden": true
   },
   "source": [
    "To reuse the attributes from the super class we can use `super()` built-in function:"
   ]
  },
  {
   "cell_type": "code",
   "execution_count": null,
   "id": "788bf83a",
   "metadata": {
    "hidden": true
   },
   "outputs": [],
   "source": []
  },
  {
   "cell_type": "markdown",
   "id": "7e6e8413",
   "metadata": {
    "hidden": true
   },
   "source": [
    "We can overwrite methods and attributes from the parent class, or reuse them in the child class."
   ]
  },
  {
   "cell_type": "code",
   "execution_count": null,
   "id": "95956e9c",
   "metadata": {
    "hidden": true
   },
   "outputs": [],
   "source": []
  },
  {
   "cell_type": "code",
   "execution_count": null,
   "id": "f8f983f0",
   "metadata": {
    "hidden": true
   },
   "outputs": [],
   "source": [
    "#.mro() "
   ]
  },
  {
   "cell_type": "markdown",
   "id": "2c9a8447",
   "metadata": {
    "hidden": true
   },
   "source": []
  }
 ],
 "metadata": {
  "hide_input": false,
  "kernelspec": {
   "display_name": "Python 3 (ipykernel)",
   "language": "python",
   "name": "python3"
  },
  "language_info": {
   "codemirror_mode": {
    "name": "ipython",
    "version": 3
   },
   "file_extension": ".py",
   "mimetype": "text/x-python",
   "name": "python",
   "nbconvert_exporter": "python",
   "pygments_lexer": "ipython3",
   "version": "3.9.7"
  },
  "toc": {
   "base_numbering": 1,
   "nav_menu": {},
   "number_sections": false,
   "sideBar": true,
   "skip_h1_title": true,
   "title_cell": "Table of Contents",
   "title_sidebar": "Contents",
   "toc_cell": false,
   "toc_position": {
    "height": "calc(100% - 180px)",
    "left": "10px",
    "top": "150px",
    "width": "198.2px"
   },
   "toc_section_display": true,
   "toc_window_display": false
  },
  "varInspector": {
   "cols": {
    "lenName": 16,
    "lenType": 16,
    "lenVar": 40
   },
   "kernels_config": {
    "python": {
     "delete_cmd_postfix": "",
     "delete_cmd_prefix": "del ",
     "library": "var_list.py",
     "varRefreshCmd": "print(var_dic_list())"
    },
    "r": {
     "delete_cmd_postfix": ") ",
     "delete_cmd_prefix": "rm(",
     "library": "var_list.r",
     "varRefreshCmd": "cat(var_dic_list()) "
    }
   },
   "types_to_exclude": [
    "module",
    "function",
    "builtin_function_or_method",
    "instance",
    "_Feature"
   ],
   "window_display": false
  }
 },
 "nbformat": 4,
 "nbformat_minor": 5
}

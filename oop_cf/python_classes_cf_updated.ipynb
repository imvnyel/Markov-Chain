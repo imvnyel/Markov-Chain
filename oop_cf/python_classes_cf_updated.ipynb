{
 "cells": [
  {
   "cell_type": "markdown",
   "id": "5f3e8d8e",
   "metadata": {
    "slideshow": {
     "slide_type": "slide"
    }
   },
   "source": [
    "# Object Oriented Programming - Classes in Python"
   ]
  },
  {
   "cell_type": "markdown",
   "id": "56af7b4f",
   "metadata": {},
   "source": [
    "![dino_vs_unicorn.jpg](dino_vs_unicorn.jpg)\n",
    "[source](https://www.brandinginasia.com/when-a-t-rex-does-battle-with-a-unicorn-in-your-home-you-better-have-insurance/)"
   ]
  },
  {
   "cell_type": "markdown",
   "id": "488bb599",
   "metadata": {},
   "source": [
    "## Agenda:\n"
   ]
  },
  {
   "cell_type": "markdown",
   "id": "68cecc91",
   "metadata": {},
   "source": [
    "**Today:**\n",
    "- What is Object Oriented Programming?\n",
    "- What are classes?\n",
    "- An example of making custom classes using Dinoraurs and Unicorns - and making them interact\n",
    "\n",
    "**Tomorrow:**\n",
    "- Composition (aka. a unicorn ***has a*** horn)\n",
    "- Inheritance (aka. a pterosaurus ***is a*** dinosaur that can also fly)"
   ]
  },
  {
   "cell_type": "markdown",
   "id": "2003cfbc",
   "metadata": {
    "slideshow": {
     "slide_type": "slide"
    }
   },
   "source": [
    "## What is OOP? "
   ]
  },
  {
   "cell_type": "markdown",
   "id": "95c277d6",
   "metadata": {
    "slideshow": {
     "slide_type": "subslide"
    }
   },
   "source": [
    "**Programming paradigm** based on the concept of **objects**:\n",
    "> Programs are designed by making them out of objects that interact with each other\n",
    "\n",
    "\n",
    "- Python supports object-oriented programming, isn't strictly an OOP language\n",
    "- We have been using and seeing examples of this every day, everything in Python is an object!\n",
    "    - `type()` function tells you what sort of object something is"
   ]
  },
  {
   "cell_type": "markdown",
   "id": "7c8ab2c7",
   "metadata": {},
   "source": [
    "- Bonus: [4 Pillars of OOP](https://medium.com/swlh/the-4-pillars-of-oop-in-python-9daaca4c0d13) - Abstraction, Encapsulation, Inheritance, Polymorphism\n",
    "- [Steve Jobs on OOP](http://www.edibleapple.com/2011/10/29/steve-jobs-explains-object-oriented-programming/)"
   ]
  },
  {
   "cell_type": "markdown",
   "id": "0004e8a0",
   "metadata": {
    "slideshow": {
     "slide_type": "slide"
    }
   },
   "source": [
    "## Classes"
   ]
  },
  {
   "cell_type": "markdown",
   "id": "afbb04de",
   "metadata": {
    "slideshow": {
     "slide_type": "slide"
    }
   },
   "source": [
    "![oop_simple.png](oop_simple.png)"
   ]
  },
  {
   "cell_type": "markdown",
   "id": "964b73ed",
   "metadata": {
    "slideshow": {
     "slide_type": "slide"
    }
   },
   "source": [
    "**Classes** are the basis of OOP (not only in Python).\n",
    "\n",
    "- A class is like the **blueprint** or general case of our object. \n",
    "- A class can have multiple **instances** which are specific examples that exist of that class.\n",
    "- A class instance can have **attributes** and **methods**\n",
    "    - An instance of a class can store **data** as **attributes**. The attributes are used to describe the **state** of the instance.\n",
    "        - Syntax: `objectname.attributename`\n",
    "    - **Functions** contained in a class are called **methods**. They can be used to alter the state of the object or let the object do something\n",
    "        - Syntax: `objectname.methodname()`\n",
    "    "
   ]
  },
  {
   "cell_type": "markdown",
   "id": "3d266e17",
   "metadata": {},
   "source": [
    "**Some new syntax**:\n",
    "\n",
    "- A special method that is necessary in a python class is the **dunder init method**: `__init__()` \n",
    "    - It is automatically called every time a new instance of a class is created to **initialise** it - more on this later \n",
    "- `self`: used to reference the instance rather than the class in general\n",
    "- Another useful method is the `__repr__()` method - this is the **string representation** of the object. It is super useful for debugging and keeping track of your objects."
   ]
  },
  {
   "cell_type": "markdown",
   "id": "fbc27c90",
   "metadata": {
    "slideshow": {
     "slide_type": "slide"
    }
   },
   "source": [
    "**Example from** `pandas`:"
   ]
  },
  {
   "cell_type": "markdown",
   "id": "fdbe9397",
   "metadata": {
    "slideshow": {
     "slide_type": "fragment"
    }
   },
   "source": [
    "- The class is `pd.DataFrame` - this is not a specific data frame, rather \"instructions on how to make one\"\n",
    "- when we say `df = pd.DataFrame(data)` we **instanciate** a DataFrame object instance and now we have a real-world data frame which stores data and other information\n",
    "    - **attributes** of this dataframe include...`df.columns`, `df.shape`\n",
    "    - **methods** of this dataframe include...`df.append()`, `df.reset_index()`, `df.head(3)`"
   ]
  },
  {
   "cell_type": "code",
   "execution_count": 2,
   "id": "28994696",
   "metadata": {
    "ExecuteTime": {
     "end_time": "2022-02-01T14:55:13.042600Z",
     "start_time": "2022-02-01T14:55:13.028516Z"
    }
   },
   "outputs": [],
   "source": [
    "import pandas as pd\n",
    "df = pd.DataFrame()"
   ]
  },
  {
   "cell_type": "code",
   "execution_count": 3,
   "id": "8fb7fd6e",
   "metadata": {},
   "outputs": [
    {
     "data": {
      "text/plain": [
       "pandas.core.frame.DataFrame"
      ]
     },
     "execution_count": 3,
     "metadata": {},
     "output_type": "execute_result"
    }
   ],
   "source": [
    "type(df)"
   ]
  },
  {
   "cell_type": "code",
   "execution_count": 4,
   "id": "6e48217a",
   "metadata": {
    "ExecuteTime": {
     "end_time": "2022-02-01T14:55:13.042600Z",
     "start_time": "2022-02-01T14:55:13.028516Z"
    }
   },
   "outputs": [
    {
     "data": {
      "text/plain": [
       "['T',\n",
       " '_AXIS_LEN',\n",
       " '_AXIS_ORDERS',\n",
       " '_AXIS_REVERSED',\n",
       " '_AXIS_TO_AXIS_NUMBER',\n",
       " '_HANDLED_TYPES',\n",
       " '__abs__',\n",
       " '__add__',\n",
       " '__and__',\n",
       " '__annotations__',\n",
       " '__array__',\n",
       " '__array_priority__',\n",
       " '__array_ufunc__',\n",
       " '__array_wrap__',\n",
       " '__bool__',\n",
       " '__class__',\n",
       " '__contains__',\n",
       " '__copy__',\n",
       " '__deepcopy__',\n",
       " '__delattr__',\n",
       " '__delitem__',\n",
       " '__dict__',\n",
       " '__dir__',\n",
       " '__divmod__',\n",
       " '__doc__',\n",
       " '__eq__',\n",
       " '__finalize__',\n",
       " '__floordiv__',\n",
       " '__format__',\n",
       " '__ge__',\n",
       " '__getattr__',\n",
       " '__getattribute__',\n",
       " '__getitem__',\n",
       " '__getstate__',\n",
       " '__gt__',\n",
       " '__hash__',\n",
       " '__iadd__',\n",
       " '__iand__',\n",
       " '__ifloordiv__',\n",
       " '__imod__',\n",
       " '__imul__',\n",
       " '__init__',\n",
       " '__init_subclass__',\n",
       " '__invert__',\n",
       " '__ior__',\n",
       " '__ipow__',\n",
       " '__isub__',\n",
       " '__iter__',\n",
       " '__itruediv__',\n",
       " '__ixor__',\n",
       " '__le__',\n",
       " '__len__',\n",
       " '__lt__',\n",
       " '__matmul__',\n",
       " '__mod__',\n",
       " '__module__',\n",
       " '__mul__',\n",
       " '__ne__',\n",
       " '__neg__',\n",
       " '__new__',\n",
       " '__nonzero__',\n",
       " '__or__',\n",
       " '__pos__',\n",
       " '__pow__',\n",
       " '__radd__',\n",
       " '__rand__',\n",
       " '__rdivmod__',\n",
       " '__reduce__',\n",
       " '__reduce_ex__',\n",
       " '__repr__',\n",
       " '__rfloordiv__',\n",
       " '__rmatmul__',\n",
       " '__rmod__',\n",
       " '__rmul__',\n",
       " '__ror__',\n",
       " '__round__',\n",
       " '__rpow__',\n",
       " '__rsub__',\n",
       " '__rtruediv__',\n",
       " '__rxor__',\n",
       " '__setattr__',\n",
       " '__setitem__',\n",
       " '__setstate__',\n",
       " '__sizeof__',\n",
       " '__str__',\n",
       " '__sub__',\n",
       " '__subclasshook__',\n",
       " '__truediv__',\n",
       " '__weakref__',\n",
       " '__xor__',\n",
       " '_accessors',\n",
       " '_accum_func',\n",
       " '_add_numeric_operations',\n",
       " '_agg_by_level',\n",
       " '_agg_examples_doc',\n",
       " '_agg_summary_and_see_also_doc',\n",
       " '_align_frame',\n",
       " '_align_series',\n",
       " '_arith_method',\n",
       " '_as_manager',\n",
       " '_attrs',\n",
       " '_box_col_values',\n",
       " '_can_fast_transpose',\n",
       " '_check_inplace_and_allows_duplicate_labels',\n",
       " '_check_inplace_setting',\n",
       " '_check_is_chained_assignment_possible',\n",
       " '_check_label_or_level_ambiguity',\n",
       " '_check_setitem_copy',\n",
       " '_clear_item_cache',\n",
       " '_clip_with_one_bound',\n",
       " '_clip_with_scalar',\n",
       " '_cmp_method',\n",
       " '_combine_frame',\n",
       " '_consolidate',\n",
       " '_consolidate_inplace',\n",
       " '_construct_axes_dict',\n",
       " '_construct_axes_from_arguments',\n",
       " '_construct_result',\n",
       " '_constructor',\n",
       " '_constructor_sliced',\n",
       " '_convert',\n",
       " '_count_level',\n",
       " '_data',\n",
       " '_dir_additions',\n",
       " '_dir_deletions',\n",
       " '_dispatch_frame_op',\n",
       " '_drop_axis',\n",
       " '_drop_labels_or_levels',\n",
       " '_ensure_valid_index',\n",
       " '_find_valid_index',\n",
       " '_flags',\n",
       " '_from_arrays',\n",
       " '_from_mgr',\n",
       " '_get_agg_axis',\n",
       " '_get_axis',\n",
       " '_get_axis_name',\n",
       " '_get_axis_number',\n",
       " '_get_axis_resolvers',\n",
       " '_get_block_manager_axis',\n",
       " '_get_bool_data',\n",
       " '_get_cleaned_column_resolvers',\n",
       " '_get_column_array',\n",
       " '_get_index_resolvers',\n",
       " '_get_item_cache',\n",
       " '_get_label_or_level_values',\n",
       " '_get_numeric_data',\n",
       " '_get_value',\n",
       " '_getitem_bool_array',\n",
       " '_getitem_multilevel',\n",
       " '_gotitem',\n",
       " '_hidden_attrs',\n",
       " '_indexed_same',\n",
       " '_info_axis',\n",
       " '_info_axis_name',\n",
       " '_info_axis_number',\n",
       " '_info_repr',\n",
       " '_init_mgr',\n",
       " '_inplace_method',\n",
       " '_internal_names',\n",
       " '_internal_names_set',\n",
       " '_is_copy',\n",
       " '_is_homogeneous_type',\n",
       " '_is_label_or_level_reference',\n",
       " '_is_label_reference',\n",
       " '_is_level_reference',\n",
       " '_is_mixed_type',\n",
       " '_is_view',\n",
       " '_iset_item',\n",
       " '_iset_item_mgr',\n",
       " '_iset_not_inplace',\n",
       " '_item_cache',\n",
       " '_iter_column_arrays',\n",
       " '_ixs',\n",
       " '_join_compat',\n",
       " '_logical_func',\n",
       " '_logical_method',\n",
       " '_maybe_cache_changed',\n",
       " '_maybe_update_cacher',\n",
       " '_metadata',\n",
       " '_mgr',\n",
       " '_min_count_stat_function',\n",
       " '_needs_reindex_multi',\n",
       " '_protect_consolidate',\n",
       " '_reduce',\n",
       " '_reindex_axes',\n",
       " '_reindex_columns',\n",
       " '_reindex_index',\n",
       " '_reindex_multi',\n",
       " '_reindex_with_indexers',\n",
       " '_replace_columnwise',\n",
       " '_repr_data_resource_',\n",
       " '_repr_fits_horizontal_',\n",
       " '_repr_fits_vertical_',\n",
       " '_repr_html_',\n",
       " '_repr_latex_',\n",
       " '_reset_cache',\n",
       " '_reset_cacher',\n",
       " '_sanitize_column',\n",
       " '_series',\n",
       " '_set_axis',\n",
       " '_set_axis_name',\n",
       " '_set_axis_nocheck',\n",
       " '_set_is_copy',\n",
       " '_set_item',\n",
       " '_set_item_frame_value',\n",
       " '_set_item_mgr',\n",
       " '_set_value',\n",
       " '_setitem_array',\n",
       " '_setitem_frame',\n",
       " '_setitem_slice',\n",
       " '_slice',\n",
       " '_stat_axis',\n",
       " '_stat_axis_name',\n",
       " '_stat_axis_number',\n",
       " '_stat_function',\n",
       " '_stat_function_ddof',\n",
       " '_take_with_is_copy',\n",
       " '_to_dict_of_blocks',\n",
       " '_typ',\n",
       " '_update_inplace',\n",
       " '_validate_dtype',\n",
       " '_values',\n",
       " '_where',\n",
       " 'abs',\n",
       " 'add',\n",
       " 'add_prefix',\n",
       " 'add_suffix',\n",
       " 'agg',\n",
       " 'aggregate',\n",
       " 'align',\n",
       " 'all',\n",
       " 'any',\n",
       " 'append',\n",
       " 'apply',\n",
       " 'applymap',\n",
       " 'asfreq',\n",
       " 'asof',\n",
       " 'assign',\n",
       " 'astype',\n",
       " 'at',\n",
       " 'at_time',\n",
       " 'attrs',\n",
       " 'axes',\n",
       " 'backfill',\n",
       " 'between_time',\n",
       " 'bfill',\n",
       " 'bool',\n",
       " 'boxplot',\n",
       " 'clip',\n",
       " 'columns',\n",
       " 'combine',\n",
       " 'combine_first',\n",
       " 'compare',\n",
       " 'convert_dtypes',\n",
       " 'copy',\n",
       " 'corr',\n",
       " 'corrwith',\n",
       " 'count',\n",
       " 'cov',\n",
       " 'cummax',\n",
       " 'cummin',\n",
       " 'cumprod',\n",
       " 'cumsum',\n",
       " 'describe',\n",
       " 'diff',\n",
       " 'div',\n",
       " 'divide',\n",
       " 'dot',\n",
       " 'drop',\n",
       " 'drop_duplicates',\n",
       " 'droplevel',\n",
       " 'dropna',\n",
       " 'dtypes',\n",
       " 'duplicated',\n",
       " 'empty',\n",
       " 'eq',\n",
       " 'equals',\n",
       " 'eval',\n",
       " 'ewm',\n",
       " 'expanding',\n",
       " 'explode',\n",
       " 'ffill',\n",
       " 'fillna',\n",
       " 'filter',\n",
       " 'first',\n",
       " 'first_valid_index',\n",
       " 'flags',\n",
       " 'floordiv',\n",
       " 'from_dict',\n",
       " 'from_records',\n",
       " 'ge',\n",
       " 'get',\n",
       " 'groupby',\n",
       " 'gt',\n",
       " 'head',\n",
       " 'hist',\n",
       " 'iat',\n",
       " 'idxmax',\n",
       " 'idxmin',\n",
       " 'iloc',\n",
       " 'index',\n",
       " 'infer_objects',\n",
       " 'info',\n",
       " 'insert',\n",
       " 'interpolate',\n",
       " 'isin',\n",
       " 'isna',\n",
       " 'isnull',\n",
       " 'items',\n",
       " 'iteritems',\n",
       " 'iterrows',\n",
       " 'itertuples',\n",
       " 'join',\n",
       " 'keys',\n",
       " 'kurt',\n",
       " 'kurtosis',\n",
       " 'last',\n",
       " 'last_valid_index',\n",
       " 'le',\n",
       " 'loc',\n",
       " 'lookup',\n",
       " 'lt',\n",
       " 'mad',\n",
       " 'mask',\n",
       " 'max',\n",
       " 'mean',\n",
       " 'median',\n",
       " 'melt',\n",
       " 'memory_usage',\n",
       " 'merge',\n",
       " 'min',\n",
       " 'mod',\n",
       " 'mode',\n",
       " 'mul',\n",
       " 'multiply',\n",
       " 'ndim',\n",
       " 'ne',\n",
       " 'nlargest',\n",
       " 'notna',\n",
       " 'notnull',\n",
       " 'nsmallest',\n",
       " 'nunique',\n",
       " 'pad',\n",
       " 'pct_change',\n",
       " 'pipe',\n",
       " 'pivot',\n",
       " 'pivot_table',\n",
       " 'plot',\n",
       " 'pop',\n",
       " 'pow',\n",
       " 'prod',\n",
       " 'product',\n",
       " 'quantile',\n",
       " 'query',\n",
       " 'radd',\n",
       " 'rank',\n",
       " 'rdiv',\n",
       " 'reindex',\n",
       " 'reindex_like',\n",
       " 'rename',\n",
       " 'rename_axis',\n",
       " 'reorder_levels',\n",
       " 'replace',\n",
       " 'resample',\n",
       " 'reset_index',\n",
       " 'rfloordiv',\n",
       " 'rmod',\n",
       " 'rmul',\n",
       " 'rolling',\n",
       " 'round',\n",
       " 'rpow',\n",
       " 'rsub',\n",
       " 'rtruediv',\n",
       " 'sample',\n",
       " 'select_dtypes',\n",
       " 'sem',\n",
       " 'set_axis',\n",
       " 'set_flags',\n",
       " 'set_index',\n",
       " 'shape',\n",
       " 'shift',\n",
       " 'size',\n",
       " 'skew',\n",
       " 'slice_shift',\n",
       " 'sort_index',\n",
       " 'sort_values',\n",
       " 'sparse',\n",
       " 'squeeze',\n",
       " 'stack',\n",
       " 'std',\n",
       " 'style',\n",
       " 'sub',\n",
       " 'subtract',\n",
       " 'sum',\n",
       " 'swapaxes',\n",
       " 'swaplevel',\n",
       " 'tail',\n",
       " 'take',\n",
       " 'to_clipboard',\n",
       " 'to_csv',\n",
       " 'to_dict',\n",
       " 'to_excel',\n",
       " 'to_feather',\n",
       " 'to_gbq',\n",
       " 'to_hdf',\n",
       " 'to_html',\n",
       " 'to_json',\n",
       " 'to_latex',\n",
       " 'to_markdown',\n",
       " 'to_numpy',\n",
       " 'to_parquet',\n",
       " 'to_period',\n",
       " 'to_pickle',\n",
       " 'to_records',\n",
       " 'to_sql',\n",
       " 'to_stata',\n",
       " 'to_string',\n",
       " 'to_timestamp',\n",
       " 'to_xarray',\n",
       " 'to_xml',\n",
       " 'transform',\n",
       " 'transpose',\n",
       " 'truediv',\n",
       " 'truncate',\n",
       " 'tz_convert',\n",
       " 'tz_localize',\n",
       " 'unstack',\n",
       " 'update',\n",
       " 'value_counts',\n",
       " 'values',\n",
       " 'var',\n",
       " 'where',\n",
       " 'xs']"
      ]
     },
     "execution_count": 4,
     "metadata": {},
     "output_type": "execute_result"
    }
   ],
   "source": [
    "dir(df) #lists all methods and attributes "
   ]
  },
  {
   "cell_type": "code",
   "execution_count": 5,
   "id": "14698295",
   "metadata": {},
   "outputs": [],
   "source": [
    "#help(df) #more structured than dir()"
   ]
  },
  {
   "cell_type": "markdown",
   "id": "2d883443",
   "metadata": {
    "slideshow": {
     "slide_type": "fragment"
    }
   },
   "source": [
    "    \n",
    "See also: [The `DataFrame` class from `pandas`](https://github.com/pandas-dev/pandas/blob/main/pandas/core/frame.py)"
   ]
  },
  {
   "cell_type": "markdown",
   "id": "1786b4d7",
   "metadata": {
    "slideshow": {
     "slide_type": "slide"
    }
   },
   "source": [
    "## Example: Dinosaurs vs Unicorns\n"
   ]
  },
  {
   "cell_type": "markdown",
   "id": "57963c39",
   "metadata": {},
   "source": [
    "![dino_vs_unicorn2.jpg](dino_vs_unicorn2.jpg)\n",
    "[source](https://twitter.com/eat24/status/319983321075552256)"
   ]
  },
  {
   "cell_type": "markdown",
   "id": "68b32859",
   "metadata": {
    "slideshow": {
     "slide_type": "slide"
    }
   },
   "source": [
    "Suppose we want to simulate some Unicorns and some Dinoraurs in python (and also make them fight).\n",
    "How do we make the \"blueprint\" for each? What does it ***have*** (attributes) and what can it ***do*** (methods)?"
   ]
  },
  {
   "cell_type": "markdown",
   "id": "1179b146",
   "metadata": {
    "slideshow": {
     "slide_type": "slide"
    }
   },
   "source": [
    "**Dinosaur:**\n",
    "\n",
    "- **Attributes(what does it have):**\n",
    "    - carnivore - Boolean\n",
    "    - name: \n",
    "    - where does it live: \n",
    "    - overall health: \n",
    "    - number of legs: \n",
    "    - number of eggs\n",
    "    \n",
    "- **Methods(what does it do):**\n",
    "    - eat someone\n",
    "    - roar\n",
    "    - lay an egg"
   ]
  },
  {
   "cell_type": "markdown",
   "id": "d63533c0",
   "metadata": {},
   "source": [
    "**Unicorn:**\n",
    "\n",
    "- **Attributes:**\n",
    "    - horn length\n",
    "    - name\n",
    "    - lives in\n",
    "    \n",
    "- **Methods:**\n",
    "    - poke with horn"
   ]
  },
  {
   "cell_type": "code",
   "execution_count": 6,
   "id": "1467ac29",
   "metadata": {},
   "outputs": [],
   "source": [
    "import random"
   ]
  },
  {
   "cell_type": "code",
   "execution_count": 7,
   "id": "d669d939",
   "metadata": {
    "ExecuteTime": {
     "end_time": "2022-02-01T15:34:36.132386Z",
     "start_time": "2022-02-01T15:34:36.127207Z"
    },
    "code_folding": []
   },
   "outputs": [],
   "source": [
    "# Define a Dinosaur class in python using some of the above:\n",
    "\n",
    "class Dinosaur():\n",
    "    \"\"\"\n",
    "    A class to model a dinosaur\n",
    "    \"\"\"\n",
    "    \n",
    "    def __init__(self, chosen_name='T-Rex'):\n",
    "        self.name = chosen_name\n",
    "        self.number_of_eggs = 0\n",
    "        self.lives_in = random.choice(['Forest', \"Desert\", \"Water\"])\n",
    "        self.health = 100\n",
    "    \n",
    "    def __repr__(self):\n",
    "        return f\"A Dinosaur named {self.name} with {self.number_of_eggs} egg(s) that lives in {self.lives_in}\"\n",
    "    \n",
    "    def speak(self):\n",
    "        print(f\"Hello my name is {self.name}\")\n",
    "\n",
    "    def lay_egg(self):\n",
    "        self.number_of_eggs += 1\n",
    "    \n",
    "    "
   ]
  },
  {
   "cell_type": "code",
   "execution_count": 8,
   "id": "137ca711",
   "metadata": {},
   "outputs": [
    {
     "data": {
      "text/plain": [
       "A Dinosaur named T-Rex with 0 egg(s) that lives in Forest"
      ]
     },
     "execution_count": 8,
     "metadata": {},
     "output_type": "execute_result"
    }
   ],
   "source": [
    "# Makes a class instance of dinosaur\n",
    "Dinosaur()"
   ]
  },
  {
   "cell_type": "code",
   "execution_count": 9,
   "id": "9e8546de",
   "metadata": {},
   "outputs": [],
   "source": [
    "dino1 = Dinosaur('Bob')\n",
    "dino2 = Dinosaur('Zorro')"
   ]
  },
  {
   "cell_type": "code",
   "execution_count": 10,
   "id": "4772ea82",
   "metadata": {},
   "outputs": [
    {
     "data": {
      "text/plain": [
       "0"
      ]
     },
     "execution_count": 10,
     "metadata": {},
     "output_type": "execute_result"
    }
   ],
   "source": [
    "dino1.number_of_eggs"
   ]
  },
  {
   "cell_type": "code",
   "execution_count": 11,
   "id": "112960e2",
   "metadata": {},
   "outputs": [
    {
     "data": {
      "text/plain": [
       "1"
      ]
     },
     "execution_count": 11,
     "metadata": {},
     "output_type": "execute_result"
    }
   ],
   "source": [
    "dino1.lay_egg()\n",
    "dino1.number_of_eggs"
   ]
  },
  {
   "cell_type": "code",
   "execution_count": 12,
   "id": "b646b776",
   "metadata": {},
   "outputs": [
    {
     "data": {
      "text/plain": [
       "30"
      ]
     },
     "execution_count": 12,
     "metadata": {},
     "output_type": "execute_result"
    }
   ],
   "source": [
    "dino1.number_of_eggs = 30\n",
    "dino1.number_of_eggs"
   ]
  },
  {
   "cell_type": "code",
   "execution_count": null,
   "id": "22735748",
   "metadata": {},
   "outputs": [],
   "source": []
  },
  {
   "cell_type": "code",
   "execution_count": 13,
   "id": "9e1fe612",
   "metadata": {},
   "outputs": [
    {
     "name": "stdout",
     "output_type": "stream",
     "text": [
      "A Dinosaur named Bob with 30 egg(s) that lives in Desert\n"
     ]
    }
   ],
   "source": [
    "print(repr(dino1))"
   ]
  },
  {
   "cell_type": "code",
   "execution_count": 14,
   "id": "c773c556",
   "metadata": {},
   "outputs": [],
   "source": [
    "dino3 = Dinosaur()"
   ]
  },
  {
   "cell_type": "code",
   "execution_count": 15,
   "id": "105512c0",
   "metadata": {},
   "outputs": [
    {
     "data": {
      "text/plain": [
       "A Dinosaur named T-Rex with 0 egg(s) that lives in Forest"
      ]
     },
     "execution_count": 15,
     "metadata": {},
     "output_type": "execute_result"
    }
   ],
   "source": [
    "dino3"
   ]
  },
  {
   "cell_type": "code",
   "execution_count": 16,
   "id": "71beee5e",
   "metadata": {},
   "outputs": [
    {
     "data": {
      "text/plain": [
       "6"
      ]
     },
     "execution_count": 16,
     "metadata": {},
     "output_type": "execute_result"
    }
   ],
   "source": [
    "dino3.number_of_eggs = 6\n",
    "dino3.number_of_eggs"
   ]
  },
  {
   "cell_type": "markdown",
   "id": "cbc7aa77",
   "metadata": {},
   "source": [
    "You can make a bunch of dinosaurs without giving each a specific variable name: "
   ]
  },
  {
   "cell_type": "code",
   "execution_count": 17,
   "id": "49142306",
   "metadata": {},
   "outputs": [],
   "source": [
    "names = ['Alice', 'Bob']\n",
    "dinos_list = [Dinosaur(name) for name in names]"
   ]
  },
  {
   "cell_type": "code",
   "execution_count": 19,
   "id": "0a2efc56",
   "metadata": {},
   "outputs": [
    {
     "data": {
      "text/plain": [
       "(A Dinosaur named Alice with 0 egg(s) that lives in Water,\n",
       " A Dinosaur named Bob with 0 egg(s) that lives in Desert)"
      ]
     },
     "execution_count": 19,
     "metadata": {},
     "output_type": "execute_result"
    }
   ],
   "source": [
    "dinos_list[0], dinos_list[1]"
   ]
  },
  {
   "cell_type": "markdown",
   "id": "9308b939",
   "metadata": {},
   "source": [
    "**What does `__repr__()` do?**\n",
    "- It is the **string representation** of the class instance that by default tells us the type of object that we have and the location in memory. We can change it to something custom to give us some useful info about an object while debugging. \n",
    "- In iPython, `repr(object)` is implicitly called if we run a cell with the name of a variable. (see below)\n",
    "- Elsewhere you would need to `print(repr(object)`)\n"
   ]
  },
  {
   "cell_type": "markdown",
   "id": "28f83196",
   "metadata": {},
   "source": [
    "**(Bonus)**\n",
    "\n",
    "The `__str__()` method is often what gets called if you call `print(object)`.\n",
    "- If you don't have it specified, it reverts to printing out the result of  `__repr__()`\n",
    "- You can have different `__str__` and `__repr__` methods containing different information for different audiences (e.g. see [here](https://www.pythontutorial.net/python-oop/python-__repr__/))"
   ]
  },
  {
   "cell_type": "code",
   "execution_count": 20,
   "id": "eb044858",
   "metadata": {},
   "outputs": [],
   "source": [
    "# Define a Dinosaur class in python using some of the above:\n",
    "\n",
    "class Dinosaur():\n",
    "    \"\"\"\n",
    "    A class to model a dinosaur\n",
    "    \"\"\"\n",
    "    \n",
    "    def __init__(self, name='T-Rex'):\n",
    "        self.name = name\n",
    "        self.number_of_eggs = 0\n",
    "        self.lives_in = random.choice(['Forest', \"Desert\", \"Water\"])\n",
    "        self.health = 100\n",
    "    \n",
    "    def __repr__(self):\n",
    "        return f\"A Dinosaur named {self.name} with {self.number_of_eggs} egg(s) that lives in {self.lives_in}\"\n",
    "    \n",
    "    def speak(self):\n",
    "        print(f\"Hello my name is {self.name}\")\n",
    "\n",
    "    def lay_egg(self):\n",
    "        self.number_of_eggs += 1\n",
    "    "
   ]
  },
  {
   "cell_type": "code",
   "execution_count": 35,
   "id": "510d6200",
   "metadata": {},
   "outputs": [],
   "source": [
    "# Make a unicorn:\n",
    "\n",
    "class Unicorn():\n",
    "    \"\"\"A unicorn class\"\"\"\n",
    "    def __init__(self, name):\n",
    "        self.horn_length = 50\n",
    "        self.number_of_legs = 4\n",
    "        self.name = name\n",
    "        self.health = 100\n",
    "        self.lives_in = random.choice(['Forest', \"Desert\", \"Water\"])\n",
    "    \n",
    "    def poke_with_horn(self, other_creature): \n",
    "        print(f'AAAARGH {self.name} is poking {other_creature.name} with its horn!')\n",
    "        other_creature.health -= 10\n",
    "        self.health +=5\n"
   ]
  },
  {
   "cell_type": "code",
   "execution_count": 21,
   "id": "2d397e40",
   "metadata": {},
   "outputs": [
    {
     "data": {
      "text/plain": [
       "A Dinosaur named Bob with 0 egg(s) that lives in Desert"
      ]
     },
     "execution_count": 21,
     "metadata": {},
     "output_type": "execute_result"
    }
   ],
   "source": [
    "dino1 = Dinosaur(\"Bob\")\n",
    "dino1"
   ]
  },
  {
   "cell_type": "code",
   "execution_count": 22,
   "id": "3fd75cb9",
   "metadata": {},
   "outputs": [
    {
     "data": {
      "text/plain": [
       "__main__.Dinosaur"
      ]
     },
     "execution_count": 22,
     "metadata": {},
     "output_type": "execute_result"
    }
   ],
   "source": [
    "type(dino1)"
   ]
  },
  {
   "cell_type": "code",
   "execution_count": 25,
   "id": "ebeb1f62",
   "metadata": {},
   "outputs": [],
   "source": [
    "# To see all the methods and attributes:\n",
    "#dir(dino1)"
   ]
  },
  {
   "cell_type": "code",
   "execution_count": 30,
   "id": "4335600e",
   "metadata": {},
   "outputs": [],
   "source": [
    "# See also:\n",
    "#help(dino1)"
   ]
  },
  {
   "cell_type": "markdown",
   "id": "5f392959",
   "metadata": {},
   "source": [
    "We instanciated a dinosaur named Bob but we can still change its name to an arbitrary value:"
   ]
  },
  {
   "cell_type": "code",
   "execution_count": 31,
   "id": "f6e44f20",
   "metadata": {},
   "outputs": [],
   "source": [
    "dino1.name = 'Etienne'"
   ]
  },
  {
   "cell_type": "code",
   "execution_count": 32,
   "id": "ebb1b0b1",
   "metadata": {},
   "outputs": [
    {
     "data": {
      "text/plain": [
       "A Dinosaur named Etienne with 0 egg(s) that lives in Desert"
      ]
     },
     "execution_count": 32,
     "metadata": {},
     "output_type": "execute_result"
    }
   ],
   "source": [
    "dino1"
   ]
  },
  {
   "cell_type": "code",
   "execution_count": 33,
   "id": "221822ea",
   "metadata": {},
   "outputs": [
    {
     "data": {
      "text/plain": [
       "100"
      ]
     },
     "execution_count": 33,
     "metadata": {},
     "output_type": "execute_result"
    }
   ],
   "source": [
    "dino1.health"
   ]
  },
  {
   "cell_type": "code",
   "execution_count": 36,
   "id": "07ed2275",
   "metadata": {},
   "outputs": [],
   "source": [
    "unicorn1 = Unicorn(\"Alice\")"
   ]
  },
  {
   "cell_type": "markdown",
   "id": "c3751645",
   "metadata": {},
   "source": [
    "`Unicorn` doesn't have a `__repr__()` method that we customised so the output is the generic one:"
   ]
  },
  {
   "cell_type": "code",
   "execution_count": 38,
   "id": "45ed7615",
   "metadata": {},
   "outputs": [
    {
     "data": {
      "text/plain": [
       "<__main__.Unicorn at 0x7f7d2670c670>"
      ]
     },
     "execution_count": 38,
     "metadata": {},
     "output_type": "execute_result"
    }
   ],
   "source": [
    "unicorn1"
   ]
  },
  {
   "cell_type": "code",
   "execution_count": 39,
   "id": "35eaad3e",
   "metadata": {},
   "outputs": [
    {
     "data": {
      "text/plain": [
       "'Forest'"
      ]
     },
     "execution_count": 39,
     "metadata": {},
     "output_type": "execute_result"
    }
   ],
   "source": [
    "unicorn1.lives_in"
   ]
  },
  {
   "cell_type": "code",
   "execution_count": 40,
   "id": "76ad0bc9",
   "metadata": {},
   "outputs": [
    {
     "data": {
      "text/plain": [
       "100"
      ]
     },
     "execution_count": 40,
     "metadata": {},
     "output_type": "execute_result"
    }
   ],
   "source": [
    "unicorn1.health"
   ]
  },
  {
   "cell_type": "markdown",
   "id": "4ce5b57c",
   "metadata": {},
   "source": [
    "### Now we can make our classes interact:"
   ]
  },
  {
   "cell_type": "code",
   "execution_count": null,
   "id": "8de0ffa3",
   "metadata": {
    "ExecuteTime": {
     "end_time": "2022-02-01T16:29:08.627765Z",
     "start_time": "2022-02-01T16:29:08.622681Z"
    }
   },
   "outputs": [],
   "source": [
    "# Make a Dinosaur fight a Unicorn:"
   ]
  },
  {
   "cell_type": "code",
   "execution_count": null,
   "id": "26f16e49",
   "metadata": {},
   "outputs": [],
   "source": [
    "dino1.health, unicorn1.health"
   ]
  },
  {
   "cell_type": "code",
   "execution_count": null,
   "id": "02f3393c",
   "metadata": {},
   "outputs": [],
   "source": [
    "unicorn1.poke_with_horn(dino1)"
   ]
  },
  {
   "cell_type": "markdown",
   "id": "4b04eee5",
   "metadata": {},
   "source": [
    "The new values of the health attribute for both animals:"
   ]
  },
  {
   "cell_type": "code",
   "execution_count": null,
   "id": "bbe27556",
   "metadata": {},
   "outputs": [],
   "source": [
    "dino1.health, unicorn1.health"
   ]
  },
  {
   "cell_type": "markdown",
   "id": "e42e4aeb",
   "metadata": {},
   "source": [
    "## What's next???"
   ]
  },
  {
   "cell_type": "markdown",
   "id": "c0170c5b",
   "metadata": {},
   "source": [
    "### How do we apply these concepts to the Supermarket project?\n",
    "- This week's project is **big**.\n",
    "    - There are some moving parts that can be done **independently of each other** \n",
    "- The ideal output of the EDA is a transition probabilities matrix that can be used to move the simulated customers around\n",
    "- **OOP part of the project:** \n",
    "    - Create a Customer class that will contain useful data about one customer as well as appropriate method(s) that can alter the state of the customer\n",
    "        - What data is relevant here?\n",
    "        - the customers move according to the transition probabilities - the class can be made with **placeholder** probabilities and the real probabilities can be substituted in later without changing the rest of the code\n",
    "        - Can you model multiple customers by instanciating the class many times? How would you keep track of them? --> More on this tomorrow! \n",
    "- See the [course notes](https://spiced.space/euclidean-eukalyptus/ds-course/chapters/project_markov/classes/README.html) for help "
   ]
  },
  {
   "cell_type": "markdown",
   "id": "aeb13514",
   "metadata": {},
   "source": [
    "## Some links:\n"
   ]
  },
  {
   "cell_type": "markdown",
   "id": "ce4f536b",
   "metadata": {},
   "source": [
    "- [An article introducing OOP](https://towardsdatascience.com/introducing-you-to-the-world-of-oop-object-oriented-programming-95c33ae4df2)\n",
    "- [Nice YouTube introduction to OOP](https://www.youtube.com/watch?v=JeznW_7DlB0)\n",
    "-[Free book about Python basics](http://bedford-computing.co.uk/learning/wp-content/uploads/2015/10/No.Starch.Python.Oct_.2015.ISBN_.1593276036.pdf), has a good chapter on Classes and a game project to get to grips with them\n",
    "- [A detailed set of tutorials on OOP in Python](https://www.pythontutorial.net/python-oop/) (these go a lot deeper than than the scope of this week's project!)\n",
    "- [UML Class Diagrams tutorial](https://www.lucidchart.com/pages/uml-class-diagram)\n",
    "\n",
    "\n",
    "## Bonus: \n",
    "- [What are the other programming paradigms apart from OOP?](http://www.cs.ucf.edu/~leavens/ComS541Fall97/hw-pages/paradigms/major.html)\n",
    "- [Info about the `dir()` function in python](https://www.geeksforgeeks.org/python-dir-function/)\n",
    "- [Some information about the dunder methods aka magic methods in Python](https://levelup.gitconnected.com/python-dunder-methods-ea98ceabad15)"
   ]
  }
 ],
 "metadata": {
  "hide_input": false,
  "kernelspec": {
   "display_name": "Python 3 (ipykernel)",
   "language": "python",
   "name": "python3"
  },
  "language_info": {
   "codemirror_mode": {
    "name": "ipython",
    "version": 3
   },
   "file_extension": ".py",
   "mimetype": "text/x-python",
   "name": "python",
   "nbconvert_exporter": "python",
   "pygments_lexer": "ipython3",
   "version": "3.9.7"
  },
  "latex_envs": {
   "LaTeX_envs_menu_present": true,
   "autoclose": true,
   "autocomplete": true,
   "bibliofile": "biblio.bib",
   "cite_by": "apalike",
   "current_citInitial": 1,
   "eqLabelWithNumbers": true,
   "eqNumInitial": 1,
   "hotkeys": {
    "equation": "Ctrl-E",
    "itemize": "Ctrl-I"
   },
   "labels_anchors": false,
   "latex_user_defs": false,
   "report_style_numbering": true,
   "user_envs_cfg": false
  },
  "toc": {
   "base_numbering": 1,
   "nav_menu": {},
   "number_sections": false,
   "sideBar": true,
   "skip_h1_title": false,
   "title_cell": "Table of Contents",
   "title_sidebar": "Contents",
   "toc_cell": false,
   "toc_position": {},
   "toc_section_display": true,
   "toc_window_display": false
  },
  "varInspector": {
   "cols": {
    "lenName": 16,
    "lenType": 16,
    "lenVar": 40
   },
   "kernels_config": {
    "python": {
     "delete_cmd_postfix": "",
     "delete_cmd_prefix": "del ",
     "library": "var_list.py",
     "varRefreshCmd": "print(var_dic_list())"
    },
    "r": {
     "delete_cmd_postfix": ") ",
     "delete_cmd_prefix": "rm(",
     "library": "var_list.r",
     "varRefreshCmd": "cat(var_dic_list()) "
    }
   },
   "types_to_exclude": [
    "module",
    "function",
    "builtin_function_or_method",
    "instance",
    "_Feature"
   ],
   "window_display": false
  }
 },
 "nbformat": 4,
 "nbformat_minor": 5
}

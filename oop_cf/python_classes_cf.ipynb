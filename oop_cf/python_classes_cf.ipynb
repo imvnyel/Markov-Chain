{
 "cells": [
  {
   "cell_type": "markdown",
   "id": "5f3e8d8e",
   "metadata": {
    "slideshow": {
     "slide_type": "slide"
    }
   },
   "source": [
    "# Object Oriented Programming - Classes in Python"
   ]
  },
  {
   "cell_type": "markdown",
   "id": "56af7b4f",
   "metadata": {},
   "source": [
    "![dino_vs_unicorn.jpg](dino_vs_unicorn.jpg)\n",
    "[source](https://www.brandinginasia.com/when-a-t-rex-does-battle-with-a-unicorn-in-your-home-you-better-have-insurance/)"
   ]
  },
  {
   "cell_type": "markdown",
   "id": "488bb599",
   "metadata": {},
   "source": [
    "## Agenda:\n"
   ]
  },
  {
   "cell_type": "markdown",
   "id": "68cecc91",
   "metadata": {},
   "source": [
    "**Today:**\n",
    "- What is Object Oriented Programming?\n",
    "- What are classes?\n",
    "- An example of making custom classes using Dinoraurs and Unicorns - and making them interact\n",
    "\n",
    "**Tomorrow:**\n",
    "- Composition (aka. a unicorn ***has a*** horn)\n",
    "- Inheritance (aka. a pterosaurus ***is a*** dinosaur that can also fly)"
   ]
  },
  {
   "cell_type": "markdown",
   "id": "2003cfbc",
   "metadata": {
    "slideshow": {
     "slide_type": "slide"
    }
   },
   "source": [
    "## What is OOP? "
   ]
  },
  {
   "cell_type": "markdown",
   "id": "95c277d6",
   "metadata": {
    "slideshow": {
     "slide_type": "subslide"
    }
   },
   "source": [
    "**Programming paradigm** based on the concept of **objects**:\n",
    "> Programs are designed by making them out of objects that interact with each other\n",
    "\n",
    "\n",
    "- Python supports object-oriented programming, isn't strictly an OOP language\n",
    "- We have been using and seeing examples of this every day, everything in Python is an object!\n",
    "    - `type()` function tells you what sort of object something is"
   ]
  },
  {
   "cell_type": "markdown",
   "id": "7c8ab2c7",
   "metadata": {},
   "source": [
    "- Bonus: [4 Pillars of OOP](https://medium.com/swlh/the-4-pillars-of-oop-in-python-9daaca4c0d13) - Abstraction, Encapsulation, Inheritance, Polymorphism\n",
    "- [Steve Jobs on OOP](http://www.edibleapple.com/2011/10/29/steve-jobs-explains-object-oriented-programming/)"
   ]
  },
  {
   "cell_type": "markdown",
   "id": "0004e8a0",
   "metadata": {
    "slideshow": {
     "slide_type": "slide"
    }
   },
   "source": [
    "## Classes"
   ]
  },
  {
   "cell_type": "markdown",
   "id": "afbb04de",
   "metadata": {
    "slideshow": {
     "slide_type": "slide"
    }
   },
   "source": [
    "![oop_simple.png](oop_simple.png)"
   ]
  },
  {
   "cell_type": "markdown",
   "id": "964b73ed",
   "metadata": {
    "slideshow": {
     "slide_type": "slide"
    }
   },
   "source": [
    "**Classes** are the basis of OOP (not only in Python).\n",
    "\n",
    "- A class is like the **blueprint** or general case of our object. \n",
    "- A class can have multiple **instances** which are specific examples that exist of that class.\n",
    "- A class instance can have **attributes** and **methods**\n",
    "    - An instance of a class can store **data** as **attributes**. The attributes are used to describe the **state** of the instance.\n",
    "        - Syntax: `objectname.attributename`\n",
    "    - **Functions** contained in a class are called **methods**. They can be used to alter the state of the object or let the object do something\n",
    "        - Syntax: `objectname.methodname()`\n",
    "    "
   ]
  },
  {
   "cell_type": "markdown",
   "id": "3d266e17",
   "metadata": {},
   "source": [
    "**Some new syntax**:\n",
    "\n",
    "- A special method that is necessary in a python class is the **dunder init method**: `__init__()` \n",
    "    - It is automatically called every time a new instance of a class is created to **initialise** it - more on this later \n",
    "- `self`: used to reference the instance rather than the class in general\n",
    "- Another useful method is the `__repr__()` method - this is the **string representation** of the object. It is super useful for debugging and keeping track of your objects."
   ]
  },
  {
   "cell_type": "markdown",
   "id": "fbc27c90",
   "metadata": {
    "slideshow": {
     "slide_type": "slide"
    }
   },
   "source": [
    "**Example from** `pandas`:"
   ]
  },
  {
   "cell_type": "markdown",
   "id": "fdbe9397",
   "metadata": {
    "slideshow": {
     "slide_type": "fragment"
    }
   },
   "source": [
    "- The class is `pd.DataFrame` - this is not a specific data frame, rather \"instructions on how to make one\"\n",
    "- when we say `df = pd.DataFrame(data)` we **instanciate** a DataFrame object and now we have a real-world data frame which stores data and other information\n",
    "    - **attributes** of this dataframe include...`df.columns`, `df.shape`\n",
    "    - **methods** of this dataframe include...`df.append()`, `df.reset_index()`, `df.head(3)`"
   ]
  },
  {
   "cell_type": "code",
   "execution_count": null,
   "id": "cbda8c88",
   "metadata": {
    "ExecuteTime": {
     "end_time": "2022-02-01T14:55:13.042600Z",
     "start_time": "2022-02-01T14:55:13.028516Z"
    }
   },
   "outputs": [],
   "source": [
    "import pandas as pd\n",
    "df = pd.DataFrame()"
   ]
  },
  {
   "cell_type": "code",
   "execution_count": null,
   "id": "5094a4b8",
   "metadata": {},
   "outputs": [],
   "source": [
    "type(df)"
   ]
  },
  {
   "cell_type": "code",
   "execution_count": null,
   "id": "6e48217a",
   "metadata": {
    "ExecuteTime": {
     "end_time": "2022-02-01T14:55:13.042600Z",
     "start_time": "2022-02-01T14:55:13.028516Z"
    }
   },
   "outputs": [],
   "source": [
    "#dir(df) #lists all methods and attributes "
   ]
  },
  {
   "cell_type": "code",
   "execution_count": null,
   "id": "f8218329",
   "metadata": {},
   "outputs": [],
   "source": [
    "#help(df) #more structured than dir()"
   ]
  },
  {
   "cell_type": "markdown",
   "id": "2d883443",
   "metadata": {
    "slideshow": {
     "slide_type": "fragment"
    }
   },
   "source": [
    "    \n",
    "See also: [The `DataFrame` class from `pandas`](https://github.com/pandas-dev/pandas/blob/main/pandas/core/frame.py)"
   ]
  },
  {
   "cell_type": "markdown",
   "id": "1786b4d7",
   "metadata": {
    "slideshow": {
     "slide_type": "slide"
    }
   },
   "source": [
    "## Example: Dinosaurs vs Unicorns\n"
   ]
  },
  {
   "cell_type": "markdown",
   "id": "57963c39",
   "metadata": {},
   "source": [
    "![dino_vs_unicorn2.jpg](dino_vs_unicorn2.jpg)\n",
    "[source](https://twitter.com/eat24/status/319983321075552256)"
   ]
  },
  {
   "cell_type": "markdown",
   "id": "5292d9e6",
   "metadata": {
    "slideshow": {
     "slide_type": "slide"
    }
   },
   "source": [
    "Suppose we want to simulate some Unicorns and some Dinoraurs in python (and also make them fight).\n",
    "How do we make the \"blueprint\" for each? What does it ***have*** (attributes) and what can it ***do*** (methods)?"
   ]
  },
  {
   "cell_type": "markdown",
   "id": "1179b146",
   "metadata": {
    "slideshow": {
     "slide_type": "slide"
    }
   },
   "source": [
    "**Dinosaur:**\n",
    "\n",
    "- **Attributes:**\n",
    "    - ...\n",
    "    \n",
    "- **Methods:**\n",
    "    - ..."
   ]
  },
  {
   "cell_type": "markdown",
   "id": "7c76017a",
   "metadata": {},
   "source": [
    "**Unicorn:**\n",
    "\n",
    "- **Attributes:**\n",
    "    - ...\n",
    "    \n",
    "- **Methods:**\n",
    "    - ..."
   ]
  },
  {
   "cell_type": "code",
   "execution_count": null,
   "id": "d669d939",
   "metadata": {
    "ExecuteTime": {
     "end_time": "2022-02-01T15:34:36.132386Z",
     "start_time": "2022-02-01T15:34:36.127207Z"
    },
    "code_folding": []
   },
   "outputs": [],
   "source": [
    "# Define a Dinosaur class in python using some of the above:\n"
   ]
  },
  {
   "cell_type": "markdown",
   "id": "9308b939",
   "metadata": {},
   "source": [
    "**What does `__repr__()` do?**\n",
    "- It is the **string representation** of the class instance that by default tells us the type of object that we have and the location in memory. We can change it to something custom to give us some useful info about an object while debugging. \n",
    "- In iPython, `repr(object)` is usually implicitly called if we run a cell with the name of a variable.\n",
    "- Elsewhere you would need to `print(repr(object)`)\n"
   ]
  },
  {
   "cell_type": "markdown",
   "id": "28f83196",
   "metadata": {},
   "source": [
    "**(Bonus)**\n",
    "\n",
    "The `__str__()` method is often what gets called if you call `print(object)`.\n",
    "- If you don't have it specified, it reverts to printing out the result of  `__repr__()`\n",
    "- You can have different `__str__` and `__repr__` methods containing different information for different audiences (e.g. see [here](https://www.pythontutorial.net/python-oop/python-__repr__/))"
   ]
  },
  {
   "cell_type": "code",
   "execution_count": null,
   "id": "5389c887",
   "metadata": {
    "ExecuteTime": {
     "end_time": "2022-02-01T15:39:33.135350Z",
     "start_time": "2022-02-01T15:39:33.129092Z"
    }
   },
   "outputs": [],
   "source": [
    "# Now make a Unicorn class"
   ]
  },
  {
   "cell_type": "markdown",
   "id": "4ce5b57c",
   "metadata": {},
   "source": [
    "### Now we can make our classes interact:"
   ]
  },
  {
   "cell_type": "code",
   "execution_count": null,
   "id": "8de0ffa3",
   "metadata": {
    "ExecuteTime": {
     "end_time": "2022-02-01T16:29:08.627765Z",
     "start_time": "2022-02-01T16:29:08.622681Z"
    }
   },
   "outputs": [],
   "source": [
    "# Make a Dinosaur fight a Unicorn:"
   ]
  },
  {
   "cell_type": "markdown",
   "id": "e42e4aeb",
   "metadata": {},
   "source": [
    "## What's next???"
   ]
  },
  {
   "cell_type": "markdown",
   "id": "c0170c5b",
   "metadata": {},
   "source": [
    "### How do we apply these concepts to the Supermarket project?\n",
    "- This week's project is **big**.\n",
    "    - There are some moving parts that can be done **independently of each other** \n",
    "- The ideal output of the EDA is a transition probabilities matrix that can be used to move the simulated customers around\n",
    "- **OOP part of the project:** \n",
    "    - Create a Customer class that will contain useful data about one customer as well as appropriate method(s) that can alter the state of the customer\n",
    "        - What data is relevant here?\n",
    "        - the customers move according to the transition probabilities - the class can be made with **placeholder** probabilities and the real probabilities can be substituted in later without changing the rest of the code\n",
    "        - Can you model multiple customers by instanciating the class many times? How would you keep track of them? --> More on this tomorrow! \n",
    "- See the [course notes](https://spiced.space/euclidean-eukalyptus/ds-course/chapters/project_markov/classes/README.html) for help "
   ]
  },
  {
   "cell_type": "markdown",
   "id": "aeb13514",
   "metadata": {},
   "source": [
    "## Some links:\n"
   ]
  },
  {
   "cell_type": "markdown",
   "id": "ce4f536b",
   "metadata": {},
   "source": [
    "- [An article introducing OOP](https://towardsdatascience.com/introducing-you-to-the-world-of-oop-object-oriented-programming-95c33ae4df2)\n",
    "- [Nice YouTube introduction to OOP](https://www.youtube.com/watch?v=JeznW_7DlB0)\n",
    "-[Free book about Python basics](http://bedford-computing.co.uk/learning/wp-content/uploads/2015/10/No.Starch.Python.Oct_.2015.ISBN_.1593276036.pdf), has a good chapter on Classes and a game project to get to grips with them\n",
    "- [A detailed set of tutorials on OOP in Python](https://www.pythontutorial.net/python-oop/) (these go a lot deeper than than the scope of this week's project!)\n",
    "- [UML Class Diagrams tutorial](https://www.lucidchart.com/pages/uml-class-diagram)\n",
    "\n",
    "\n",
    "## Bonus: \n",
    "- [What are the other programming paradigms apart from OOP?](http://www.cs.ucf.edu/~leavens/ComS541Fall97/hw-pages/paradigms/major.html)\n",
    "- [Info about the `dir()` function in python](https://www.geeksforgeeks.org/python-dir-function/)\n",
    "- [Some information about the dunder methods aka magic methods in Python](https://levelup.gitconnected.com/python-dunder-methods-ea98ceabad15)"
   ]
  }
 ],
 "metadata": {
  "hide_input": false,
  "kernelspec": {
   "display_name": "week08",
   "language": "python",
   "name": "week08"
  },
  "language_info": {
   "codemirror_mode": {
    "name": "ipython",
    "version": 3
   },
   "file_extension": ".py",
   "mimetype": "text/x-python",
   "name": "python",
   "nbconvert_exporter": "python",
   "pygments_lexer": "ipython3",
   "version": "3.8.12"
  },
  "latex_envs": {
   "LaTeX_envs_menu_present": true,
   "autoclose": true,
   "autocomplete": true,
   "bibliofile": "biblio.bib",
   "cite_by": "apalike",
   "current_citInitial": 1,
   "eqLabelWithNumbers": true,
   "eqNumInitial": 1,
   "hotkeys": {
    "equation": "Ctrl-E",
    "itemize": "Ctrl-I"
   },
   "labels_anchors": false,
   "latex_user_defs": false,
   "report_style_numbering": true,
   "user_envs_cfg": false
  },
  "toc": {
   "base_numbering": 1,
   "nav_menu": {},
   "number_sections": false,
   "sideBar": true,
   "skip_h1_title": false,
   "title_cell": "Table of Contents",
   "title_sidebar": "Contents",
   "toc_cell": false,
   "toc_position": {},
   "toc_section_display": true,
   "toc_window_display": false
  },
  "varInspector": {
   "cols": {
    "lenName": 16,
    "lenType": 16,
    "lenVar": 40
   },
   "kernels_config": {
    "python": {
     "delete_cmd_postfix": "",
     "delete_cmd_prefix": "del ",
     "library": "var_list.py",
     "varRefreshCmd": "print(var_dic_list())"
    },
    "r": {
     "delete_cmd_postfix": ") ",
     "delete_cmd_prefix": "rm(",
     "library": "var_list.r",
     "varRefreshCmd": "cat(var_dic_list()) "
    }
   },
   "types_to_exclude": [
    "module",
    "function",
    "builtin_function_or_method",
    "instance",
    "_Feature"
   ],
   "window_display": false
  }
 },
 "nbformat": 4,
 "nbformat_minor": 5
}

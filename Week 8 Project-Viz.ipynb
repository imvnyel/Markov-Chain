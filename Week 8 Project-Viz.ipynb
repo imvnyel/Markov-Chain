{
 "cells": [
  {
   "cell_type": "code",
   "execution_count": 67,
   "id": "a9bac27b",
   "metadata": {},
   "outputs": [],
   "source": [
    "import pandas as pd\n",
    "import seaborn as sns\n",
    "import numpy as np\n",
    "import matplotlib.pyplot as plt\n",
    "import os\n",
    "import datetime as dt"
   ]
  },
  {
   "cell_type": "code",
   "execution_count": 68,
   "id": "4daf8808",
   "metadata": {},
   "outputs": [],
   "source": [
    "files = os.listdir(path='data')"
   ]
  },
  {
   "cell_type": "code",
   "execution_count": 69,
   "id": "ad0da84f",
   "metadata": {},
   "outputs": [],
   "source": [
    "def read_files(files, datapath='data/', delimiter = ';'):\n",
    "        df_temp = []\n",
    "\n",
    "        if type(files) == list:\n",
    "            for i in files:\n",
    "                df = pd.read_csv(datapath+i, delimiter=delimiter, parse_dates=True, index_col='timestamp')\n",
    "                day_name = df.index.day_name()[0][:3]\n",
    "                df['customer_no'] = df.customer_no.apply(lambda x: f'{day_name}_{x}')\n",
    "                df_temp.append(df)\n",
    "            df = pd.concat(df_temp)\n",
    "        else:\n",
    "            df = pd.read_csv(files, delimiter=delimiter, parse_dates=True, index_col='timestamp')\n",
    "            day_name = df.index.day_name()[0][:3]\n",
    "            df['customer_no'] = df.customer_no.apply(lambda x: f'{day_name}_{x}')\n",
    "\n",
    "        return df"
   ]
  },
  {
   "cell_type": "code",
   "execution_count": 70,
   "id": "003df293",
   "metadata": {},
   "outputs": [],
   "source": [
    "shop_data = read_files(files)"
   ]
  },
  {
   "cell_type": "markdown",
   "id": "39c6abc1",
   "metadata": {},
   "source": [
    "# Part 1: Data Exploration"
   ]
  },
  {
   "cell_type": "code",
   "execution_count": 71,
   "id": "73238d88",
   "metadata": {},
   "outputs": [],
   "source": [
    "shop_data = shop_data.sort_values(by='timestamp')"
   ]
  },
  {
   "cell_type": "markdown",
   "id": "8a0bfd01",
   "metadata": {},
   "source": [
    "##### Get list of all sections in the store"
   ]
  },
  {
   "cell_type": "code",
   "execution_count": 72,
   "id": "2485091b",
   "metadata": {},
   "outputs": [],
   "source": [
    "store_sections = list(shop_data.location.unique())"
   ]
  },
  {
   "cell_type": "code",
   "execution_count": 73,
   "id": "8a8544c5",
   "metadata": {},
   "outputs": [],
   "source": [
    "shop_data.reset_index(inplace=True)"
   ]
  },
  {
   "cell_type": "code",
   "execution_count": null,
   "id": "53f981c1",
   "metadata": {},
   "outputs": [],
   "source": []
  },
  {
   "cell_type": "code",
   "execution_count": 74,
   "id": "d5022aca",
   "metadata": {},
   "outputs": [],
   "source": [
    "sort_customer = shop_data.groupby(['customer_no', 'location'])['timestamp'].agg(['min']).sort_values(by=['customer_no','min'])"
   ]
  },
  {
   "cell_type": "code",
   "execution_count": 75,
   "id": "84778520",
   "metadata": {},
   "outputs": [
    {
     "data": {
      "text/html": [
       "<div>\n",
       "<style scoped>\n",
       "    .dataframe tbody tr th:only-of-type {\n",
       "        vertical-align: middle;\n",
       "    }\n",
       "\n",
       "    .dataframe tbody tr th {\n",
       "        vertical-align: top;\n",
       "    }\n",
       "\n",
       "    .dataframe thead th {\n",
       "        text-align: right;\n",
       "    }\n",
       "</style>\n",
       "<table border=\"1\" class=\"dataframe\">\n",
       "  <thead>\n",
       "    <tr style=\"text-align: right;\">\n",
       "      <th></th>\n",
       "      <th></th>\n",
       "      <th>min</th>\n",
       "    </tr>\n",
       "    <tr>\n",
       "      <th>customer_no</th>\n",
       "      <th>location</th>\n",
       "      <th></th>\n",
       "    </tr>\n",
       "  </thead>\n",
       "  <tbody>\n",
       "    <tr>\n",
       "      <th rowspan=\"3\" valign=\"top\">Fri_1</th>\n",
       "      <th>dairy</th>\n",
       "      <td>2019-09-06 07:00:00</td>\n",
       "    </tr>\n",
       "    <tr>\n",
       "      <th>spices</th>\n",
       "      <td>2019-09-06 07:04:00</td>\n",
       "    </tr>\n",
       "    <tr>\n",
       "      <th>checkout</th>\n",
       "      <td>2019-09-06 07:05:00</td>\n",
       "    </tr>\n",
       "    <tr>\n",
       "      <th rowspan=\"2\" valign=\"top\">Fri_10</th>\n",
       "      <th>fruit</th>\n",
       "      <td>2019-09-06 07:06:00</td>\n",
       "    </tr>\n",
       "    <tr>\n",
       "      <th>checkout</th>\n",
       "      <td>2019-09-06 07:11:00</td>\n",
       "    </tr>\n",
       "    <tr>\n",
       "      <th>...</th>\n",
       "      <th>...</th>\n",
       "      <td>...</td>\n",
       "    </tr>\n",
       "    <tr>\n",
       "      <th rowspan=\"3\" valign=\"top\">Wed_998</th>\n",
       "      <th>dairy</th>\n",
       "      <td>2019-09-04 16:53:00</td>\n",
       "    </tr>\n",
       "    <tr>\n",
       "      <th>fruit</th>\n",
       "      <td>2019-09-04 16:57:00</td>\n",
       "    </tr>\n",
       "    <tr>\n",
       "      <th>checkout</th>\n",
       "      <td>2019-09-04 16:59:00</td>\n",
       "    </tr>\n",
       "    <tr>\n",
       "      <th rowspan=\"2\" valign=\"top\">Wed_999</th>\n",
       "      <th>fruit</th>\n",
       "      <td>2019-09-04 16:53:00</td>\n",
       "    </tr>\n",
       "    <tr>\n",
       "      <th>checkout</th>\n",
       "      <td>2019-09-04 16:54:00</td>\n",
       "    </tr>\n",
       "  </tbody>\n",
       "</table>\n",
       "<p>21671 rows × 1 columns</p>\n",
       "</div>"
      ],
      "text/plain": [
       "                                     min\n",
       "customer_no location                    \n",
       "Fri_1       dairy    2019-09-06 07:00:00\n",
       "            spices   2019-09-06 07:04:00\n",
       "            checkout 2019-09-06 07:05:00\n",
       "Fri_10      fruit    2019-09-06 07:06:00\n",
       "            checkout 2019-09-06 07:11:00\n",
       "...                                  ...\n",
       "Wed_998     dairy    2019-09-04 16:53:00\n",
       "            fruit    2019-09-04 16:57:00\n",
       "            checkout 2019-09-04 16:59:00\n",
       "Wed_999     fruit    2019-09-04 16:53:00\n",
       "            checkout 2019-09-04 16:54:00\n",
       "\n",
       "[21671 rows x 1 columns]"
      ]
     },
     "execution_count": 75,
     "metadata": {},
     "output_type": "execute_result"
    }
   ],
   "source": [
    "sort_customer"
   ]
  },
  {
   "cell_type": "markdown",
   "id": "85deee91",
   "metadata": {},
   "source": [
    "# Calculate the total number of customers in each section"
   ]
  },
  {
   "cell_type": "code",
   "execution_count": 77,
   "id": "9ca44a93",
   "metadata": {},
   "outputs": [
    {
     "data": {
      "image/png": "[encoded data removed]",
      "text/plain": [
       "<Figure size 432x288 with 1 Axes>"
      ]
     },
     "metadata": {
      "needs_background": "light"
     },
     "output_type": "display_data"
    },
    {
     "name": "stdout",
     "output_type": "stream",
     "text": [
      "----Section Visitation Numbers----\n",
      " The following sections have had 24877 vists between 2019-09-02 and 2019-09-06:\n",
      "\n",
      "Checkout: 7417\n",
      "Dairy: 4679\n",
      "Drinks: 3905\n",
      "Fruit: 5122\n",
      "Spices: 3754\n"
     ]
    }
   ],
   "source": [
    "shop_data.groupby('location')['customer_no'].count().plot(kind='bar')\n",
    "plt.xlabel('Store Sections')\n",
    "plt.ylabel('Total Number of Customers')\n",
    "plt.xticks(rotation=0)\n",
    "plt.show()\n",
    "\n",
    "locations = shop_data.groupby('location')['customer_no'].count().reset_index()\n",
    "total_visits = locations.sum()\n",
    "\n",
    "#start_date = shop_data.index.date.min()\n",
    "#end_date = shop_data.index.date.max()\n",
    "\n",
    "print(f'----Section Visitation Numbers----\\n \\\n",
    "The following sections have had {total_visits[1]} vists between {start_date} and {end_date}:\\n')\n",
    "for idx, rows in locations.iterrows():\n",
    "    print(f'{rows[0].title()}: {rows[1]}')\n"
   ]
  },
  {
   "cell_type": "code",
   "execution_count": 85,
   "id": "c7492142",
   "metadata": {},
   "outputs": [
    {
     "data": {
      "image/png": "[encoded data removed]",
      "text/plain": [
       "<Figure size 432x288 with 1 Axes>"
      ]
     },
     "metadata": {
      "needs_background": "light"
     },
     "output_type": "display_data"
    },
    {
     "name": "stdout",
     "output_type": "stream",
     "text": [
      "----Section Visitation Numbers----\n",
      " The following sections have had and average of 24877 daily vists between 2019-09-02 and 2019-09-06:\n",
      "\n",
      "Checkout: 7417\n",
      "Dairy: 4679\n",
      "Drinks: 3905\n",
      "Fruit: 5122\n",
      "Spices: 3754\n"
     ]
    }
   ],
   "source": [
    "shop_data.groupby('location')['customer_no'].count().plot(kind='bar')\n",
    "plt.xlabel('Store Sections')\n",
    "plt.ylabel('Total Number of Customers')\n",
    "plt.xticks(rotation=0)\n",
    "plt.show()\n",
    "\n",
    "locations = shop_data.groupby('location')['customer_no'].count().reset_index()\n",
    "#print(locations)\n",
    "total_visits = locations.sum()\n",
    "\n",
    "#start_date = shop_data.index.date.min()\n",
    "#end_date = shop_data.index.date.max()\n",
    "\n",
    "print(f'----Section Visitation Numbers----\\n \\\n",
    "The following sections have had and average of {int(total_visits[1])} daily vists between {start_date} and {end_date}:\\n')\n",
    "for idx, rows in locations.iterrows():\n",
    "    print(f'{rows[0].title()}: {int(rows[1])}')"
   ]
  },
  {
   "cell_type": "code",
   "execution_count": null,
   "id": "e7caa206",
   "metadata": {},
   "outputs": [],
   "source": [
    "day_overtime = shop_data.groupby(['location', shop_data.index.hour])['customer_no'].count().reset_index()"
   ]
  },
  {
   "cell_type": "code",
   "execution_count": null,
   "id": "625aa52d",
   "metadata": {},
   "outputs": [],
   "source": [
    "day_overtime"
   ]
  },
  {
   "cell_type": "code",
   "execution_count": null,
   "id": "0805fc88",
   "metadata": {},
   "outputs": [],
   "source": [
    "sections_overtime = day_overtime.pivot(index='timestamp', columns='location', values='customer_no')"
   ]
  },
  {
   "cell_type": "code",
   "execution_count": null,
   "id": "31052681",
   "metadata": {},
   "outputs": [],
   "source": [
    "sections_overtime.plot()\n",
    "sections_overtime"
   ]
  },
  {
   "cell_type": "code",
   "execution_count": null,
   "id": "feed325d",
   "metadata": {},
   "outputs": [],
   "source": [
    "sections_overtime['day']"
   ]
  },
  {
   "cell_type": "code",
   "execution_count": null,
   "id": "9559ca5f",
   "metadata": {},
   "outputs": [],
   "source": [
    "day_checkouts = sections_overtime['checkout']"
   ]
  },
  {
   "cell_type": "markdown",
   "id": "90d8f06a",
   "metadata": {},
   "source": [
    "# Display the number of customers at checkout over time"
   ]
  },
  {
   "cell_type": "code",
   "execution_count": null,
   "id": "0121214f",
   "metadata": {},
   "outputs": [],
   "source": [
    "sections_overtime['checkout'].plot(kind='line')\n",
    "plt.xlabel(f'Trend from {start_date} to {end_date}')\n",
    "plt.ylabel('Average Number of Customers')\n",
    "plt.xticks(rotation=20)\n",
    "plt.show()\n",
    "\n",
    "day_totals = day_checkouts['customer_no'].sum()\n",
    "\n",
    "print(f'----Section Visitation Numbers----\\n \\\n",
    "The following sections have had an average of {int(day_totals)} daily vists between {start_date} and {end_date}:\\n')\n",
    "for idx, rows in day_checkouts.iterrows():\n",
    "    print(f'{rows[0]}: {int(rows[2])}')"
   ]
  },
  {
   "cell_type": "code",
   "execution_count": null,
   "id": "9e1f35be",
   "metadata": {},
   "outputs": [],
   "source": [
    "day_checkouts.plot(x='timestamp', y='customer_no', kind='bar')\n",
    "plt.xlabel(f'Trend from {start_date} to {end_date}')\n",
    "plt.ylabel('Average Number of Customers')\n",
    "plt.xticks(rotation=20)\n",
    "plt.show()\n",
    "\n",
    "day_totals = day_checkouts['customer_no'].sum()\n",
    "\n",
    "print(f'----Section Visitation Numbers----\\n \\\n",
    "The following sections have had an average of {int(day_totals)} daily vists between {start_date} and {end_date}:\\n')\n",
    "for idx, rows in day_checkouts.iterrows():\n",
    "    print(f'{rows[0]}: {int(rows[2])}')"
   ]
  },
  {
   "cell_type": "markdown",
   "id": "f4cd0436",
   "metadata": {},
   "source": [
    "# Calculate the time each customer spent in the market"
   ]
  },
  {
   "cell_type": "code",
   "execution_count": null,
   "id": "5a2a9137",
   "metadata": {},
   "outputs": [],
   "source": [
    "def total_time(dataframe):\n",
    "    time_diff = dataframe[1] - dataframe[0]\n",
    "    \n",
    "    total_time = time_diff.seconds / 60\n",
    "    \n",
    "    return time_diff.seconds"
   ]
  },
  {
   "cell_type": "code",
   "execution_count": null,
   "id": "732d6418",
   "metadata": {},
   "outputs": [],
   "source": [
    "shop_data"
   ]
  },
  {
   "cell_type": "code",
   "execution_count": null,
   "id": "8f724454",
   "metadata": {},
   "outputs": [],
   "source": [
    "shop_data['day'] = shop_data.index.day_name()"
   ]
  },
  {
   "cell_type": "code",
   "execution_count": null,
   "id": "6c5bc120",
   "metadata": {},
   "outputs": [],
   "source": [
    "shop_data.reset_index(inplace=True)"
   ]
  },
  {
   "cell_type": "code",
   "execution_count": null,
   "id": "54f50c02",
   "metadata": {},
   "outputs": [],
   "source": [
    "customers = shop_data.groupby(['day','customer_no'])['timestamp'].agg(['min', 'max'])"
   ]
  },
  {
   "cell_type": "code",
   "execution_count": null,
   "id": "f83c5079",
   "metadata": {},
   "outputs": [],
   "source": [
    "customers"
   ]
  },
  {
   "cell_type": "code",
   "execution_count": null,
   "id": "b554df3c",
   "metadata": {},
   "outputs": [],
   "source": [
    "customers['total_shop_time (seconds)'] = customers[['min','max']].apply(total_time, axis=1)"
   ]
  },
  {
   "cell_type": "code",
   "execution_count": null,
   "id": "4337b448",
   "metadata": {},
   "outputs": [],
   "source": [
    "total_avg_time_spent = round(customers['total_shop_time (seconds)'].mean(),1)"
   ]
  },
  {
   "cell_type": "code",
   "execution_count": null,
   "id": "a0031bf1",
   "metadata": {},
   "outputs": [],
   "source": [
    "daily_avg_time_spent = customers.groupby('day')[['total_shop_time (seconds)']].mean().reset_index()\n",
    "daily_avg_time_spent"
   ]
  },
  {
   "cell_type": "code",
   "execution_count": null,
   "id": "21a3cde0",
   "metadata": {},
   "outputs": [],
   "source": [
    "daily_avg_time_spent.plot(x='day', y='total_shop_time (seconds)', kind='bar')\n",
    "plt.xlabel(f'Trend from {start_date} to {end_date}')\n",
    "plt.ylabel('Average Shopping Time (in seconds)')\n",
    "plt.title('Average Time Spent Shopping')\n",
    "plt.xticks(rotation=20)\n",
    "plt.show()\n",
    "\n",
    "print(f'----Section Visitation Numbers----\\n \\\n",
    "Customers spend on average {total_avg_time_spent} seconds shopping on the days between {start_date} and {end_date}:\\n')\n",
    "for idx, rows in daily_avg_time_spent.iterrows():\n",
    "    print(f'{rows[0]}: {round(rows[1], 2)} seconds spent in the store')"
   ]
  },
  {
   "cell_type": "code",
   "execution_count": null,
   "id": "1f29de85",
   "metadata": {},
   "outputs": [],
   "source": []
  },
  {
   "cell_type": "code",
   "execution_count": null,
   "id": "59801b67",
   "metadata": {},
   "outputs": [],
   "source": [
    "t = shop_data.groupby('day')"
   ]
  },
  {
   "cell_type": "code",
   "execution_count": null,
   "id": "0f8ea67f",
   "metadata": {},
   "outputs": [],
   "source": []
  }
 ],
 "metadata": {
  "kernelspec": {
   "display_name": "Python 3 (ipykernel)",
   "language": "python",
   "name": "python3"
  },
  "language_info": {
   "codemirror_mode": {
    "name": "ipython",
    "version": 3
   },
   "file_extension": ".py",
   "mimetype": "text/x-python",
   "name": "python",
   "nbconvert_exporter": "python",
   "pygments_lexer": "ipython3",
   "version": "3.9.7"
  }
 },
 "nbformat": 4,
 "nbformat_minor": 5
}

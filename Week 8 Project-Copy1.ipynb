{
 "cells": [
  {
   "cell_type": "code",
   "execution_count": 1,
   "id": "a9bac27b",
   "metadata": {},
   "outputs": [],
   "source": [
    "import pandas as pd\n",
    "import seaborn as sns\n",
    "import numpy as np\n",
    "import matplotlib.pyplot as plt\n",
    "import os\n",
    "import datetime as dt"
   ]
  },
  {
   "cell_type": "code",
   "execution_count": 2,
   "id": "4daf8808",
   "metadata": {},
   "outputs": [],
   "source": [
    "files = os.listdir(path='data')"
   ]
  },
  {
   "cell_type": "code",
   "execution_count": 3,
   "id": "e55aad5b",
   "metadata": {},
   "outputs": [
    {
     "data": {
      "text/plain": [
       "['friday.csv', 'monday.csv', 'thursday.csv', 'tuesday.csv', 'wednesday.csv']"
      ]
     },
     "execution_count": 3,
     "metadata": {},
     "output_type": "execute_result"
    }
   ],
   "source": [
    "files"
   ]
  },
  {
   "cell_type": "code",
   "execution_count": 4,
   "id": "ad0da84f",
   "metadata": {},
   "outputs": [],
   "source": [
    "def read_files(files, datapath='data/', delimiter = ';'):\n",
    "        df_temp = []\n",
    "\n",
    "        if type(files) == list:\n",
    "            for i in files:\n",
    "                df = pd.read_csv(datapath+i, delimiter=delimiter, parse_dates=True, index_col='timestamp')\n",
    "                day_name = df.index.day_name()[0][:3]\n",
    "                df['customer_no'] = df.customer_no.apply(lambda x: f'{day_name}_{x}')\n",
    "                df_temp.append(df)\n",
    "            df = pd.concat(df_temp)\n",
    "        else:\n",
    "            df = pd.read_csv(files, delimiter=delimiter, parse_dates=True, index_col='timestamp')\n",
    "            day_name = df.index.day_name()[0][:3]\n",
    "            df['customer_no'] = df.customer_no.apply(lambda x: f'{day_name}_{x}')\n",
    "\n",
    "        return df"
   ]
  },
  {
   "cell_type": "code",
   "execution_count": 5,
   "id": "003df293",
   "metadata": {},
   "outputs": [],
   "source": [
    "shop_data = read_files(files)"
   ]
  },
  {
   "cell_type": "markdown",
   "id": "39c6abc1",
   "metadata": {},
   "source": [
    "# Part 1: Data Exploration"
   ]
  },
  {
   "cell_type": "code",
   "execution_count": 6,
   "id": "73238d88",
   "metadata": {},
   "outputs": [],
   "source": [
    "shop_data = shop_data.sort_values(by='timestamp')"
   ]
  },
  {
   "cell_type": "code",
   "execution_count": 7,
   "id": "76591840",
   "metadata": {},
   "outputs": [
    {
     "data": {
      "text/html": [
       "<div>\n",
       "<style scoped>\n",
       "    .dataframe tbody tr th:only-of-type {\n",
       "        vertical-align: middle;\n",
       "    }\n",
       "\n",
       "    .dataframe tbody tr th {\n",
       "        vertical-align: top;\n",
       "    }\n",
       "\n",
       "    .dataframe thead th {\n",
       "        text-align: right;\n",
       "    }\n",
       "</style>\n",
       "<table border=\"1\" class=\"dataframe\">\n",
       "  <thead>\n",
       "    <tr style=\"text-align: right;\">\n",
       "      <th></th>\n",
       "      <th>customer_no</th>\n",
       "      <th>location</th>\n",
       "    </tr>\n",
       "    <tr>\n",
       "      <th>timestamp</th>\n",
       "      <th></th>\n",
       "      <th></th>\n",
       "    </tr>\n",
       "  </thead>\n",
       "  <tbody>\n",
       "    <tr>\n",
       "      <th>2019-09-02 14:04:00</th>\n",
       "      <td>Mon_639</td>\n",
       "      <td>checkout</td>\n",
       "    </tr>\n",
       "    <tr>\n",
       "      <th>2019-09-03 15:12:00</th>\n",
       "      <td>Tue_714</td>\n",
       "      <td>checkout</td>\n",
       "    </tr>\n",
       "    <tr>\n",
       "      <th>2019-09-05 08:07:00</th>\n",
       "      <td>Thu_112</td>\n",
       "      <td>dairy</td>\n",
       "    </tr>\n",
       "    <tr>\n",
       "      <th>2019-09-03 18:00:00</th>\n",
       "      <td>Tue_1003</td>\n",
       "      <td>spices</td>\n",
       "    </tr>\n",
       "    <tr>\n",
       "      <th>2019-09-02 12:40:00</th>\n",
       "      <td>Mon_486</td>\n",
       "      <td>checkout</td>\n",
       "    </tr>\n",
       "    <tr>\n",
       "      <th>2019-09-02 10:23:00</th>\n",
       "      <td>Mon_338</td>\n",
       "      <td>fruit</td>\n",
       "    </tr>\n",
       "    <tr>\n",
       "      <th>2019-09-06 11:07:00</th>\n",
       "      <td>Fri_395</td>\n",
       "      <td>fruit</td>\n",
       "    </tr>\n",
       "    <tr>\n",
       "      <th>2019-09-06 08:31:00</th>\n",
       "      <td>Fri_166</td>\n",
       "      <td>checkout</td>\n",
       "    </tr>\n",
       "    <tr>\n",
       "      <th>2019-09-03 14:22:00</th>\n",
       "      <td>Tue_632</td>\n",
       "      <td>dairy</td>\n",
       "    </tr>\n",
       "    <tr>\n",
       "      <th>2019-09-02 16:43:00</th>\n",
       "      <td>Mon_870</td>\n",
       "      <td>fruit</td>\n",
       "    </tr>\n",
       "  </tbody>\n",
       "</table>\n",
       "</div>"
      ],
      "text/plain": [
       "                    customer_no  location\n",
       "timestamp                                \n",
       "2019-09-02 14:04:00     Mon_639  checkout\n",
       "2019-09-03 15:12:00     Tue_714  checkout\n",
       "2019-09-05 08:07:00     Thu_112     dairy\n",
       "2019-09-03 18:00:00    Tue_1003    spices\n",
       "2019-09-02 12:40:00     Mon_486  checkout\n",
       "2019-09-02 10:23:00     Mon_338     fruit\n",
       "2019-09-06 11:07:00     Fri_395     fruit\n",
       "2019-09-06 08:31:00     Fri_166  checkout\n",
       "2019-09-03 14:22:00     Tue_632     dairy\n",
       "2019-09-02 16:43:00     Mon_870     fruit"
      ]
     },
     "execution_count": 7,
     "metadata": {},
     "output_type": "execute_result"
    }
   ],
   "source": [
    "shop_data.sample(10)"
   ]
  },
  {
   "cell_type": "markdown",
   "id": "8a0bfd01",
   "metadata": {},
   "source": [
    "##### Get list of all sections in the store"
   ]
  },
  {
   "cell_type": "code",
   "execution_count": 8,
   "id": "2485091b",
   "metadata": {},
   "outputs": [
    {
     "data": {
      "text/plain": [
       "['dairy', 'spices', 'fruit', 'checkout', 'drinks']"
      ]
     },
     "execution_count": 8,
     "metadata": {},
     "output_type": "execute_result"
    }
   ],
   "source": [
    "store_sections = list(shop_data.location.unique())\n",
    "store_sections"
   ]
  },
  {
   "cell_type": "markdown",
   "id": "6b125bc2",
   "metadata": {},
   "source": [
    "# Fill time steps"
   ]
  },
  {
   "cell_type": "markdown",
   "id": "a5e845f1",
   "metadata": {},
   "source": [
    "##### See customer follow throughout different sections"
   ]
  },
  {
   "cell_type": "code",
   "execution_count": 9,
   "id": "9ae471a3",
   "metadata": {},
   "outputs": [],
   "source": [
    "shop_data = shop_data.reset_index()"
   ]
  },
  {
   "cell_type": "code",
   "execution_count": 10,
   "id": "31e978ce",
   "metadata": {},
   "outputs": [],
   "source": [
    "last_loc = shop_data.groupby('customer_no')['timestamp'].max()"
   ]
  },
  {
   "cell_type": "code",
   "execution_count": 11,
   "id": "15eccaef",
   "metadata": {
    "scrolled": true
   },
   "outputs": [
    {
     "data": {
      "text/html": [
       "<div>\n",
       "<style scoped>\n",
       "    .dataframe tbody tr th:only-of-type {\n",
       "        vertical-align: middle;\n",
       "    }\n",
       "\n",
       "    .dataframe tbody tr th {\n",
       "        vertical-align: top;\n",
       "    }\n",
       "\n",
       "    .dataframe thead th {\n",
       "        text-align: right;\n",
       "    }\n",
       "</style>\n",
       "<table border=\"1\" class=\"dataframe\">\n",
       "  <thead>\n",
       "    <tr style=\"text-align: right;\">\n",
       "      <th></th>\n",
       "      <th>timestamp</th>\n",
       "      <th>customer_no</th>\n",
       "      <th>location</th>\n",
       "    </tr>\n",
       "  </thead>\n",
       "  <tbody>\n",
       "    <tr>\n",
       "      <th>19754</th>\n",
       "      <td>2019-09-06 07:00:00</td>\n",
       "      <td>Fri_1</td>\n",
       "      <td>dairy</td>\n",
       "    </tr>\n",
       "    <tr>\n",
       "      <th>19764</th>\n",
       "      <td>2019-09-06 07:04:00</td>\n",
       "      <td>Fri_1</td>\n",
       "      <td>spices</td>\n",
       "    </tr>\n",
       "    <tr>\n",
       "      <th>19768</th>\n",
       "      <td>2019-09-06 07:05:00</td>\n",
       "      <td>Fri_1</td>\n",
       "      <td>checkout</td>\n",
       "    </tr>\n",
       "  </tbody>\n",
       "</table>\n",
       "</div>"
      ],
      "text/plain": [
       "                timestamp customer_no  location\n",
       "19754 2019-09-06 07:00:00       Fri_1     dairy\n",
       "19764 2019-09-06 07:04:00       Fri_1    spices\n",
       "19768 2019-09-06 07:05:00       Fri_1  checkout"
      ]
     },
     "execution_count": 11,
     "metadata": {},
     "output_type": "execute_result"
    }
   ],
   "source": [
    "shop_data.loc[shop_data.customer_no == 'Fri_1']"
   ]
  },
  {
   "cell_type": "code",
   "execution_count": 12,
   "id": "84778520",
   "metadata": {},
   "outputs": [],
   "source": [
    "day_overtime = shop_data.groupby(['customer_no','location'])[['timestamp']].agg('min')\\\n",
    ".sort_values(by=['customer_no','timestamp'])"
   ]
  },
  {
   "cell_type": "code",
   "execution_count": 13,
   "id": "145525a2",
   "metadata": {},
   "outputs": [
    {
     "data": {
      "text/html": [
       "<div>\n",
       "<style scoped>\n",
       "    .dataframe tbody tr th:only-of-type {\n",
       "        vertical-align: middle;\n",
       "    }\n",
       "\n",
       "    .dataframe tbody tr th {\n",
       "        vertical-align: top;\n",
       "    }\n",
       "\n",
       "    .dataframe thead th {\n",
       "        text-align: right;\n",
       "    }\n",
       "</style>\n",
       "<table border=\"1\" class=\"dataframe\">\n",
       "  <thead>\n",
       "    <tr style=\"text-align: right;\">\n",
       "      <th></th>\n",
       "      <th></th>\n",
       "      <th>timestamp</th>\n",
       "    </tr>\n",
       "    <tr>\n",
       "      <th>customer_no</th>\n",
       "      <th>location</th>\n",
       "      <th></th>\n",
       "    </tr>\n",
       "  </thead>\n",
       "  <tbody>\n",
       "    <tr>\n",
       "      <th rowspan=\"3\" valign=\"top\">Fri_1</th>\n",
       "      <th>dairy</th>\n",
       "      <td>2019-09-06 07:00:00</td>\n",
       "    </tr>\n",
       "    <tr>\n",
       "      <th>spices</th>\n",
       "      <td>2019-09-06 07:04:00</td>\n",
       "    </tr>\n",
       "    <tr>\n",
       "      <th>checkout</th>\n",
       "      <td>2019-09-06 07:05:00</td>\n",
       "    </tr>\n",
       "    <tr>\n",
       "      <th rowspan=\"2\" valign=\"top\">Fri_10</th>\n",
       "      <th>fruit</th>\n",
       "      <td>2019-09-06 07:06:00</td>\n",
       "    </tr>\n",
       "    <tr>\n",
       "      <th>checkout</th>\n",
       "      <td>2019-09-06 07:11:00</td>\n",
       "    </tr>\n",
       "    <tr>\n",
       "      <th>...</th>\n",
       "      <th>...</th>\n",
       "      <td>...</td>\n",
       "    </tr>\n",
       "    <tr>\n",
       "      <th rowspan=\"3\" valign=\"top\">Wed_998</th>\n",
       "      <th>dairy</th>\n",
       "      <td>2019-09-04 16:53:00</td>\n",
       "    </tr>\n",
       "    <tr>\n",
       "      <th>fruit</th>\n",
       "      <td>2019-09-04 16:57:00</td>\n",
       "    </tr>\n",
       "    <tr>\n",
       "      <th>checkout</th>\n",
       "      <td>2019-09-04 16:59:00</td>\n",
       "    </tr>\n",
       "    <tr>\n",
       "      <th rowspan=\"2\" valign=\"top\">Wed_999</th>\n",
       "      <th>fruit</th>\n",
       "      <td>2019-09-04 16:53:00</td>\n",
       "    </tr>\n",
       "    <tr>\n",
       "      <th>checkout</th>\n",
       "      <td>2019-09-04 16:54:00</td>\n",
       "    </tr>\n",
       "  </tbody>\n",
       "</table>\n",
       "<p>21671 rows × 1 columns</p>\n",
       "</div>"
      ],
      "text/plain": [
       "                               timestamp\n",
       "customer_no location                    \n",
       "Fri_1       dairy    2019-09-06 07:00:00\n",
       "            spices   2019-09-06 07:04:00\n",
       "            checkout 2019-09-06 07:05:00\n",
       "Fri_10      fruit    2019-09-06 07:06:00\n",
       "            checkout 2019-09-06 07:11:00\n",
       "...                                  ...\n",
       "Wed_998     dairy    2019-09-04 16:53:00\n",
       "            fruit    2019-09-04 16:57:00\n",
       "            checkout 2019-09-04 16:59:00\n",
       "Wed_999     fruit    2019-09-04 16:53:00\n",
       "            checkout 2019-09-04 16:54:00\n",
       "\n",
       "[21671 rows x 1 columns]"
      ]
     },
     "execution_count": 13,
     "metadata": {},
     "output_type": "execute_result"
    }
   ],
   "source": [
    "day_overtime"
   ]
  },
  {
   "cell_type": "code",
   "execution_count": 14,
   "id": "d4e6a744",
   "metadata": {},
   "outputs": [],
   "source": [
    "customer_flow = pd.pivot_table(day_overtime, index='customer_no', values='timestamp', columns='location')\\\n",
    ".reindex(columns=['entrance','fruit', 'spices', 'dairy', 'drinks', 'checkout'])"
   ]
  },
  {
   "cell_type": "code",
   "execution_count": 15,
   "id": "a15e2b5a",
   "metadata": {},
   "outputs": [
    {
     "data": {
      "text/html": [
       "<div>\n",
       "<style scoped>\n",
       "    .dataframe tbody tr th:only-of-type {\n",
       "        vertical-align: middle;\n",
       "    }\n",
       "\n",
       "    .dataframe tbody tr th {\n",
       "        vertical-align: top;\n",
       "    }\n",
       "\n",
       "    .dataframe thead th {\n",
       "        text-align: right;\n",
       "    }\n",
       "</style>\n",
       "<table border=\"1\" class=\"dataframe\">\n",
       "  <thead>\n",
       "    <tr style=\"text-align: right;\">\n",
       "      <th>location</th>\n",
       "      <th>entrance</th>\n",
       "      <th>fruit</th>\n",
       "      <th>spices</th>\n",
       "      <th>dairy</th>\n",
       "      <th>drinks</th>\n",
       "      <th>checkout</th>\n",
       "    </tr>\n",
       "    <tr>\n",
       "      <th>customer_no</th>\n",
       "      <th></th>\n",
       "      <th></th>\n",
       "      <th></th>\n",
       "      <th></th>\n",
       "      <th></th>\n",
       "      <th></th>\n",
       "    </tr>\n",
       "  </thead>\n",
       "  <tbody>\n",
       "    <tr>\n",
       "      <th>Fri_1494</th>\n",
       "      <td>NaN</td>\n",
       "      <td>2019-09-06 21:39:00</td>\n",
       "      <td>2019-09-06 21:49:00</td>\n",
       "      <td>2019-09-06 21:32:00</td>\n",
       "      <td>2019-09-06 21:33:00</td>\n",
       "      <td>NaT</td>\n",
       "    </tr>\n",
       "  </tbody>\n",
       "</table>\n",
       "</div>"
      ],
      "text/plain": [
       "location     entrance               fruit              spices  \\\n",
       "customer_no                                                     \n",
       "Fri_1494          NaN 2019-09-06 21:39:00 2019-09-06 21:49:00   \n",
       "\n",
       "location                  dairy              drinks checkout  \n",
       "customer_no                                                   \n",
       "Fri_1494    2019-09-06 21:32:00 2019-09-06 21:33:00      NaT  "
      ]
     },
     "execution_count": 15,
     "metadata": {},
     "output_type": "execute_result"
    }
   ],
   "source": [
    "customer_flow.loc[customer_flow.checkout.isnull()].head(1)"
   ]
  },
  {
   "cell_type": "markdown",
   "id": "334fd1fc",
   "metadata": {},
   "source": [
    "# Fill in checkout time"
   ]
  },
  {
   "cell_type": "code",
   "execution_count": 16,
   "id": "ce51847f",
   "metadata": {},
   "outputs": [],
   "source": [
    "def fill_timestamp(dataframe):\n",
    "    if dataframe.checkout != dataframe.checkout:\n",
    "        closing_time = dataframe.loc[dataframe.notnull()].max().round('H')\n",
    "        return closing_time\n",
    "    else:\n",
    "        return dataframe.checkout\n",
    "    \n",
    "    if dataframe.checkout != dataframe.checkout:\n",
    "        closing_time = dataframe.loc[dataframe.notnull()].max().round('H')\n",
    "    return closing_time"
   ]
  },
  {
   "cell_type": "code",
   "execution_count": 17,
   "id": "329f201a",
   "metadata": {},
   "outputs": [],
   "source": [
    "customer_flow['checkout'] = customer_flow.apply(fill_timestamp, axis=1)"
   ]
  },
  {
   "cell_type": "code",
   "execution_count": 20,
   "id": "ef241db2",
   "metadata": {},
   "outputs": [
    {
     "ename": "AttributeError",
     "evalue": "'Index' object has no attribute 'customer_no'",
     "output_type": "error",
     "traceback": [
      "\u001b[1;31m---------------------------------------------------------------------------\u001b[0m",
      "\u001b[1;31mAttributeError\u001b[0m                            Traceback (most recent call last)",
      "\u001b[1;32m~\\AppData\\Local\\Temp/ipykernel_26368/3973847875.py\u001b[0m in \u001b[0;36m<module>\u001b[1;34m\u001b[0m\n\u001b[1;32m----> 1\u001b[1;33m \u001b[0mcustomers_in_sections\u001b[0m \u001b[1;33m=\u001b[0m \u001b[0mcustomer_flow\u001b[0m\u001b[1;33m.\u001b[0m\u001b[0mpivot\u001b[0m\u001b[1;33m(\u001b[0m\u001b[0mindex\u001b[0m\u001b[1;33m=\u001b[0m\u001b[0mcustomer_flow\u001b[0m\u001b[1;33m.\u001b[0m\u001b[0mindex\u001b[0m\u001b[1;33m.\u001b[0m\u001b[0mcustomer_no\u001b[0m\u001b[1;33m,\u001b[0m \u001b[0mcolumns\u001b[0m\u001b[1;33m=\u001b[0m\u001b[0mday_overtime\u001b[0m\u001b[1;33m.\u001b[0m\u001b[0mindex\u001b[0m\u001b[1;33m.\u001b[0m\u001b[0mlocation\u001b[0m\u001b[1;33m,\u001b[0m \u001b[0mvalues\u001b[0m\u001b[1;33m=\u001b[0m\u001b[1;34m'timestamp'\u001b[0m\u001b[1;33m)\u001b[0m\u001b[1;33m\u001b[0m\u001b[1;33m\u001b[0m\u001b[0m\n\u001b[0m\u001b[0;32m      2\u001b[0m \u001b[0mcustomers_in_sections\u001b[0m\u001b[1;33m\u001b[0m\u001b[1;33m\u001b[0m\u001b[0m\n",
      "\u001b[1;31mAttributeError\u001b[0m: 'Index' object has no attribute 'customer_no'"
     ]
    }
   ],
   "source": [
    "customers_in_sections = customer_flow.pivot(index=customer_flow.index.customer_no, columns=day_overtime.index.location, values='timestamp')\n",
    "customers_in_sections"
   ]
  },
  {
   "cell_type": "code",
   "execution_count": 19,
   "id": "36295127",
   "metadata": {},
   "outputs": [
    {
     "ename": "NameError",
     "evalue": "name 'time_test' is not defined",
     "output_type": "error",
     "traceback": [
      "\u001b[1;31m---------------------------------------------------------------------------\u001b[0m",
      "\u001b[1;31mNameError\u001b[0m                                 Traceback (most recent call last)",
      "\u001b[1;32m~\\AppData\\Local\\Temp/ipykernel_26368/2150175328.py\u001b[0m in \u001b[0;36m<module>\u001b[1;34m\u001b[0m\n\u001b[1;32m----> 1\u001b[1;33m \u001b[0mtime_test\u001b[0m\u001b[1;33m.\u001b[0m\u001b[0mindex\u001b[0m\u001b[1;33m\u001b[0m\u001b[1;33m\u001b[0m\u001b[0m\n\u001b[0m",
      "\u001b[1;31mNameError\u001b[0m: name 'time_test' is not defined"
     ]
    }
   ],
   "source": [
    "time_test.index"
   ]
  },
  {
   "cell_type": "code",
   "execution_count": null,
   "id": "fa1c897f",
   "metadata": {},
   "outputs": [],
   "source": [
    "time_test = shop_data.set_index('timestamp')"
   ]
  },
  {
   "cell_type": "code",
   "execution_count": null,
   "id": "d327d130",
   "metadata": {},
   "outputs": [],
   "source": [
    "section_test = time_test[['customer_no', 'location']]"
   ]
  },
  {
   "cell_type": "code",
   "execution_count": null,
   "id": "40821fd9",
   "metadata": {},
   "outputs": [],
   "source": [
    "#time_test.groupby(time_test.index)['location'].resample('1T').ffill()"
   ]
  },
  {
   "cell_type": "code",
   "execution_count": null,
   "id": "a47db640",
   "metadata": {},
   "outputs": [],
   "source": [
    "start_date = shop_data.timestamp.dt.date.min()\n",
    "end_date = shop_data.timestamp.dt.date.max()"
   ]
  },
  {
   "cell_type": "markdown",
   "id": "85deee91",
   "metadata": {},
   "source": [
    "# Calculate the total number of customers in each section"
   ]
  },
  {
   "cell_type": "code",
   "execution_count": null,
   "id": "9ca44a93",
   "metadata": {},
   "outputs": [],
   "source": [
    "shop_data.groupby('location')['customer_no'].count().plot(kind='bar')\n",
    "plt.xlabel('Store Sections')\n",
    "plt.ylabel('Total Number of Customers')\n",
    "plt.title('Visitation Numbers (by Section)')\n",
    "plt.xticks(rotation=0)\n",
    "plt.show()\n",
    "\n",
    "locations = shop_data.groupby('location')['customer_no'].count().reset_index()\n",
    "total_visits = locations.sum()\n",
    "\n",
    "print(f'----Section Visitation Numbers----\\n \\\n",
    "The following sections have had {total_visits[1]} vists between {start_date} and {end_date}:\\n')\n",
    "for idx, rows in locations.iterrows():\n",
    "    print(f'{rows[0].title()}: {rows[1]}')\n"
   ]
  },
  {
   "cell_type": "markdown",
   "id": "bfc7ceea",
   "metadata": {},
   "source": [
    "# Section counts over time"
   ]
  },
  {
   "cell_type": "code",
   "execution_count": null,
   "id": "e7caa206",
   "metadata": {},
   "outputs": [],
   "source": [
    "day_overtime_counts = shop_data.groupby(['location', shop_data.timestamp.dt.hour])['customer_no'].count().reset_index()"
   ]
  },
  {
   "cell_type": "code",
   "execution_count": null,
   "id": "625aa52d",
   "metadata": {},
   "outputs": [],
   "source": [
    "day_overtime_counts.head()"
   ]
  },
  {
   "cell_type": "code",
   "execution_count": null,
   "id": "0805fc88",
   "metadata": {},
   "outputs": [],
   "source": [
    "sections_overtime = day_overtime_counts.pivot(index='timestamp', columns='location', values='customer_no')"
   ]
  },
  {
   "cell_type": "code",
   "execution_count": null,
   "id": "31052681",
   "metadata": {},
   "outputs": [],
   "source": [
    "sections_overtime.plot()\n",
    "sections_overtime"
   ]
  },
  {
   "cell_type": "markdown",
   "id": "90d8f06a",
   "metadata": {},
   "source": [
    "# Display the number of customers at checkout over time"
   ]
  },
  {
   "cell_type": "code",
   "execution_count": null,
   "id": "b482e684",
   "metadata": {},
   "outputs": [],
   "source": [
    "hour = shop_data.timestamp.dt.hour\n",
    "checkout_overtime = shop_data.loc[shop_data.location == 'checkout'].groupby(hour)[['customer_no']].count()\n",
    "checkout_overtime.head()"
   ]
  },
  {
   "cell_type": "code",
   "execution_count": null,
   "id": "0121214f",
   "metadata": {},
   "outputs": [],
   "source": [
    "checkout_overtime.plot(kind='line')\n",
    "plt.xlabel(f'Trend from {start_date} to {end_date}')\n",
    "plt.ylabel('Average Number of Customers')\n",
    "plt.xticks(rotation=20)\n",
    "plt.show()\n",
    "\n",
    "day_totals = checkout_overtime.sum()\n",
    "\n",
    "print(f'----Checkout Visitation Numbers----\\n \\\n",
    "The checkout had a total of {int(day_totals)} vists between {start_date} and {end_date}:\\n')\n",
    "for idx, rows in checkout_overtime.iterrows():\n",
    "    print(f'{idx}00: {int(rows[0])}')"
   ]
  },
  {
   "cell_type": "code",
   "execution_count": null,
   "id": "9e1f35be",
   "metadata": {},
   "outputs": [],
   "source": [
    "day_checkouts.plot(x='timestamp', y='customer_no', kind='bar')\n",
    "plt.xlabel(f'Trend from {start_date} to {end_date}')\n",
    "plt.ylabel('Average Number of Customers')\n",
    "plt.xticks(rotation=20)\n",
    "plt.show()\n",
    "\n",
    "day_totals = day_checkouts['customer_no'].sum()\n",
    "\n",
    "print(f'----Section Visitation Numbers----\\n \\\n",
    "The following sections have had an average of {int(day_totals)} daily vists between {start_date} and {end_date}:\\n')\n",
    "for idx, rows in day_checkouts.iterrows():\n",
    "    print(f'{rows[0]}: {int(rows[2])}')"
   ]
  },
  {
   "cell_type": "markdown",
   "id": "f4cd0436",
   "metadata": {},
   "source": [
    "# Calculate the time each customer spent in the market"
   ]
  },
  {
   "cell_type": "code",
   "execution_count": null,
   "id": "5a2a9137",
   "metadata": {},
   "outputs": [],
   "source": [
    "def total_time(dataframe):\n",
    "    time_diff = dataframe[1] - dataframe[0]\n",
    "    \n",
    "    total_time = time_diff.seconds / 60\n",
    "    \n",
    "    return time_diff.seconds"
   ]
  },
  {
   "cell_type": "code",
   "execution_count": null,
   "id": "732d6418",
   "metadata": {},
   "outputs": [],
   "source": [
    "shop_data"
   ]
  },
  {
   "cell_type": "code",
   "execution_count": null,
   "id": "8f724454",
   "metadata": {},
   "outputs": [],
   "source": [
    "shop_data['day'] = shop_data.index.day_name()"
   ]
  },
  {
   "cell_type": "code",
   "execution_count": null,
   "id": "6c5bc120",
   "metadata": {},
   "outputs": [],
   "source": [
    "shop_data.reset_index(inplace=True)"
   ]
  },
  {
   "cell_type": "code",
   "execution_count": null,
   "id": "54f50c02",
   "metadata": {},
   "outputs": [],
   "source": [
    "customers = shop_data.groupby(['customer_no'])['timestamp'].agg(['min', 'max'])"
   ]
  },
  {
   "cell_type": "code",
   "execution_count": null,
   "id": "f83c5079",
   "metadata": {},
   "outputs": [],
   "source": [
    "customers"
   ]
  },
  {
   "cell_type": "code",
   "execution_count": null,
   "id": "b554df3c",
   "metadata": {},
   "outputs": [],
   "source": [
    "customers['total_shop_time (seconds)'] = customers[['min','max']].apply(total_time, axis=1)"
   ]
  },
  {
   "cell_type": "code",
   "execution_count": null,
   "id": "4337b448",
   "metadata": {},
   "outputs": [],
   "source": [
    "total_avg_time_spent = round(customers['total_shop_time (seconds)'].mean(),1)"
   ]
  },
  {
   "cell_type": "code",
   "execution_count": null,
   "id": "a0031bf1",
   "metadata": {},
   "outputs": [],
   "source": [
    "daily_avg_time_spent = customers.groupby('day')[['total_shop_time (seconds)']].mean().reset_index()\n",
    "daily_avg_time_spent"
   ]
  },
  {
   "cell_type": "code",
   "execution_count": null,
   "id": "21a3cde0",
   "metadata": {},
   "outputs": [],
   "source": [
    "daily_avg_time_spent.plot(x='day', y='total_shop_time (seconds)', kind='bar')\n",
    "plt.xlabel(f'Trend from {start_date} to {end_date}')\n",
    "plt.ylabel('Average Shopping Time (in seconds)')\n",
    "plt.title('Average Time Spent Shopping')\n",
    "plt.xticks(rotation=20)\n",
    "plt.show()\n",
    "\n",
    "print(f'----Section Visitation Numbers----\\n \\\n",
    "Customers spend on average {total_avg_time_spent} seconds shopping on the days between {start_date} and {end_date}:\\n')\n",
    "for idx, rows in daily_avg_time_spent.iterrows():\n",
    "    print(f'{rows[0]}: {round(rows[1], 2)} seconds spent in the store')"
   ]
  },
  {
   "cell_type": "code",
   "execution_count": null,
   "id": "1f29de85",
   "metadata": {},
   "outputs": [],
   "source": []
  },
  {
   "cell_type": "code",
   "execution_count": null,
   "id": "59801b67",
   "metadata": {},
   "outputs": [],
   "source": [
    "t = shop_data.groupby('day')"
   ]
  },
  {
   "cell_type": "code",
   "execution_count": null,
   "id": "0f8ea67f",
   "metadata": {},
   "outputs": [],
   "source": []
  }
 ],
 "metadata": {
  "kernelspec": {
   "display_name": "Python 3 (ipykernel)",
   "language": "python",
   "name": "python3"
  },
  "language_info": {
   "codemirror_mode": {
    "name": "ipython",
    "version": 3
   },
   "file_extension": ".py",
   "mimetype": "text/x-python",
   "name": "python",
   "nbconvert_exporter": "python",
   "pygments_lexer": "ipython3",
   "version": "3.9.7"
  }
 },
 "nbformat": 4,
 "nbformat_minor": 5
}

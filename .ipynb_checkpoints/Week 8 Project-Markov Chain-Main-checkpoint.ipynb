{
 "cells": [
  {
   "cell_type": "code",
   "execution_count": 1,
   "id": "a9bac27b",
   "metadata": {},
   "outputs": [],
   "source": [
    "import pandas as pd\n",
    "import seaborn as sns\n",
    "import numpy as np\n",
    "import matplotlib.pyplot as plt\n",
    "import os\n",
    "import datetime as dt\n",
    "from faker import Faker\n",
    "from random import choices"
   ]
  },
  {
   "cell_type": "code",
   "execution_count": 2,
   "id": "4daf8808",
   "metadata": {},
   "outputs": [],
   "source": [
    "files = os.listdir(path='data')"
   ]
  },
  {
   "cell_type": "code",
   "execution_count": 3,
   "id": "c0550a49",
   "metadata": {},
   "outputs": [
    {
     "data": {
      "text/plain": [
       "['friday.csv', 'monday.csv', 'thursday.csv', 'tuesday.csv', 'wednesday.csv']"
      ]
     },
     "execution_count": 3,
     "metadata": {},
     "output_type": "execute_result"
    }
   ],
   "source": [
    "files"
   ]
  },
  {
   "cell_type": "code",
   "execution_count": 4,
   "id": "ad0da84f",
   "metadata": {},
   "outputs": [],
   "source": [
    "def read_files(files, datapath='data/', delimiter = ';'):\n",
    "        df_temp = []\n",
    "\n",
    "        if type(files) == list:\n",
    "            for i in files:\n",
    "                df = pd.read_csv(datapath+i, delimiter=delimiter, parse_dates=True, index_col='timestamp')\n",
    "                day_name = df.index.day_name()[0][:3]\n",
    "                df['customer_no'] = df.customer_no.apply(lambda x: f'{day_name}_{x}')\n",
    "                df_temp.append(df)\n",
    "            df = pd.concat(df_temp)\n",
    "        else:\n",
    "            df = pd.read_csv(files, delimiter=delimiter, parse_dates=True, index_col='timestamp')\n",
    "            day_name = df.index.day_name()[0][:3]\n",
    "            df['customer_no'] = df.customer_no.apply(lambda x: f'{day_name}_{x}')\n",
    "\n",
    "        return df"
   ]
  },
  {
   "cell_type": "code",
   "execution_count": 5,
   "id": "003df293",
   "metadata": {},
   "outputs": [],
   "source": [
    "shop_data = read_files(files)"
   ]
  },
  {
   "cell_type": "code",
   "execution_count": null,
   "id": "73238d88",
   "metadata": {},
   "outputs": [],
   "source": [
    "fake = Faker()"
   ]
  },
  {
   "cell_type": "markdown",
   "id": "4123788a",
   "metadata": {},
   "source": [
    "# Insert timesteps to show minutes spent in section"
   ]
  },
  {
   "cell_type": "code",
   "execution_count": 8,
   "id": "a18f884c",
   "metadata": {},
   "outputs": [],
   "source": [
    "shop_df = shop_data.groupby(['customer_no', 'location']).resample('T').ffill()"
   ]
  },
  {
   "cell_type": "code",
   "execution_count": 9,
   "id": "8d2571d0",
   "metadata": {},
   "outputs": [],
   "source": [
    "shop_df = shop_df.droplevel('location').reset_index(level=1)"
   ]
  },
  {
   "cell_type": "code",
   "execution_count": 10,
   "id": "cee187b5",
   "metadata": {},
   "outputs": [],
   "source": [
    "shop_df = shop_df.drop('customer_no', axis=1)"
   ]
  },
  {
   "cell_type": "code",
   "execution_count": 11,
   "id": "235e2819",
   "metadata": {},
   "outputs": [],
   "source": [
    "shop_df = shop_df.reset_index()"
   ]
  },
  {
   "cell_type": "code",
   "execution_count": 12,
   "id": "725a0065",
   "metadata": {},
   "outputs": [
    {
     "data": {
      "text/html": [
       "<div>\n",
       "<style scoped>\n",
       "    .dataframe tbody tr th:only-of-type {\n",
       "        vertical-align: middle;\n",
       "    }\n",
       "\n",
       "    .dataframe tbody tr th {\n",
       "        vertical-align: top;\n",
       "    }\n",
       "\n",
       "    .dataframe thead th {\n",
       "        text-align: right;\n",
       "    }\n",
       "</style>\n",
       "<table border=\"1\" class=\"dataframe\">\n",
       "  <thead>\n",
       "    <tr style=\"text-align: right;\">\n",
       "      <th></th>\n",
       "      <th>customer_no</th>\n",
       "      <th>timestamp</th>\n",
       "      <th>location</th>\n",
       "    </tr>\n",
       "  </thead>\n",
       "  <tbody>\n",
       "    <tr>\n",
       "      <th>0</th>\n",
       "      <td>Fri_1</td>\n",
       "      <td>2019-09-06 07:05:00</td>\n",
       "      <td>checkout</td>\n",
       "    </tr>\n",
       "    <tr>\n",
       "      <th>1</th>\n",
       "      <td>Fri_1</td>\n",
       "      <td>2019-09-06 07:00:00</td>\n",
       "      <td>dairy</td>\n",
       "    </tr>\n",
       "    <tr>\n",
       "      <th>2</th>\n",
       "      <td>Fri_1</td>\n",
       "      <td>2019-09-06 07:04:00</td>\n",
       "      <td>spices</td>\n",
       "    </tr>\n",
       "    <tr>\n",
       "      <th>3</th>\n",
       "      <td>Fri_10</td>\n",
       "      <td>2019-09-06 07:11:00</td>\n",
       "      <td>checkout</td>\n",
       "    </tr>\n",
       "    <tr>\n",
       "      <th>4</th>\n",
       "      <td>Fri_10</td>\n",
       "      <td>2019-09-06 07:06:00</td>\n",
       "      <td>fruit</td>\n",
       "    </tr>\n",
       "    <tr>\n",
       "      <th>...</th>\n",
       "      <td>...</td>\n",
       "      <td>...</td>\n",
       "      <td>...</td>\n",
       "    </tr>\n",
       "    <tr>\n",
       "      <th>43623</th>\n",
       "      <td>Wed_998</td>\n",
       "      <td>2019-09-04 16:59:00</td>\n",
       "      <td>checkout</td>\n",
       "    </tr>\n",
       "    <tr>\n",
       "      <th>43624</th>\n",
       "      <td>Wed_998</td>\n",
       "      <td>2019-09-04 16:53:00</td>\n",
       "      <td>dairy</td>\n",
       "    </tr>\n",
       "    <tr>\n",
       "      <th>43625</th>\n",
       "      <td>Wed_998</td>\n",
       "      <td>2019-09-04 16:57:00</td>\n",
       "      <td>fruit</td>\n",
       "    </tr>\n",
       "    <tr>\n",
       "      <th>43626</th>\n",
       "      <td>Wed_999</td>\n",
       "      <td>2019-09-04 16:54:00</td>\n",
       "      <td>checkout</td>\n",
       "    </tr>\n",
       "    <tr>\n",
       "      <th>43627</th>\n",
       "      <td>Wed_999</td>\n",
       "      <td>2019-09-04 16:53:00</td>\n",
       "      <td>fruit</td>\n",
       "    </tr>\n",
       "  </tbody>\n",
       "</table>\n",
       "<p>43628 rows × 3 columns</p>\n",
       "</div>"
      ],
      "text/plain": [
       "      customer_no           timestamp  location\n",
       "0           Fri_1 2019-09-06 07:05:00  checkout\n",
       "1           Fri_1 2019-09-06 07:00:00     dairy\n",
       "2           Fri_1 2019-09-06 07:04:00    spices\n",
       "3          Fri_10 2019-09-06 07:11:00  checkout\n",
       "4          Fri_10 2019-09-06 07:06:00     fruit\n",
       "...           ...                 ...       ...\n",
       "43623     Wed_998 2019-09-04 16:59:00  checkout\n",
       "43624     Wed_998 2019-09-04 16:53:00     dairy\n",
       "43625     Wed_998 2019-09-04 16:57:00     fruit\n",
       "43626     Wed_999 2019-09-04 16:54:00  checkout\n",
       "43627     Wed_999 2019-09-04 16:53:00     fruit\n",
       "\n",
       "[43628 rows x 3 columns]"
      ]
     },
     "execution_count": 12,
     "metadata": {},
     "output_type": "execute_result"
    }
   ],
   "source": [
    "shop_df"
   ]
  },
  {
   "cell_type": "markdown",
   "id": "1e9fa765",
   "metadata": {},
   "source": [
    "location_list = shop_data.groupby(['customer_no'])['location'].apply(list)"
   ]
  },
  {
   "cell_type": "markdown",
   "id": "c160293b",
   "metadata": {},
   "source": [
    "food_store = Store()\n",
    "\n",
    "for i in location_list.index:\n",
    "    print(i, location_list[i])\n",
    "    cust = Customer(fake.name(), i, location_list[i])\n",
    "    data = cust.send_info()\n",
    "    food_store.store_customer(data)"
   ]
  },
  {
   "cell_type": "markdown",
   "id": "8fdf10d4",
   "metadata": {},
   "source": [
    "food_store.customers[0]['Fri_1'][1]"
   ]
  },
  {
   "cell_type": "markdown",
   "id": "dc539e4a",
   "metadata": {},
   "source": [
    "# Create entrance times and fill checkout times"
   ]
  },
  {
   "cell_type": "code",
   "execution_count": 13,
   "id": "d4ff3bce",
   "metadata": {},
   "outputs": [],
   "source": [
    "def fill_enter(dataframe):\n",
    "    \n",
    "    entry_time = dataframe.loc[dataframe.notnull()].min() - dt.timedelta(minutes=1)\n",
    "    return entry_time\n",
    "    #if dataframe.entrance != dataframe.entrance:\n",
    "    #    entry_time = dataframe.loc[dataframe.notnull()].min() - timedelta(minuntes=1)\n",
    "    #    return entry_time\n",
    "    #elif dataframe.entrance:\n",
    "    #    return dataframe.entrance"
   ]
  },
  {
   "cell_type": "code",
   "execution_count": 14,
   "id": "e20ed349",
   "metadata": {},
   "outputs": [],
   "source": [
    "def fill_exit(dataframe):\n",
    "    if dataframe.checkout != dataframe.checkout:\n",
    "        closing_time = dataframe.loc[dataframe.notnull()].max().round('H')\n",
    "        return closing_time\n",
    "    elif dataframe.checkout:\n",
    "        return dataframe.checkout"
   ]
  },
  {
   "cell_type": "code",
   "execution_count": 15,
   "id": "981c623c",
   "metadata": {},
   "outputs": [],
   "source": [
    "#Create customer flow pivoted table for addition of entrance and checkout times\n",
    "customer_flow = pd.pivot_table(shop_df, index='customer_no', columns='location', values='timestamp' )"
   ]
  },
  {
   "cell_type": "code",
   "execution_count": 16,
   "id": "25536cf1",
   "metadata": {},
   "outputs": [],
   "source": [
    "#Fill Entrance and checkout times\n",
    "customer_flow['entrance'] = customer_flow.apply(fill_enter, axis=1)\n",
    "customer_flow['checkout'] = customer_flow.apply(fill_exit, axis=1)"
   ]
  },
  {
   "cell_type": "markdown",
   "id": "39bbdf8e",
   "metadata": {},
   "source": [
    "# Table from wide to long"
   ]
  },
  {
   "cell_type": "code",
   "execution_count": 17,
   "id": "9c14a6ed",
   "metadata": {},
   "outputs": [],
   "source": [
    "customer_flow = customer_flow.reset_index(level=0)"
   ]
  },
  {
   "cell_type": "code",
   "execution_count": 18,
   "id": "874bde7f",
   "metadata": {},
   "outputs": [],
   "source": [
    "#Unpivot table\n",
    "customer_flow = customer_flow.melt(id_vars='customer_no', value_name='timestamp')"
   ]
  },
  {
   "cell_type": "code",
   "execution_count": 19,
   "id": "b77f3b61",
   "metadata": {},
   "outputs": [],
   "source": [
    "#Drop na values\n",
    "customer_flow = customer_flow.dropna()"
   ]
  },
  {
   "cell_type": "code",
   "execution_count": 20,
   "id": "6b58cfe0",
   "metadata": {},
   "outputs": [],
   "source": [
    "#Sort values to show flow in order\n",
    "customer_flow = customer_flow.sort_values(by=['customer_no', 'timestamp'])"
   ]
  },
  {
   "cell_type": "code",
   "execution_count": 21,
   "id": "1e4306d9",
   "metadata": {},
   "outputs": [
    {
     "data": {
      "text/html": [
       "<div>\n",
       "<style scoped>\n",
       "    .dataframe tbody tr th:only-of-type {\n",
       "        vertical-align: middle;\n",
       "    }\n",
       "\n",
       "    .dataframe tbody tr th {\n",
       "        vertical-align: top;\n",
       "    }\n",
       "\n",
       "    .dataframe thead th {\n",
       "        text-align: right;\n",
       "    }\n",
       "</style>\n",
       "<table border=\"1\" class=\"dataframe\">\n",
       "  <thead>\n",
       "    <tr style=\"text-align: right;\">\n",
       "      <th></th>\n",
       "      <th>customer_no</th>\n",
       "      <th>location</th>\n",
       "      <th>timestamp</th>\n",
       "    </tr>\n",
       "  </thead>\n",
       "  <tbody>\n",
       "    <tr>\n",
       "      <th>37225</th>\n",
       "      <td>Fri_1</td>\n",
       "      <td>entrance</td>\n",
       "      <td>2019-09-06 06:59:00</td>\n",
       "    </tr>\n",
       "    <tr>\n",
       "      <th>7445</th>\n",
       "      <td>Fri_1</td>\n",
       "      <td>dairy</td>\n",
       "      <td>2019-09-06 07:00:00</td>\n",
       "    </tr>\n",
       "    <tr>\n",
       "      <th>29780</th>\n",
       "      <td>Fri_1</td>\n",
       "      <td>spices</td>\n",
       "      <td>2019-09-06 07:04:00</td>\n",
       "    </tr>\n",
       "    <tr>\n",
       "      <th>0</th>\n",
       "      <td>Fri_1</td>\n",
       "      <td>checkout</td>\n",
       "      <td>2019-09-06 07:05:00</td>\n",
       "    </tr>\n",
       "    <tr>\n",
       "      <th>37226</th>\n",
       "      <td>Fri_10</td>\n",
       "      <td>entrance</td>\n",
       "      <td>2019-09-06 07:05:00</td>\n",
       "    </tr>\n",
       "    <tr>\n",
       "      <th>...</th>\n",
       "      <td>...</td>\n",
       "      <td>...</td>\n",
       "      <td>...</td>\n",
       "    </tr>\n",
       "    <tr>\n",
       "      <th>29778</th>\n",
       "      <td>Wed_998</td>\n",
       "      <td>fruit</td>\n",
       "      <td>2019-09-04 16:57:00</td>\n",
       "    </tr>\n",
       "    <tr>\n",
       "      <th>7443</th>\n",
       "      <td>Wed_998</td>\n",
       "      <td>checkout</td>\n",
       "      <td>2019-09-04 16:59:00</td>\n",
       "    </tr>\n",
       "    <tr>\n",
       "      <th>44669</th>\n",
       "      <td>Wed_999</td>\n",
       "      <td>entrance</td>\n",
       "      <td>2019-09-04 16:52:00</td>\n",
       "    </tr>\n",
       "    <tr>\n",
       "      <th>29779</th>\n",
       "      <td>Wed_999</td>\n",
       "      <td>fruit</td>\n",
       "      <td>2019-09-04 16:53:00</td>\n",
       "    </tr>\n",
       "    <tr>\n",
       "      <th>7444</th>\n",
       "      <td>Wed_999</td>\n",
       "      <td>checkout</td>\n",
       "      <td>2019-09-04 16:54:00</td>\n",
       "    </tr>\n",
       "  </tbody>\n",
       "</table>\n",
       "<p>29144 rows × 3 columns</p>\n",
       "</div>"
      ],
      "text/plain": [
       "      customer_no  location           timestamp\n",
       "37225       Fri_1  entrance 2019-09-06 06:59:00\n",
       "7445        Fri_1     dairy 2019-09-06 07:00:00\n",
       "29780       Fri_1    spices 2019-09-06 07:04:00\n",
       "0           Fri_1  checkout 2019-09-06 07:05:00\n",
       "37226      Fri_10  entrance 2019-09-06 07:05:00\n",
       "...           ...       ...                 ...\n",
       "29778     Wed_998     fruit 2019-09-04 16:57:00\n",
       "7443      Wed_998  checkout 2019-09-04 16:59:00\n",
       "44669     Wed_999  entrance 2019-09-04 16:52:00\n",
       "29779     Wed_999     fruit 2019-09-04 16:53:00\n",
       "7444      Wed_999  checkout 2019-09-04 16:54:00\n",
       "\n",
       "[29144 rows x 3 columns]"
      ]
     },
     "execution_count": 21,
     "metadata": {},
     "output_type": "execute_result"
    }
   ],
   "source": [
    "customer_flow"
   ]
  },
  {
   "cell_type": "markdown",
   "id": "15daefe2",
   "metadata": {},
   "source": [
    "# Shift location one step"
   ]
  },
  {
   "cell_type": "code",
   "execution_count": null,
   "id": "80498c0c",
   "metadata": {},
   "outputs": [],
   "source": [
    "customer_transitions = customer_flow.sort_values(by=['customer_no', 'timestamp'])"
   ]
  },
  {
   "cell_type": "code",
   "execution_count": null,
   "id": "8d2ee093",
   "metadata": {},
   "outputs": [],
   "source": [
    "customer_transitions = customer_transitions[['customer_no', 'location']]"
   ]
  },
  {
   "cell_type": "code",
   "execution_count": null,
   "id": "89cca832",
   "metadata": {},
   "outputs": [],
   "source": [
    "customer_transitions['location+1'] = customer_transitions.groupby('customer_no')['location'].shift(-1)"
   ]
  },
  {
   "cell_type": "code",
   "execution_count": null,
   "id": "f6934421",
   "metadata": {},
   "outputs": [],
   "source": [
    "customer_transitions"
   ]
  },
  {
   "cell_type": "markdown",
   "id": "4f9c0bb1",
   "metadata": {},
   "source": [
    "# Create Probabilities table"
   ]
  },
  {
   "cell_type": "code",
   "execution_count": null,
   "id": "e5659c37",
   "metadata": {},
   "outputs": [],
   "source": [
    "probabilites = pd.crosstab(customer_transitions['location'], customer_transitions['location+1'], normalize=0)"
   ]
  },
  {
   "cell_type": "code",
   "execution_count": null,
   "id": "c2c77f6c",
   "metadata": {},
   "outputs": [],
   "source": [
    "probabilites\n",
    "\n",
    "food_store.store_states(probabilities)"
   ]
  },
  {
   "cell_type": "markdown",
   "id": "ec03419e",
   "metadata": {},
   "source": [
    "# Predict states"
   ]
  },
  {
   "cell_type": "code",
   "execution_count": null,
   "id": "70138882",
   "metadata": {},
   "outputs": [],
   "source": [
    "from random import choices"
   ]
  },
  {
   "cell_type": "code",
   "execution_count": null,
   "id": "f5ed4ac3",
   "metadata": {},
   "outputs": [],
   "source": [
    "location_states = list(customer_transitions.location.unique())\n",
    "location_states"
   ]
  },
  {
   "cell_type": "markdown",
   "id": "e0f6ed94",
   "metadata": {},
   "source": [
    "# Create Store and Customer Class"
   ]
  },
  {
   "cell_type": "code",
   "execution_count": 6,
   "id": "ce14de4a",
   "metadata": {},
   "outputs": [],
   "source": [
    "class Store():\n",
    "    def __init__(self, sections=STATES, times=TIMES):\n",
    "        self.customers = []\n",
    "        self.customer_count = len(self.customers)\n",
    "        self.sections = sections\n",
    "        self.times = times\n",
    "        \n",
    "    def add_customer(self, data):\n",
    "        \"\"\"\n",
    "        Adds customer class instance to list of customers in the store.\n",
    "        \n",
    "        Returns\n",
    "        _______\n",
    "        \n",
    "        None \n",
    "        \"\"\"\n",
    "        \n",
    "        self.customers.append(data)\n",
    "        \n",
    "    def show_sections(self):\n",
    "        \"\"\"\n",
    "        Show all sections of store\n",
    "        \n",
    "        Returns\n",
    "        _______\n",
    "        \n",
    "        list: list of sections in store\n",
    "        \"\"\"\n",
    "        return self.sections\n",
    "   \n",
    "\n",
    "    def simulate_flow(self):\n",
    "        \"\"\"\n",
    "        Simulates customer moving through store.\n",
    "        \n",
    "        Returns\n",
    "        _______\n",
    "        \n",
    "        str: customers next state \n",
    "        \"\"\"\n",
    "        \n",
    "        self.minute =+1\n",
    "        for customer in self.customers:\n",
    "            return customer.next_state()\n",
    "        \n",
    "    def show_busiest(self):\n",
    "        self.times\n",
    "        \n",
    "    def show_slowest(self):\n",
    "        #calculate the busiest time in the store\n",
    "        \n",
    "    def most_visited(self):\n",
    "        #show section most visited\n",
    "        \n",
    "    def least_visited(self):\n",
    "        #show section least visited"
   ]
  },
  {
   "cell_type": "code",
   "execution_count": 7,
   "id": "8d34ea38",
   "metadata": {},
   "outputs": [],
   "source": [
    "class Customer():\n",
    "    \n",
    "    def __init__(self, name, cust_id, state='entrance'):\n",
    "        self.name = name\n",
    "        self.cust_id = cust_id\n",
    "        self.state = state\n",
    "        \n",
    "    def next_state(self):\n",
    "        probs = PROBABILITIES[self.state]\n",
    "        self.state = choices(STATES, weighs=probs)[0]\n",
    "    \n",
    "    def __repr__(self):\n",
    "        return f'{self.name} (Customer: {self.id}) at {self.state}'\n",
    "    \n",
    "    @property\n",
    "    def is_active(self):\n",
    "        return self.state != 'checkout':\n",
    "        \n",
    "    "
   ]
  },
  {
   "cell_type": "code",
   "execution_count": null,
   "id": "848b8744",
   "metadata": {},
   "outputs": [],
   "source": [
    "if __name__ == '__main__':\n",
    "    customer1 = ''\n",
    "    customer2 = ''\n",
    "    customer3 = ''\n",
    "    \n",
    "    active = True\n",
    "    while active:\n",
    "        customer1 = ''\n",
    "        customer2 = ''\n",
    "        customer3 = ''\n",
    "        \n",
    "        active = customer1.is_active"
   ]
  }
 ],
 "metadata": {
  "kernelspec": {
   "display_name": "Python 3 (ipykernel)",
   "language": "python",
   "name": "python3"
  },
  "language_info": {
   "codemirror_mode": {
    "name": "ipython",
    "version": 3
   },
   "file_extension": ".py",
   "mimetype": "text/x-python",
   "name": "python",
   "nbconvert_exporter": "python",
   "pygments_lexer": "ipython3",
   "version": "3.9.7"
  }
 },
 "nbformat": 4,
 "nbformat_minor": 5
}

{
 "cells": [
  {
   "cell_type": "code",
   "execution_count": 1,
   "id": "a9bac27b",
   "metadata": {},
   "outputs": [],
   "source": [
    "import pandas as pd\n",
    "import seaborn as sns\n",
    "import numpy as np\n",
    "import matplotlib.pyplot as plt\n",
    "import os\n",
    "import datetime as dt"
   ]
  },
  {
   "cell_type": "code",
   "execution_count": 2,
   "id": "4daf8808",
   "metadata": {},
   "outputs": [],
   "source": [
    "files = os.listdir(path='data')"
   ]
  },
  {
   "cell_type": "code",
   "execution_count": 3,
   "id": "c0550a49",
   "metadata": {},
   "outputs": [
    {
     "data": {
      "text/plain": [
       "['friday.csv', 'monday.csv', 'thursday.csv', 'tuesday.csv', 'wednesday.csv']"
      ]
     },
     "execution_count": 3,
     "metadata": {},
     "output_type": "execute_result"
    }
   ],
   "source": [
    "files"
   ]
  },
  {
   "cell_type": "code",
   "execution_count": 4,
   "id": "ad0da84f",
   "metadata": {},
   "outputs": [],
   "source": [
    "def read_files(files, datapath='data/', delimiter = ';'):\n",
    "        df_temp = []\n",
    "\n",
    "        if type(files) == list:\n",
    "            for i in files:\n",
    "                df = pd.read_csv(datapath+i, delimiter=delimiter, parse_dates=True, index_col='timestamp')\n",
    "                day_name = df.index.day_name()[0][:3]\n",
    "                df['customer_no'] = df.customer_no.apply(lambda x: f'{day_name}_{x}')\n",
    "                df_temp.append(df)\n",
    "            df = pd.concat(df_temp)\n",
    "        else:\n",
    "            df = pd.read_csv(files, delimiter=delimiter, parse_dates=True, index_col='timestamp')\n",
    "            day_name = df.index.day_name()[0][:3]\n",
    "            df['customer_no'] = df.customer_no.apply(lambda x: f'{day_name}_{x}')\n",
    "\n",
    "        return df"
   ]
  },
  {
   "cell_type": "code",
   "execution_count": 5,
   "id": "003df293",
   "metadata": {},
   "outputs": [],
   "source": [
    "shop_data = read_files(files)"
   ]
  },
  {
   "cell_type": "markdown",
   "id": "39c6abc1",
   "metadata": {},
   "source": [
    "# Part 1: Data Exploration"
   ]
  },
  {
   "cell_type": "code",
   "execution_count": 6,
   "id": "73238d88",
   "metadata": {},
   "outputs": [],
   "source": [
    "shop_data = shop_data.sort_values(by='timestamp')"
   ]
  },
  {
   "cell_type": "code",
   "execution_count": 7,
   "id": "00290286",
   "metadata": {},
   "outputs": [],
   "source": [
    "#shop_data = shop_data.reset_index()"
   ]
  },
  {
   "cell_type": "code",
   "execution_count": 8,
   "id": "75fc2fde",
   "metadata": {},
   "outputs": [
    {
     "data": {
      "text/html": [
       "<div>\n",
       "<style scoped>\n",
       "    .dataframe tbody tr th:only-of-type {\n",
       "        vertical-align: middle;\n",
       "    }\n",
       "\n",
       "    .dataframe tbody tr th {\n",
       "        vertical-align: top;\n",
       "    }\n",
       "\n",
       "    .dataframe thead th {\n",
       "        text-align: right;\n",
       "    }\n",
       "</style>\n",
       "<table border=\"1\" class=\"dataframe\">\n",
       "  <thead>\n",
       "    <tr style=\"text-align: right;\">\n",
       "      <th></th>\n",
       "      <th>customer_no</th>\n",
       "      <th>location</th>\n",
       "    </tr>\n",
       "    <tr>\n",
       "      <th>timestamp</th>\n",
       "      <th></th>\n",
       "      <th></th>\n",
       "    </tr>\n",
       "  </thead>\n",
       "  <tbody>\n",
       "    <tr>\n",
       "      <th>2019-09-02 07:03:00</th>\n",
       "      <td>Mon_1</td>\n",
       "      <td>dairy</td>\n",
       "    </tr>\n",
       "    <tr>\n",
       "      <th>2019-09-02 07:03:00</th>\n",
       "      <td>Mon_2</td>\n",
       "      <td>dairy</td>\n",
       "    </tr>\n",
       "    <tr>\n",
       "      <th>2019-09-02 07:04:00</th>\n",
       "      <td>Mon_3</td>\n",
       "      <td>dairy</td>\n",
       "    </tr>\n",
       "    <tr>\n",
       "      <th>2019-09-02 07:04:00</th>\n",
       "      <td>Mon_4</td>\n",
       "      <td>dairy</td>\n",
       "    </tr>\n",
       "    <tr>\n",
       "      <th>2019-09-02 07:04:00</th>\n",
       "      <td>Mon_5</td>\n",
       "      <td>spices</td>\n",
       "    </tr>\n",
       "    <tr>\n",
       "      <th>...</th>\n",
       "      <td>...</td>\n",
       "      <td>...</td>\n",
       "    </tr>\n",
       "    <tr>\n",
       "      <th>2019-09-06 21:50:00</th>\n",
       "      <td>Fri_1509</td>\n",
       "      <td>drinks</td>\n",
       "    </tr>\n",
       "    <tr>\n",
       "      <th>2019-09-06 21:50:00</th>\n",
       "      <td>Fri_1507</td>\n",
       "      <td>checkout</td>\n",
       "    </tr>\n",
       "    <tr>\n",
       "      <th>2019-09-06 21:50:00</th>\n",
       "      <td>Fri_1508</td>\n",
       "      <td>checkout</td>\n",
       "    </tr>\n",
       "    <tr>\n",
       "      <th>2019-09-06 21:50:00</th>\n",
       "      <td>Fri_1496</td>\n",
       "      <td>fruit</td>\n",
       "    </tr>\n",
       "    <tr>\n",
       "      <th>2019-09-06 21:50:00</th>\n",
       "      <td>Fri_1500</td>\n",
       "      <td>dairy</td>\n",
       "    </tr>\n",
       "  </tbody>\n",
       "</table>\n",
       "<p>24877 rows × 2 columns</p>\n",
       "</div>"
      ],
      "text/plain": [
       "                    customer_no  location\n",
       "timestamp                                \n",
       "2019-09-02 07:03:00       Mon_1     dairy\n",
       "2019-09-02 07:03:00       Mon_2     dairy\n",
       "2019-09-02 07:04:00       Mon_3     dairy\n",
       "2019-09-02 07:04:00       Mon_4     dairy\n",
       "2019-09-02 07:04:00       Mon_5    spices\n",
       "...                         ...       ...\n",
       "2019-09-06 21:50:00    Fri_1509    drinks\n",
       "2019-09-06 21:50:00    Fri_1507  checkout\n",
       "2019-09-06 21:50:00    Fri_1508  checkout\n",
       "2019-09-06 21:50:00    Fri_1496     fruit\n",
       "2019-09-06 21:50:00    Fri_1500     dairy\n",
       "\n",
       "[24877 rows x 2 columns]"
      ]
     },
     "execution_count": 8,
     "metadata": {},
     "output_type": "execute_result"
    }
   ],
   "source": [
    "shop_data"
   ]
  },
  {
   "cell_type": "code",
   "execution_count": 9,
   "id": "b85c8195",
   "metadata": {},
   "outputs": [],
   "source": [
    "df_timefill = shop_data.groupby(['customer_no']).resample('T').ffill()"
   ]
  },
  {
   "cell_type": "code",
   "execution_count": 21,
   "id": "40ea24c9",
   "metadata": {},
   "outputs": [],
   "source": [
    "test = df_timefill.droplevel(level=0)"
   ]
  },
  {
   "cell_type": "code",
   "execution_count": null,
   "id": "54bea3b8",
   "metadata": {},
   "outputs": [],
   "source": []
  },
  {
   "cell_type": "code",
   "execution_count": null,
   "id": "5719799a",
   "metadata": {},
   "outputs": [],
   "source": [
    "df_test = df_timefill.droplevel(level='customer_no')"
   ]
  },
  {
   "cell_type": "code",
   "execution_count": null,
   "id": "d0c0449e",
   "metadata": {},
   "outputs": [],
   "source": [
    "df = df_test.reset_index()"
   ]
  },
  {
   "cell_type": "code",
   "execution_count": null,
   "id": "81c9c459",
   "metadata": {},
   "outputs": [],
   "source": []
  },
  {
   "cell_type": "code",
   "execution_count": null,
   "id": "b9604f61",
   "metadata": {},
   "outputs": [],
   "source": [
    "def fill(dataframe):\n",
    "    print(dataframe)"
   ]
  },
  {
   "cell_type": "code",
   "execution_count": null,
   "id": "9b838999",
   "metadata": {},
   "outputs": [],
   "source": [
    "df_timefill"
   ]
  },
  {
   "cell_type": "code",
   "execution_count": null,
   "id": "84778520",
   "metadata": {},
   "outputs": [],
   "source": [
    "df"
   ]
  },
  {
   "cell_type": "code",
   "execution_count": null,
   "id": "981c623c",
   "metadata": {},
   "outputs": [],
   "source": [
    "customer_flow = pd.pivot(df, columns=['location'])"
   ]
  },
  {
   "cell_type": "code",
   "execution_count": null,
   "id": "4a004dae",
   "metadata": {},
   "outputs": [],
   "source": [
    "customer_flow.apply(lambda x: x.min(axis=0))"
   ]
  },
  {
   "cell_type": "code",
   "execution_count": null,
   "id": "bef55208",
   "metadata": {},
   "outputs": [],
   "source": [
    "def e_fill(dataframe):\n",
    "    print(dataframe.min())"
   ]
  },
  {
   "cell_type": "code",
   "execution_count": null,
   "id": "fb74e297",
   "metadata": {},
   "outputs": [],
   "source": []
  },
  {
   "cell_type": "code",
   "execution_count": null,
   "id": "70f5bf5c",
   "metadata": {},
   "outputs": [],
   "source": [
    "customer_flow.loc[customer_flow.checkout.isnull()].head(1)"
   ]
  },
  {
   "cell_type": "code",
   "execution_count": null,
   "id": "13c7bb96",
   "metadata": {},
   "outputs": [],
   "source": [
    "for idx, val in customer_flow.iterrows():\n",
    "    val.sort_values()"
   ]
  },
  {
   "cell_type": "code",
   "execution_count": null,
   "id": "9f8bea95",
   "metadata": {},
   "outputs": [],
   "source": [
    "customer_flow.apply(np.sort, axis=1)"
   ]
  },
  {
   "cell_type": "markdown",
   "id": "dc539e4a",
   "metadata": {},
   "source": [
    "# Fill in checkout time"
   ]
  },
  {
   "cell_type": "code",
   "execution_count": null,
   "id": "d4ff3bce",
   "metadata": {},
   "outputs": [],
   "source": [
    "def fill_timestamp(dataframe):\n",
    "    if dataframe.checkout != dataframe.checkout:\n",
    "        closing_time = dataframe.loc[dataframe.notnull()].max().round('H')\n",
    "        return closing_time\n",
    "    else:\n",
    "        return dataframe.checkout\n",
    "    \n",
    "    if dataframe.checkout != dataframe.checkout:\n",
    "        closing_time = dataframe.loc[dataframe.notnull()].max().round('H')\n",
    "    return closing_time"
   ]
  },
  {
   "cell_type": "code",
   "execution_count": null,
   "id": "25536cf1",
   "metadata": {},
   "outputs": [],
   "source": [
    "customer_flow['checkout'] = customer_flow.apply(fill_timestamp, axis=1)"
   ]
  },
  {
   "cell_type": "code",
   "execution_count": null,
   "id": "0e4b6229",
   "metadata": {},
   "outputs": [],
   "source": [
    "customer_flow.droplevel(level='customer_no')"
   ]
  },
  {
   "cell_type": "code",
   "execution_count": null,
   "id": "02c647b1",
   "metadata": {},
   "outputs": [],
   "source": [
    "customer_flow['location'].shift(-1)"
   ]
  },
  {
   "cell_type": "code",
   "execution_count": null,
   "id": "78fb5016",
   "metadata": {},
   "outputs": [],
   "source": []
  }
 ],
 "metadata": {
  "kernelspec": {
   "display_name": "Python 3 (ipykernel)",
   "language": "python",
   "name": "python3"
  },
  "language_info": {
   "codemirror_mode": {
    "name": "ipython",
    "version": 3
   },
   "file_extension": ".py",
   "mimetype": "text/x-python",
   "name": "python",
   "nbconvert_exporter": "python",
   "pygments_lexer": "ipython3",
   "version": "3.9.7"
  }
 },
 "nbformat": 4,
 "nbformat_minor": 5
}

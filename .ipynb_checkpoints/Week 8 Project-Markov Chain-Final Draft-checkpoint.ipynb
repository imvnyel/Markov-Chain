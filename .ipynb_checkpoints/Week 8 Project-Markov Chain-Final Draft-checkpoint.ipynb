{
 "cells": [
  {
   "cell_type": "code",
   "execution_count": 1,
   "id": "a9bac27b",
   "metadata": {},
   "outputs": [],
   "source": [
    "import pandas as pd\n",
    "import seaborn as sns\n",
    "import numpy as np\n",
    "import matplotlib.pyplot as plt\n",
    "import os\n",
    "import datetime as dt\n",
    "from faker import Faker\n",
    "import random\n",
    "from random import choices\n",
    "from collections import Counter\n",
    "import time"
   ]
  },
  {
   "cell_type": "code",
   "execution_count": 2,
   "id": "4daf8808",
   "metadata": {},
   "outputs": [],
   "source": [
    "files = os.listdir(path='data')"
   ]
  },
  {
   "cell_type": "code",
   "execution_count": 3,
   "id": "c0550a49",
   "metadata": {},
   "outputs": [
    {
     "data": {
      "text/plain": [
       "['friday.csv', 'monday.csv', 'thursday.csv', 'tuesday.csv', 'wednesday.csv']"
      ]
     },
     "execution_count": 3,
     "metadata": {},
     "output_type": "execute_result"
    }
   ],
   "source": [
    "files"
   ]
  },
  {
   "cell_type": "code",
   "execution_count": 4,
   "id": "ad0da84f",
   "metadata": {},
   "outputs": [],
   "source": [
    "def read_files(files, datapath='data/', delimiter = ';'):\n",
    "        df_temp = []\n",
    "        days = {'mo':1000,\n",
    "                'tu':2000,\n",
    "                'we':3000,\n",
    "                'th':4000,\n",
    "                'fr':5000}\n",
    "\n",
    "        if type(files) == list:\n",
    "            for i in files:\n",
    "                df = pd.read_csv(datapath+i, delimiter=delimiter, parse_dates=True, index_col='timestamp')\n",
    "                day_name = df.index.day_name()[0][:2].lower()\n",
    "                \n",
    "                df['customer_no'] = df.customer_no.apply(lambda x: f'{int(x)+days[day_name]}')\n",
    "                df_temp.append(df)\n",
    "            df = pd.concat(df_temp)\n",
    "        else:\n",
    "            df = pd.read_csv(files, delimiter=delimiter, parse_dates=True, index_col='timestamp')\n",
    "            day_name = df.index.day_name()[0][:3]\n",
    "            df['customer_no'] = df.customer_no.apply(lambda x: f'{day_name}_{x}')\n",
    "\n",
    "        return df"
   ]
  },
  {
   "cell_type": "code",
   "execution_count": 5,
   "id": "003df293",
   "metadata": {},
   "outputs": [],
   "source": [
    "shop_data = read_files(files)"
   ]
  },
  {
   "cell_type": "code",
   "execution_count": 6,
   "id": "fdb86c1f",
   "metadata": {},
   "outputs": [
    {
     "data": {
      "text/html": [
       "<div>\n",
       "<style scoped>\n",
       "    .dataframe tbody tr th:only-of-type {\n",
       "        vertical-align: middle;\n",
       "    }\n",
       "\n",
       "    .dataframe tbody tr th {\n",
       "        vertical-align: top;\n",
       "    }\n",
       "\n",
       "    .dataframe thead th {\n",
       "        text-align: right;\n",
       "    }\n",
       "</style>\n",
       "<table border=\"1\" class=\"dataframe\">\n",
       "  <thead>\n",
       "    <tr style=\"text-align: right;\">\n",
       "      <th></th>\n",
       "      <th>customer_no</th>\n",
       "      <th>location</th>\n",
       "    </tr>\n",
       "    <tr>\n",
       "      <th>timestamp</th>\n",
       "      <th></th>\n",
       "      <th></th>\n",
       "    </tr>\n",
       "  </thead>\n",
       "  <tbody>\n",
       "    <tr>\n",
       "      <th>2019-09-06 07:00:00</th>\n",
       "      <td>5001</td>\n",
       "      <td>dairy</td>\n",
       "    </tr>\n",
       "    <tr>\n",
       "      <th>2019-09-06 07:00:00</th>\n",
       "      <td>5002</td>\n",
       "      <td>drinks</td>\n",
       "    </tr>\n",
       "    <tr>\n",
       "      <th>2019-09-06 07:00:00</th>\n",
       "      <td>5003</td>\n",
       "      <td>fruit</td>\n",
       "    </tr>\n",
       "    <tr>\n",
       "      <th>2019-09-06 07:01:00</th>\n",
       "      <td>5002</td>\n",
       "      <td>checkout</td>\n",
       "    </tr>\n",
       "    <tr>\n",
       "      <th>2019-09-06 07:01:00</th>\n",
       "      <td>5004</td>\n",
       "      <td>drinks</td>\n",
       "    </tr>\n",
       "    <tr>\n",
       "      <th>...</th>\n",
       "      <td>...</td>\n",
       "      <td>...</td>\n",
       "    </tr>\n",
       "    <tr>\n",
       "      <th>2019-09-04 21:48:00</th>\n",
       "      <td>4528</td>\n",
       "      <td>spices</td>\n",
       "    </tr>\n",
       "    <tr>\n",
       "      <th>2019-09-04 21:49:00</th>\n",
       "      <td>4520</td>\n",
       "      <td>dairy</td>\n",
       "    </tr>\n",
       "    <tr>\n",
       "      <th>2019-09-04 21:49:00</th>\n",
       "      <td>4529</td>\n",
       "      <td>dairy</td>\n",
       "    </tr>\n",
       "    <tr>\n",
       "      <th>2019-09-04 21:49:00</th>\n",
       "      <td>4530</td>\n",
       "      <td>fruit</td>\n",
       "    </tr>\n",
       "    <tr>\n",
       "      <th>2019-09-04 21:49:00</th>\n",
       "      <td>4531</td>\n",
       "      <td>checkout</td>\n",
       "    </tr>\n",
       "  </tbody>\n",
       "</table>\n",
       "<p>24877 rows × 2 columns</p>\n",
       "</div>"
      ],
      "text/plain": [
       "                    customer_no  location\n",
       "timestamp                                \n",
       "2019-09-06 07:00:00        5001     dairy\n",
       "2019-09-06 07:00:00        5002    drinks\n",
       "2019-09-06 07:00:00        5003     fruit\n",
       "2019-09-06 07:01:00        5002  checkout\n",
       "2019-09-06 07:01:00        5004    drinks\n",
       "...                         ...       ...\n",
       "2019-09-04 21:48:00        4528    spices\n",
       "2019-09-04 21:49:00        4520     dairy\n",
       "2019-09-04 21:49:00        4529     dairy\n",
       "2019-09-04 21:49:00        4530     fruit\n",
       "2019-09-04 21:49:00        4531  checkout\n",
       "\n",
       "[24877 rows x 2 columns]"
      ]
     },
     "execution_count": 6,
     "metadata": {},
     "output_type": "execute_result"
    }
   ],
   "source": [
    "shop_data"
   ]
  },
  {
   "cell_type": "markdown",
   "id": "7e8c496a",
   "metadata": {},
   "source": [
    "# Insert timesteps to show minutes spent in section"
   ]
  },
  {
   "cell_type": "code",
   "execution_count": 7,
   "id": "a18f884c",
   "metadata": {},
   "outputs": [],
   "source": [
    "shop_df = shop_data.groupby(['customer_no', 'location']).resample('T').ffill()"
   ]
  },
  {
   "cell_type": "code",
   "execution_count": 8,
   "id": "8d2571d0",
   "metadata": {},
   "outputs": [],
   "source": [
    "shop_df = shop_df.droplevel('location').reset_index(level=1)"
   ]
  },
  {
   "cell_type": "code",
   "execution_count": 9,
   "id": "cee187b5",
   "metadata": {},
   "outputs": [],
   "source": [
    "shop_df = shop_df.drop('customer_no', axis=1)"
   ]
  },
  {
   "cell_type": "code",
   "execution_count": 10,
   "id": "235e2819",
   "metadata": {},
   "outputs": [],
   "source": [
    "shop_df = shop_df.reset_index()"
   ]
  },
  {
   "cell_type": "code",
   "execution_count": 11,
   "id": "6849bf2b",
   "metadata": {},
   "outputs": [
    {
     "data": {
      "text/html": [
       "<div>\n",
       "<style scoped>\n",
       "    .dataframe tbody tr th:only-of-type {\n",
       "        vertical-align: middle;\n",
       "    }\n",
       "\n",
       "    .dataframe tbody tr th {\n",
       "        vertical-align: top;\n",
       "    }\n",
       "\n",
       "    .dataframe thead th {\n",
       "        text-align: right;\n",
       "    }\n",
       "</style>\n",
       "<table border=\"1\" class=\"dataframe\">\n",
       "  <thead>\n",
       "    <tr style=\"text-align: right;\">\n",
       "      <th></th>\n",
       "      <th>customer_no</th>\n",
       "      <th>timestamp</th>\n",
       "      <th>location</th>\n",
       "    </tr>\n",
       "  </thead>\n",
       "  <tbody>\n",
       "    <tr>\n",
       "      <th>0</th>\n",
       "      <td>1001</td>\n",
       "      <td>2019-09-02 07:05:00</td>\n",
       "      <td>checkout</td>\n",
       "    </tr>\n",
       "    <tr>\n",
       "      <th>1</th>\n",
       "      <td>1001</td>\n",
       "      <td>2019-09-02 07:03:00</td>\n",
       "      <td>dairy</td>\n",
       "    </tr>\n",
       "    <tr>\n",
       "      <th>2</th>\n",
       "      <td>1002</td>\n",
       "      <td>2019-09-02 07:06:00</td>\n",
       "      <td>checkout</td>\n",
       "    </tr>\n",
       "    <tr>\n",
       "      <th>3</th>\n",
       "      <td>1002</td>\n",
       "      <td>2019-09-02 07:03:00</td>\n",
       "      <td>dairy</td>\n",
       "    </tr>\n",
       "    <tr>\n",
       "      <th>4</th>\n",
       "      <td>1003</td>\n",
       "      <td>2019-09-02 07:06:00</td>\n",
       "      <td>checkout</td>\n",
       "    </tr>\n",
       "    <tr>\n",
       "      <th>...</th>\n",
       "      <td>...</td>\n",
       "      <td>...</td>\n",
       "      <td>...</td>\n",
       "    </tr>\n",
       "    <tr>\n",
       "      <th>3109564</th>\n",
       "      <td>6507</td>\n",
       "      <td>2019-09-06 21:48:00</td>\n",
       "      <td>dairy</td>\n",
       "    </tr>\n",
       "    <tr>\n",
       "      <th>3109565</th>\n",
       "      <td>6508</td>\n",
       "      <td>2019-09-06 21:50:00</td>\n",
       "      <td>checkout</td>\n",
       "    </tr>\n",
       "    <tr>\n",
       "      <th>3109566</th>\n",
       "      <td>6508</td>\n",
       "      <td>2019-09-06 21:48:00</td>\n",
       "      <td>dairy</td>\n",
       "    </tr>\n",
       "    <tr>\n",
       "      <th>3109567</th>\n",
       "      <td>6509</td>\n",
       "      <td>2019-09-06 21:50:00</td>\n",
       "      <td>drinks</td>\n",
       "    </tr>\n",
       "    <tr>\n",
       "      <th>3109568</th>\n",
       "      <td>6510</td>\n",
       "      <td>2019-09-06 21:50:00</td>\n",
       "      <td>spices</td>\n",
       "    </tr>\n",
       "  </tbody>\n",
       "</table>\n",
       "<p>3109569 rows × 3 columns</p>\n",
       "</div>"
      ],
      "text/plain": [
       "        customer_no           timestamp  location\n",
       "0              1001 2019-09-02 07:05:00  checkout\n",
       "1              1001 2019-09-02 07:03:00     dairy\n",
       "2              1002 2019-09-02 07:06:00  checkout\n",
       "3              1002 2019-09-02 07:03:00     dairy\n",
       "4              1003 2019-09-02 07:06:00  checkout\n",
       "...             ...                 ...       ...\n",
       "3109564        6507 2019-09-06 21:48:00     dairy\n",
       "3109565        6508 2019-09-06 21:50:00  checkout\n",
       "3109566        6508 2019-09-06 21:48:00     dairy\n",
       "3109567        6509 2019-09-06 21:50:00    drinks\n",
       "3109568        6510 2019-09-06 21:50:00    spices\n",
       "\n",
       "[3109569 rows x 3 columns]"
      ]
     },
     "execution_count": 11,
     "metadata": {},
     "output_type": "execute_result"
    }
   ],
   "source": [
    "shop_df"
   ]
  },
  {
   "cell_type": "markdown",
   "id": "b9fd35ba",
   "metadata": {},
   "source": [
    "location_list = shop_data.groupby(['customer_no'])['location'].apply(list)"
   ]
  },
  {
   "cell_type": "markdown",
   "id": "86eddc28",
   "metadata": {},
   "source": [
    "food_store = Store()\n",
    "\n",
    "for i in location_list.index:\n",
    "    print(i, location_list[i])\n",
    "    cust = Customer(fake.name(), i, location_list[i])\n",
    "    data = cust.send_info()\n",
    "    food_store.store_customer(data)"
   ]
  },
  {
   "cell_type": "markdown",
   "id": "8b646853",
   "metadata": {},
   "source": [
    "food_store.customers[0]['Fri_1'][1]"
   ]
  },
  {
   "cell_type": "markdown",
   "id": "dc539e4a",
   "metadata": {},
   "source": [
    "# Create entrance times and fill checkout times"
   ]
  },
  {
   "cell_type": "code",
   "execution_count": 12,
   "id": "d4ff3bce",
   "metadata": {},
   "outputs": [],
   "source": [
    "def fill_enter(dataframe):\n",
    "    \n",
    "    entry_time = dataframe.loc[dataframe.notnull()].min() - dt.timedelta(minutes=1)\n",
    "    return entry_time\n",
    "    #if dataframe.entrance != dataframe.entrance:\n",
    "    #    entry_time = dataframe.loc[dataframe.notnull()].min() - timedelta(minuntes=1)\n",
    "    #    return entry_time\n",
    "    #elif dataframe.entrance:\n",
    "    #    return dataframe.entrance"
   ]
  },
  {
   "cell_type": "code",
   "execution_count": 13,
   "id": "e20ed349",
   "metadata": {},
   "outputs": [],
   "source": [
    "def fill_checkout(dataframe):\n",
    "    if dataframe.checkout != dataframe.checkout:\n",
    "        closing_time = dataframe.loc[dataframe.notnull()].max().round('H')\n",
    "        return closing_time\n",
    "    elif dataframe.checkout:\n",
    "        return dataframe.checkout"
   ]
  },
  {
   "cell_type": "code",
   "execution_count": 14,
   "id": "e9c70390",
   "metadata": {},
   "outputs": [],
   "source": [
    "def fill_exit(dataframe):\n",
    "    exit_time = dataframe.loc[dataframe.notnull()].max() + dt.timedelta(minutes=1)\n",
    "    return exit_time\n",
    "\n",
    "    #if dataframe.checkout != dataframe.checkout:\n",
    "    #    closing_time = dataframe.loc[dataframe.notnull()].max().round('H')\n",
    "    #    return closing_time\n",
    "    #elif dataframe.checkout:\n",
    "    #    return dataframe.checkout"
   ]
  },
  {
   "cell_type": "code",
   "execution_count": 15,
   "id": "981c623c",
   "metadata": {},
   "outputs": [],
   "source": [
    "#Create customer flow pivoted table for addition of entrance and checkout times\n",
    "customer_flow = pd.pivot_table(shop_df, index='customer_no', columns='location', values='timestamp' )"
   ]
  },
  {
   "cell_type": "code",
   "execution_count": 16,
   "id": "25536cf1",
   "metadata": {},
   "outputs": [],
   "source": [
    "#Fill Entrance and checkout times\n",
    "customer_flow['entrance'] = customer_flow.apply(fill_enter, axis=1)\n",
    "customer_flow['checkout'] = customer_flow.apply(fill_checkout, axis=1)\n",
    "customer_flow['exit'] = customer_flow.apply(fill_exit, axis=1)"
   ]
  },
  {
   "cell_type": "markdown",
   "id": "25247ba3",
   "metadata": {},
   "source": [
    "# Table from wide to long"
   ]
  },
  {
   "cell_type": "code",
   "execution_count": 17,
   "id": "9c14a6ed",
   "metadata": {},
   "outputs": [],
   "source": [
    "customer_flow = customer_flow.reset_index(level=0)"
   ]
  },
  {
   "cell_type": "code",
   "execution_count": 18,
   "id": "874bde7f",
   "metadata": {},
   "outputs": [],
   "source": [
    "#Unpivot table\n",
    "customer_flow = customer_flow.melt(id_vars='customer_no', value_name='timestamp')"
   ]
  },
  {
   "cell_type": "code",
   "execution_count": 19,
   "id": "b77f3b61",
   "metadata": {},
   "outputs": [],
   "source": [
    "#Drop na values\n",
    "customer_flow = customer_flow.dropna()"
   ]
  },
  {
   "cell_type": "code",
   "execution_count": 27,
   "id": "7f563ffe",
   "metadata": {},
   "outputs": [],
   "source": [
    "#Sort values to show flow in order\n",
    "customer_flow = customer_flow.sort_values(by=['timestamp'])"
   ]
  },
  {
   "cell_type": "code",
   "execution_count": 28,
   "id": "fb714aca",
   "metadata": {},
   "outputs": [
    {
     "data": {
      "text/html": [
       "<div>\n",
       "<style scoped>\n",
       "    .dataframe tbody tr th:only-of-type {\n",
       "        vertical-align: middle;\n",
       "    }\n",
       "\n",
       "    .dataframe tbody tr th {\n",
       "        vertical-align: top;\n",
       "    }\n",
       "\n",
       "    .dataframe thead th {\n",
       "        text-align: right;\n",
       "    }\n",
       "</style>\n",
       "<table border=\"1\" class=\"dataframe\">\n",
       "  <thead>\n",
       "    <tr style=\"text-align: right;\">\n",
       "      <th></th>\n",
       "      <th>customer_no</th>\n",
       "      <th>location</th>\n",
       "      <th>timestamp</th>\n",
       "    </tr>\n",
       "  </thead>\n",
       "  <tbody>\n",
       "    <tr>\n",
       "      <th>27550</th>\n",
       "      <td>1001</td>\n",
       "      <td>entrance</td>\n",
       "      <td>2019-09-02 07:02:00</td>\n",
       "    </tr>\n",
       "    <tr>\n",
       "      <th>27551</th>\n",
       "      <td>1002</td>\n",
       "      <td>entrance</td>\n",
       "      <td>2019-09-02 07:02:00</td>\n",
       "    </tr>\n",
       "    <tr>\n",
       "      <th>27552</th>\n",
       "      <td>1003</td>\n",
       "      <td>entrance</td>\n",
       "      <td>2019-09-02 07:03:00</td>\n",
       "    </tr>\n",
       "    <tr>\n",
       "      <th>5511</th>\n",
       "      <td>1002</td>\n",
       "      <td>dairy</td>\n",
       "      <td>2019-09-02 07:03:00</td>\n",
       "    </tr>\n",
       "    <tr>\n",
       "      <th>5510</th>\n",
       "      <td>1001</td>\n",
       "      <td>dairy</td>\n",
       "      <td>2019-09-02 07:03:00</td>\n",
       "    </tr>\n",
       "    <tr>\n",
       "      <th>...</th>\n",
       "      <td>...</td>\n",
       "      <td>...</td>\n",
       "      <td>...</td>\n",
       "    </tr>\n",
       "    <tr>\n",
       "      <th>38568</th>\n",
       "      <td>6509</td>\n",
       "      <td>exit</td>\n",
       "      <td>2019-09-06 22:01:00</td>\n",
       "    </tr>\n",
       "    <tr>\n",
       "      <th>38555</th>\n",
       "      <td>6496</td>\n",
       "      <td>exit</td>\n",
       "      <td>2019-09-06 22:01:00</td>\n",
       "    </tr>\n",
       "    <tr>\n",
       "      <th>38553</th>\n",
       "      <td>6494</td>\n",
       "      <td>exit</td>\n",
       "      <td>2019-09-06 22:01:00</td>\n",
       "    </tr>\n",
       "    <tr>\n",
       "      <th>38562</th>\n",
       "      <td>6503</td>\n",
       "      <td>exit</td>\n",
       "      <td>2019-09-06 22:01:00</td>\n",
       "    </tr>\n",
       "    <tr>\n",
       "      <th>38569</th>\n",
       "      <td>6510</td>\n",
       "      <td>exit</td>\n",
       "      <td>2019-09-06 22:01:00</td>\n",
       "    </tr>\n",
       "  </tbody>\n",
       "</table>\n",
       "<p>28989 rows × 3 columns</p>\n",
       "</div>"
      ],
      "text/plain": [
       "      customer_no  location           timestamp\n",
       "27550        1001  entrance 2019-09-02 07:02:00\n",
       "27551        1002  entrance 2019-09-02 07:02:00\n",
       "27552        1003  entrance 2019-09-02 07:03:00\n",
       "5511         1002     dairy 2019-09-02 07:03:00\n",
       "5510         1001     dairy 2019-09-02 07:03:00\n",
       "...           ...       ...                 ...\n",
       "38568        6509      exit 2019-09-06 22:01:00\n",
       "38555        6496      exit 2019-09-06 22:01:00\n",
       "38553        6494      exit 2019-09-06 22:01:00\n",
       "38562        6503      exit 2019-09-06 22:01:00\n",
       "38569        6510      exit 2019-09-06 22:01:00\n",
       "\n",
       "[28989 rows x 3 columns]"
      ]
     },
     "execution_count": 28,
     "metadata": {},
     "output_type": "execute_result"
    }
   ],
   "source": [
    "customer_flow"
   ]
  },
  {
   "cell_type": "markdown",
   "id": "15daefe2",
   "metadata": {},
   "source": [
    "# Shift location one step"
   ]
  },
  {
   "cell_type": "code",
   "execution_count": null,
   "id": "80498c0c",
   "metadata": {},
   "outputs": [],
   "source": [
    "#customer_transitions = customer_flow.sort_values(by=['customer_no', 'timestamp'])"
   ]
  },
  {
   "cell_type": "code",
   "execution_count": 29,
   "id": "aa082584",
   "metadata": {},
   "outputs": [],
   "source": [
    "customer_transitions1 = customer_flow"
   ]
  },
  {
   "cell_type": "code",
   "execution_count": 30,
   "id": "8d2ee093",
   "metadata": {},
   "outputs": [],
   "source": [
    "customer_transitions = customer_transitions1[['customer_no', 'location']]"
   ]
  },
  {
   "cell_type": "code",
   "execution_count": 31,
   "id": "89cca832",
   "metadata": {},
   "outputs": [],
   "source": [
    "customer_transitions['location+1'] = customer_transitions.groupby('customer_no')['location'].shift(-1)"
   ]
  },
  {
   "cell_type": "code",
   "execution_count": 32,
   "id": "f6934421",
   "metadata": {},
   "outputs": [
    {
     "data": {
      "text/html": [
       "<div>\n",
       "<style scoped>\n",
       "    .dataframe tbody tr th:only-of-type {\n",
       "        vertical-align: middle;\n",
       "    }\n",
       "\n",
       "    .dataframe tbody tr th {\n",
       "        vertical-align: top;\n",
       "    }\n",
       "\n",
       "    .dataframe thead th {\n",
       "        text-align: right;\n",
       "    }\n",
       "</style>\n",
       "<table border=\"1\" class=\"dataframe\">\n",
       "  <thead>\n",
       "    <tr style=\"text-align: right;\">\n",
       "      <th></th>\n",
       "      <th>customer_no</th>\n",
       "      <th>location</th>\n",
       "      <th>location+1</th>\n",
       "    </tr>\n",
       "  </thead>\n",
       "  <tbody>\n",
       "    <tr>\n",
       "      <th>27550</th>\n",
       "      <td>1001</td>\n",
       "      <td>entrance</td>\n",
       "      <td>dairy</td>\n",
       "    </tr>\n",
       "    <tr>\n",
       "      <th>27551</th>\n",
       "      <td>1002</td>\n",
       "      <td>entrance</td>\n",
       "      <td>dairy</td>\n",
       "    </tr>\n",
       "    <tr>\n",
       "      <th>27552</th>\n",
       "      <td>1003</td>\n",
       "      <td>entrance</td>\n",
       "      <td>dairy</td>\n",
       "    </tr>\n",
       "    <tr>\n",
       "      <th>5511</th>\n",
       "      <td>1002</td>\n",
       "      <td>dairy</td>\n",
       "      <td>checkout</td>\n",
       "    </tr>\n",
       "    <tr>\n",
       "      <th>5510</th>\n",
       "      <td>1001</td>\n",
       "      <td>dairy</td>\n",
       "      <td>checkout</td>\n",
       "    </tr>\n",
       "    <tr>\n",
       "      <th>...</th>\n",
       "      <td>...</td>\n",
       "      <td>...</td>\n",
       "      <td>...</td>\n",
       "    </tr>\n",
       "    <tr>\n",
       "      <th>38568</th>\n",
       "      <td>6509</td>\n",
       "      <td>exit</td>\n",
       "      <td>NaN</td>\n",
       "    </tr>\n",
       "    <tr>\n",
       "      <th>38555</th>\n",
       "      <td>6496</td>\n",
       "      <td>exit</td>\n",
       "      <td>NaN</td>\n",
       "    </tr>\n",
       "    <tr>\n",
       "      <th>38553</th>\n",
       "      <td>6494</td>\n",
       "      <td>exit</td>\n",
       "      <td>NaN</td>\n",
       "    </tr>\n",
       "    <tr>\n",
       "      <th>38562</th>\n",
       "      <td>6503</td>\n",
       "      <td>exit</td>\n",
       "      <td>NaN</td>\n",
       "    </tr>\n",
       "    <tr>\n",
       "      <th>38569</th>\n",
       "      <td>6510</td>\n",
       "      <td>exit</td>\n",
       "      <td>NaN</td>\n",
       "    </tr>\n",
       "  </tbody>\n",
       "</table>\n",
       "<p>28989 rows × 3 columns</p>\n",
       "</div>"
      ],
      "text/plain": [
       "      customer_no  location location+1\n",
       "27550        1001  entrance      dairy\n",
       "27551        1002  entrance      dairy\n",
       "27552        1003  entrance      dairy\n",
       "5511         1002     dairy   checkout\n",
       "5510         1001     dairy   checkout\n",
       "...           ...       ...        ...\n",
       "38568        6509      exit        NaN\n",
       "38555        6496      exit        NaN\n",
       "38553        6494      exit        NaN\n",
       "38562        6503      exit        NaN\n",
       "38569        6510      exit        NaN\n",
       "\n",
       "[28989 rows x 3 columns]"
      ]
     },
     "execution_count": 32,
     "metadata": {},
     "output_type": "execute_result"
    }
   ],
   "source": [
    "customer_transitions"
   ]
  },
  {
   "cell_type": "code",
   "execution_count": null,
   "id": "0e93e275",
   "metadata": {},
   "outputs": [],
   "source": [
    "customer_transitions"
   ]
  },
  {
   "cell_type": "markdown",
   "id": "4f9c0bb1",
   "metadata": {},
   "source": [
    "# Create Probabilities table"
   ]
  },
  {
   "cell_type": "code",
   "execution_count": 24,
   "id": "6bb010a3",
   "metadata": {},
   "outputs": [
    {
     "data": {
      "text/plain": [
       "0        checkout\n",
       "1        checkout\n",
       "2        checkout\n",
       "3        checkout\n",
       "4        checkout\n",
       "           ...   \n",
       "38565        exit\n",
       "38566        exit\n",
       "38567        exit\n",
       "38568        exit\n",
       "38569        exit\n",
       "Name: location, Length: 28989, dtype: object"
      ]
     },
     "execution_count": 24,
     "metadata": {},
     "output_type": "execute_result"
    }
   ],
   "source": [
    "customer_transitions['location']"
   ]
  },
  {
   "cell_type": "code",
   "execution_count": 33,
   "id": "e5659c37",
   "metadata": {},
   "outputs": [],
   "source": [
    "probabilites = pd.crosstab(customer_transitions['location'], customer_transitions['location+1'], normalize=0)"
   ]
  },
  {
   "cell_type": "code",
   "execution_count": null,
   "id": "c2c77f6c",
   "metadata": {},
   "outputs": [],
   "source": [
    "STATES = probabilites.columns.tolist()"
   ]
  },
  {
   "cell_type": "code",
   "execution_count": 34,
   "id": "287daafe",
   "metadata": {},
   "outputs": [
    {
     "data": {
      "text/html": [
       "<div>\n",
       "<style scoped>\n",
       "    .dataframe tbody tr th:only-of-type {\n",
       "        vertical-align: middle;\n",
       "    }\n",
       "\n",
       "    .dataframe tbody tr th {\n",
       "        vertical-align: top;\n",
       "    }\n",
       "\n",
       "    .dataframe thead th {\n",
       "        text-align: right;\n",
       "    }\n",
       "</style>\n",
       "<table border=\"1\" class=\"dataframe\">\n",
       "  <thead>\n",
       "    <tr style=\"text-align: right;\">\n",
       "      <th>location+1</th>\n",
       "      <th>checkout</th>\n",
       "      <th>dairy</th>\n",
       "      <th>drinks</th>\n",
       "      <th>exit</th>\n",
       "      <th>fruit</th>\n",
       "      <th>spices</th>\n",
       "    </tr>\n",
       "    <tr>\n",
       "      <th>location</th>\n",
       "      <th></th>\n",
       "      <th></th>\n",
       "      <th></th>\n",
       "      <th></th>\n",
       "      <th></th>\n",
       "      <th></th>\n",
       "    </tr>\n",
       "  </thead>\n",
       "  <tbody>\n",
       "    <tr>\n",
       "      <th>checkout</th>\n",
       "      <td>0.000000</td>\n",
       "      <td>0.069328</td>\n",
       "      <td>0.050272</td>\n",
       "      <td>0.762976</td>\n",
       "      <td>0.062069</td>\n",
       "      <td>0.055354</td>\n",
       "    </tr>\n",
       "    <tr>\n",
       "      <th>dairy</th>\n",
       "      <td>0.397112</td>\n",
       "      <td>0.000000</td>\n",
       "      <td>0.175090</td>\n",
       "      <td>0.103490</td>\n",
       "      <td>0.167569</td>\n",
       "      <td>0.156739</td>\n",
       "    </tr>\n",
       "    <tr>\n",
       "      <th>drinks</th>\n",
       "      <td>0.498068</td>\n",
       "      <td>0.081489</td>\n",
       "      <td>0.000000</td>\n",
       "      <td>0.121531</td>\n",
       "      <td>0.153846</td>\n",
       "      <td>0.145065</td>\n",
       "    </tr>\n",
       "    <tr>\n",
       "      <th>entrance</th>\n",
       "      <td>0.000000</td>\n",
       "      <td>0.289292</td>\n",
       "      <td>0.177677</td>\n",
       "      <td>0.000000</td>\n",
       "      <td>0.347913</td>\n",
       "      <td>0.185118</td>\n",
       "    </tr>\n",
       "    <tr>\n",
       "      <th>fruit</th>\n",
       "      <td>0.531541</td>\n",
       "      <td>0.157433</td>\n",
       "      <td>0.115469</td>\n",
       "      <td>0.090510</td>\n",
       "      <td>0.000000</td>\n",
       "      <td>0.105047</td>\n",
       "    </tr>\n",
       "    <tr>\n",
       "      <th>spices</th>\n",
       "      <td>0.315670</td>\n",
       "      <td>0.205148</td>\n",
       "      <td>0.222559</td>\n",
       "      <td>0.108251</td>\n",
       "      <td>0.148372</td>\n",
       "      <td>0.000000</td>\n",
       "    </tr>\n",
       "  </tbody>\n",
       "</table>\n",
       "</div>"
      ],
      "text/plain": [
       "location+1  checkout     dairy    drinks      exit     fruit    spices\n",
       "location                                                              \n",
       "checkout    0.000000  0.069328  0.050272  0.762976  0.062069  0.055354\n",
       "dairy       0.397112  0.000000  0.175090  0.103490  0.167569  0.156739\n",
       "drinks      0.498068  0.081489  0.000000  0.121531  0.153846  0.145065\n",
       "entrance    0.000000  0.289292  0.177677  0.000000  0.347913  0.185118\n",
       "fruit       0.531541  0.157433  0.115469  0.090510  0.000000  0.105047\n",
       "spices      0.315670  0.205148  0.222559  0.108251  0.148372  0.000000"
      ]
     },
     "execution_count": 34,
     "metadata": {},
     "output_type": "execute_result"
    }
   ],
   "source": [
    "probabilites"
   ]
  },
  {
   "cell_type": "markdown",
   "id": "ec03419e",
   "metadata": {},
   "source": [
    "# Predict states"
   ]
  },
  {
   "cell_type": "code",
   "execution_count": null,
   "id": "70138882",
   "metadata": {},
   "outputs": [],
   "source": []
  },
  {
   "cell_type": "code",
   "execution_count": null,
   "id": "f5ed4ac3",
   "metadata": {},
   "outputs": [],
   "source": [
    "location_states = list(customer_transitions.location.unique())\n",
    "location_states"
   ]
  },
  {
   "cell_type": "markdown",
   "id": "17692902",
   "metadata": {},
   "source": [
    "# Global Variables"
   ]
  },
  {
   "cell_type": "markdown",
   "id": "c5b7f5c3",
   "metadata": {},
   "source": [
    "#### Store traffic by hour"
   ]
  },
  {
   "cell_type": "code",
   "execution_count": 35,
   "id": "1ac45605",
   "metadata": {},
   "outputs": [],
   "source": [
    "TIMESTAMPS = customer_flow.timestamp.dt.hour.values.tolist()\n",
    "TIMESTAMPS_totals = Counter(TIMESTAMPS)"
   ]
  },
  {
   "cell_type": "markdown",
   "id": "14d2ab3c",
   "metadata": {},
   "source": [
    "#### Store traffic by section"
   ]
  },
  {
   "cell_type": "code",
   "execution_count": 36,
   "id": "07811ed7",
   "metadata": {},
   "outputs": [],
   "source": [
    "visited = customer_flow.location.values.tolist()\n",
    "visited_totals = Counter(visited)"
   ]
  },
  {
   "cell_type": "markdown",
   "id": "2414f6f0",
   "metadata": {},
   "source": [
    "#### States"
   ]
  },
  {
   "cell_type": "code",
   "execution_count": 45,
   "id": "9d2ed9f8",
   "metadata": {},
   "outputs": [],
   "source": [
    "STATES = probabilites.columns.tolist()"
   ]
  },
  {
   "cell_type": "code",
   "execution_count": 46,
   "id": "10dff2b3",
   "metadata": {},
   "outputs": [
    {
     "data": {
      "text/plain": [
       "['checkout', 'dairy', 'drinks', 'exit', 'fruit', 'spices']"
      ]
     },
     "execution_count": 46,
     "metadata": {},
     "output_type": "execute_result"
    }
   ],
   "source": [
    "STATES"
   ]
  },
  {
   "cell_type": "markdown",
   "id": "334f6c51",
   "metadata": {},
   "source": [
    "#### Probabilities"
   ]
  },
  {
   "cell_type": "code",
   "execution_count": 38,
   "id": "79a59392",
   "metadata": {},
   "outputs": [],
   "source": [
    "PROBABILITIES = probabilites.T.to_dict(orient='list')"
   ]
  },
  {
   "cell_type": "code",
   "execution_count": 40,
   "id": "cd40e8bd",
   "metadata": {},
   "outputs": [
    {
     "data": {
      "text/plain": [
       "{'checkout': [0.0,\n",
       "  0.06932849364791288,\n",
       "  0.05027223230490018,\n",
       "  0.7629764065335753,\n",
       "  0.06206896551724138,\n",
       "  0.05535390199637023],\n",
       " 'dairy': [0.3971119133574007,\n",
       "  0.0,\n",
       "  0.17509025270758122,\n",
       "  0.10348977135980746,\n",
       "  0.16756919374247894,\n",
       "  0.15673886883273164],\n",
       " 'drinks': [0.49806814190375837,\n",
       "  0.08148928696873903,\n",
       "  0.0,\n",
       "  0.12153143659992975,\n",
       "  0.15384615384615385,\n",
       "  0.14506498068141904],\n",
       " 'entrance': [0.0,\n",
       "  0.28929219600725953,\n",
       "  0.17767695099818512,\n",
       "  0.0,\n",
       "  0.34791288566243195,\n",
       "  0.1851179673321234],\n",
       " 'fruit': [0.5315414152495886,\n",
       "  0.15743280307185958,\n",
       "  0.11546900713110257,\n",
       "  0.09051014810751508,\n",
       "  0.0,\n",
       "  0.10504662643993418],\n",
       " 'spices': [0.315669947009841,\n",
       "  0.20514761544284632,\n",
       "  0.22255866767600302,\n",
       "  0.10825132475397427,\n",
       "  0.14837244511733536,\n",
       "  0.0]}"
      ]
     },
     "execution_count": 40,
     "metadata": {},
     "output_type": "execute_result"
    }
   ],
   "source": [
    "PROBABILITIES"
   ]
  },
  {
   "cell_type": "markdown",
   "id": "4dc5b124",
   "metadata": {},
   "source": [
    "#### Current Time"
   ]
  },
  {
   "cell_type": "code",
   "execution_count": null,
   "id": "ee8960e4",
   "metadata": {},
   "outputs": [],
   "source": [
    "now = dt.datetime.now()\n",
    "current_time = now.strftime(\"%H:%M:%S\")"
   ]
  },
  {
   "cell_type": "markdown",
   "id": "dca15dae",
   "metadata": {},
   "source": [
    "# Create Store and Customer Class"
   ]
  },
  {
   "cell_type": "code",
   "execution_count": 49,
   "id": "e6c6961c",
   "metadata": {},
   "outputs": [],
   "source": [
    "class Store():\n",
    "    def __init__(self, name, sections=STATES, times=TIMESTAMPS_totals):\n",
    "        self.name = name\n",
    "        self.sections = sections\n",
    "        \n",
    "        #customer class for active customers and inactive customers\n",
    "        self.active_customers = []\n",
    "        self.visited_customers = []\n",
    "        \n",
    "        #Simulation visitation metrics\n",
    "        self.times = times\n",
    "        self.time_totals = []\n",
    "        self.section_data = []\n",
    "        \n",
    "        #To output information\n",
    "        self.to_print = []\n",
    "        \n",
    "    def add_customer(self, customer):\n",
    "        \"\"\"\n",
    "        Adds customer class instance to list of customers in the store.\n",
    "        \n",
    "        Returns\n",
    "        _______\n",
    "        \n",
    "        string telling name, state and time \n",
    "        \"\"\"\n",
    "        \n",
    "        now = dt.datetime.now()\n",
    "        current_time = now.strftime(\"%H:%M:%S\")\n",
    "                \n",
    "        self.active_customers.append(customer)\n",
    "        print(f'{customer.name} is at {self.name.title()} {customer.state} at {current_time}')\n",
    "        \n",
    "    def show_sections(self):\n",
    "        \"\"\"\n",
    "        Show all sections of store\n",
    "        \n",
    "        Returns\n",
    "        _______\n",
    "        \n",
    "        list: list of sections in store\n",
    "        \"\"\"\n",
    "        return self.sections\n",
    "   \n",
    "\n",
    "    def simulate_flow(self):\n",
    "        \"\"\"\n",
    "        Simulates customer moving through store.\n",
    "        \n",
    "        Returns\n",
    "        _______\n",
    "        \n",
    "        str: customers next state \n",
    "        \"\"\"\n",
    "        now = dt.datetime.now()\n",
    "        current_time = now.strftime(\"%H:%M:%S\")\n",
    "        \n",
    "        \n",
    "        for customer in self.active_customers:\n",
    "            temp_time = []\n",
    "            print(f'\\n####### Moving {customer.name} [customer_id: {customer.cust_id}] through {self.name} #######')\n",
    "            while customer.is_active:\n",
    "                customer.next_state()\n",
    "                if customer.state != 'checkout' or customer.state != 'exit':\n",
    "                    self.section_data.append(customer.state)\n",
    "\n",
    "                print(f'{customer.cust_id} is now at {customer.state}: Timestamp({current_time})')\n",
    "                \n",
    "                #Append data for output\n",
    "                record = {'customer':customer.cust_id, 'location': customer.state,  'timestamp': current_time}\n",
    "                self.to_print.append(record)\n",
    "                \n",
    "                \n",
    "                timestep = random.randint(1,5)\n",
    "                \n",
    "                now+= dt.timedelta(minutes=timestep)\n",
    "                current_time = now.strftime(\"%H:%M:%S\")\n",
    "                temp_time.append(now)\n",
    "                \n",
    "            self.time_totals.append(temp_time)\n",
    "            \n",
    "            # Cutomer has reached check out, remove from active customers and add to visited list\n",
    "            self.active_customers.remove(customer)\n",
    "            self.visited_customers.append(customer)\n",
    "            print(f'{customer.name} [customer_id: {customer.cust_id}] has just left {self.name}')\n",
    "            \n",
    "    \n",
    "    def show_busiest(self):\n",
    "        \"\"\"\n",
    "        Shows busiest store times\n",
    "        \"\"\"\n",
    "        busiest = self.times.most_common()[0] \n",
    "        return f'{busiest[0]} o\\'clock is the buisiest time of the day with {busiest[1]} total visits'\n",
    "        \n",
    "    def show_slowest(self):\n",
    "        \"\"\"\n",
    "        Shows slowest store times\n",
    "        \"\"\"\n",
    "        slowest = self.times.most_common()[-1]\n",
    "        return f'{slowest[0]} o\\'clock is the buisiest time of the day with {slowest[1]} total visits'\n",
    "        \n",
    "    def most_visited(self):\n",
    "        #show section most visited\n",
    "        self.data = Counter(self.section_data) \n",
    "        self.data = self.data.most_common()[0]\n",
    "        return f'Most Visited Section: {self.data[0].title()} with {self.data[1]} vists'\n",
    "        \n",
    "    def least_visited(self):\n",
    "        #show section least visited\n",
    "        self.data = Counter(self.section_data) \n",
    "        self.data = self.data.most_common()[-1]\n",
    "        return f'Least Visited Section: {self.data[0].title()} with {self.data[1]} vists'\n",
    "    \n",
    "    def customer_time_data(self):\n",
    "        self.total_time = 0\n",
    "        self.total_timesteps = 0\n",
    "        for i in self.time_totals:\n",
    "            time_diff = i[-1] - i[0]\n",
    "            self.total = time_diff.seconds / 60\n",
    "            \n",
    "            self.total_time = self.total_time + self.total\n",
    "            self.total_timesteps = self.total_timesteps + len(i)\n",
    "            \n",
    "        self.avg_time = self.total_time/self.total_timesteps\n",
    "            \n",
    "        print(f'Customers total time in store: {self.total_time} minutes \\\n",
    "        Customers average time in store: {round(self.avg_time, 1)} minutes')\n",
    "        \n",
    "    def save_data(self):\n",
    "        now = dt.datetime.now()\n",
    "        #current_time = now.strftime()\n",
    "        current_time = now.strftime(\"%H_%M_%S\")\n",
    "        filename = f'customers_data_{current_time}'\n",
    "        df = pd.DataFrame(self.to_print)\n",
    "        df.to_csv(filename)\n",
    "        print('CSV Generated')\n",
    "        \n",
    "    "
   ]
  },
  {
   "cell_type": "code",
   "execution_count": 52,
   "id": "05dcd254",
   "metadata": {},
   "outputs": [],
   "source": [
    "class Customer():\n",
    "    \n",
    "    def __init__(self, cust_id,name, state='entrance'):\n",
    "        self.name = name\n",
    "        self.cust_id = cust_id\n",
    "        self.state = state\n",
    "        \n",
    "    def next_state(self):\n",
    "        probs = PROBABILITIES[self.state]\n",
    "        self.state = choices(STATES, weights=probs)[0]\n",
    "    \n",
    "    def __repr__(self):\n",
    "        return f'{self.name} (customer_id: {self.cust_id}) at {self.state}'\n",
    "    \n",
    "    @property\n",
    "    def is_active(self):\n",
    "        return self.state != 'exit'\n",
    "        \n",
    "    "
   ]
  },
  {
   "cell_type": "code",
   "execution_count": 42,
   "id": "73f9e2ae",
   "metadata": {},
   "outputs": [],
   "source": [
    "fake = Faker()"
   ]
  },
  {
   "cell_type": "code",
   "execution_count": 43,
   "id": "1a6249e2",
   "metadata": {},
   "outputs": [],
   "source": [
    "def customer_generator():\n",
    "    random.seed(10)\n",
    "    customer_ids = random.sample(range(10, 5000), 8)\n",
    "    customer_names = [fake.name() for i in range(len(customer_ids))]\n",
    "    \n",
    "    return customer_ids, customer_names"
   ]
  },
  {
   "cell_type": "code",
   "execution_count": 53,
   "id": "060ffcee",
   "metadata": {},
   "outputs": [
    {
     "name": "stdout",
     "output_type": "stream",
     "text": [
      "Thomas Norton is at Edeka entrance at 16:56:09\n",
      "Christine Calderon is at Edeka entrance at 16:56:09\n",
      "Dr. Bobby Perez is at Edeka entrance at 16:56:09\n",
      "Jamie Phillips is at Edeka entrance at 16:56:09\n",
      "Michael Odom is at Edeka entrance at 16:56:09\n",
      "Jeff Kelly is at Edeka entrance at 16:56:09\n",
      "Courtney Fernandez is at Edeka entrance at 16:56:09\n",
      "Anna Willis is at Edeka entrance at 16:56:09\n",
      "\n",
      "####### Moving Thomas Norton [customer_id: 4690] through Edeka #######\n",
      "4690 is now at fruit: Timestamp(16:56:09)\n",
      "4690 is now at dairy: Timestamp(16:59:09)\n",
      "4690 is now at checkout: Timestamp(17:01:09)\n",
      "4690 is now at exit: Timestamp(17:05:09)\n",
      "Thomas Norton [customer_id: 4690] has just left Edeka\n",
      "\n",
      "####### Moving Dr. Bobby Perez [customer_id: 3523] through Edeka #######\n",
      "3523 is now at spices: Timestamp(17:07:09)\n",
      "3523 is now at checkout: Timestamp(17:10:09)\n",
      "3523 is now at exit: Timestamp(17:12:09)\n",
      "Dr. Bobby Perez [customer_id: 3523] has just left Edeka\n",
      "\n",
      "####### Moving Michael Odom [customer_id: 4745] through Edeka #######\n",
      "4745 is now at drinks: Timestamp(17:16:09)\n",
      "4745 is now at checkout: Timestamp(17:19:09)\n",
      "4745 is now at exit: Timestamp(17:22:09)\n",
      "Michael Odom [customer_id: 4745] has just left Edeka\n",
      "\n",
      "####### Moving Courtney Fernandez [customer_id: 1698] through Edeka #######\n",
      "1698 is now at drinks: Timestamp(17:24:09)\n",
      "1698 is now at spices: Timestamp(17:26:09)\n",
      "1698 is now at dairy: Timestamp(17:31:09)\n",
      "1698 is now at checkout: Timestamp(17:36:09)\n",
      "1698 is now at exit: Timestamp(17:38:09)\n",
      "Courtney Fernandez [customer_id: 1698] has just left Edeka\n",
      "\n",
      "####### Moving Christine Calderon [customer_id: 276] through Edeka #######\n",
      "276 is now at fruit: Timestamp(16:56:11)\n",
      "276 is now at checkout: Timestamp(16:58:11)\n",
      "276 is now at exit: Timestamp(17:03:11)\n",
      "Christine Calderon [customer_id: 276] has just left Edeka\n",
      "\n",
      "####### Moving Jeff Kelly [customer_id: 131] through Edeka #######\n",
      "131 is now at dairy: Timestamp(17:07:11)\n",
      "131 is now at checkout: Timestamp(17:12:11)\n",
      "131 is now at exit: Timestamp(17:17:11)\n",
      "Jeff Kelly [customer_id: 131] has just left Edeka\n",
      "\n",
      "####### Moving Jamie Phillips [customer_id: 3963] through Edeka #######\n",
      "3963 is now at spices: Timestamp(16:56:13)\n",
      "3963 is now at checkout: Timestamp(16:58:13)\n",
      "3963 is now at exit: Timestamp(17:02:13)\n",
      "Jamie Phillips [customer_id: 3963] has just left Edeka\n",
      "\n",
      "####### Moving Anna Willis [customer_id: 3799] through Edeka #######\n",
      "3799 is now at fruit: Timestamp(16:56:15)\n",
      "3799 is now at spices: Timestamp(17:01:15)\n",
      "3799 is now at checkout: Timestamp(17:02:15)\n",
      "3799 is now at spices: Timestamp(17:07:15)\n",
      "3799 is now at checkout: Timestamp(17:12:15)\n",
      "3799 is now at exit: Timestamp(17:13:15)\n",
      "Anna Willis [customer_id: 3799] has just left Edeka\n",
      "\n",
      "There are no more customers currently in Edeka\n"
     ]
    }
   ],
   "source": [
    "if __name__ == '__main__':\n",
    "    \n",
    "    edeka = Store('Edeka')\n",
    "    \n",
    "    customer_ids, customer_names = customer_generator()\n",
    "    for i in range(len(customer_ids)):\n",
    "        cust_id = customer_ids[i]\n",
    "        cust_name = customer_names[i]\n",
    "    \n",
    "    \n",
    "        customer = Customer(cust_id, cust_name)\n",
    "        edeka.add_customer(customer)\n",
    "        \n",
    "    \n",
    "\n",
    "    for i in range(len(edeka.active_customers)):\n",
    "        edeka.simulate_flow()\n",
    "        time.sleep(2)\n",
    "        \n",
    "    print(f'\\nThere are no more customers currently in {edeka.name}')\n",
    "    #customer3 = ''\n",
    "    "
   ]
  },
  {
   "cell_type": "markdown",
   "id": "5d311b86",
   "metadata": {},
   "source": [
    "***Note that the follow block shows busiest times based off data\n",
    "imported from the data used to get the MCMC probabilites data***"
   ]
  },
  {
   "cell_type": "code",
   "execution_count": null,
   "id": "e0c778b7",
   "metadata": {},
   "outputs": [],
   "source": [
    "shop.show_busiest()"
   ]
  },
  {
   "cell_type": "code",
   "execution_count": 54,
   "id": "623e807a",
   "metadata": {},
   "outputs": [
    {
     "data": {
      "text/plain": [
       "'Most Visited Section: Checkout with 9 vists'"
      ]
     },
     "execution_count": 54,
     "metadata": {},
     "output_type": "execute_result"
    }
   ],
   "source": [
    "edeka.most_visited()"
   ]
  },
  {
   "cell_type": "code",
   "execution_count": 55,
   "id": "316a285a",
   "metadata": {},
   "outputs": [
    {
     "data": {
      "text/plain": [
       "'Least Visited Section: Drinks with 2 vists'"
      ]
     },
     "execution_count": 55,
     "metadata": {},
     "output_type": "execute_result"
    }
   ],
   "source": [
    "edeka.least_visited()"
   ]
  },
  {
   "cell_type": "code",
   "execution_count": null,
   "id": "2b032fb1",
   "metadata": {},
   "outputs": [],
   "source": [
    "edeka.customer_time_data()"
   ]
  },
  {
   "cell_type": "code",
   "execution_count": null,
   "id": "2617eafa",
   "metadata": {},
   "outputs": [],
   "source": [
    "edeka.save_data()"
   ]
  },
  {
   "cell_type": "code",
   "execution_count": null,
   "id": "f3747860",
   "metadata": {},
   "outputs": [],
   "source": []
  }
 ],
 "metadata": {
  "kernelspec": {
   "display_name": "Python 3 (ipykernel)",
   "language": "python",
   "name": "python3"
  },
  "language_info": {
   "codemirror_mode": {
    "name": "ipython",
    "version": 3
   },
   "file_extension": ".py",
   "mimetype": "text/x-python",
   "name": "python",
   "nbconvert_exporter": "python",
   "pygments_lexer": "ipython3",
   "version": "3.9.7"
  }
 },
 "nbformat": 4,
 "nbformat_minor": 5
}

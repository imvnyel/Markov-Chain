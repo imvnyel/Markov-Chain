{
 "cells": [
  {
   "cell_type": "code",
   "execution_count": 42,
   "id": "a9bac27b",
   "metadata": {},
   "outputs": [],
   "source": [
    "import pandas as pd\n",
    "import seaborn as sns\n",
    "import numpy as np\n",
    "import matplotlib.pyplot as plt\n",
    "import os\n",
    "import datetime as dt\n",
    "from faker import Faker\n",
    "import random\n",
    "from random import choices\n",
    "from collections import Counter\n",
    "import time"
   ]
  },
  {
   "cell_type": "code",
   "execution_count": 2,
   "id": "4daf8808",
   "metadata": {},
   "outputs": [],
   "source": [
    "files = os.listdir(path='data')"
   ]
  },
  {
   "cell_type": "code",
   "execution_count": 3,
   "id": "c0550a49",
   "metadata": {},
   "outputs": [
    {
     "data": {
      "text/plain": [
       "['friday.csv', 'monday.csv', 'thursday.csv', 'tuesday.csv', 'wednesday.csv']"
      ]
     },
     "execution_count": 3,
     "metadata": {},
     "output_type": "execute_result"
    }
   ],
   "source": [
    "files"
   ]
  },
  {
   "cell_type": "code",
   "execution_count": 4,
   "id": "ad0da84f",
   "metadata": {},
   "outputs": [],
   "source": [
    "def read_files(files, datapath='data/', delimiter = ';'):\n",
    "        df_temp = []\n",
    "        days = {'mo':1000,\n",
    "                'tu':2000\n",
    "                'we':3000\n",
    "                'th':4000\n",
    "                'fr':5000}\n",
    "\n",
    "        if type(files) == list:\n",
    "            for i in files:\n",
    "                df = pd.read_csv(datapath+i, delimiter=delimiter, parse_dates=True, index_col='timestamp')\n",
    "                day_name = df.index.day_name()[0][:2]\n",
    "                \n",
    "                df['customer_no'] = df.customer_no.apply(lambda x: f'{day_name}_{int(x)+days[day_name]}')\n",
    "                df_temp.append(df)\n",
    "            df = pd.concat(df_temp)\n",
    "        else:\n",
    "            df = pd.read_csv(files, delimiter=delimiter, parse_dates=True, index_col='timestamp')\n",
    "            day_name = df.index.day_name()[0][:3]\n",
    "            df['customer_no'] = df.customer_no.apply(lambda x: f'{day_name}_{x}')\n",
    "\n",
    "        return df"
   ]
  },
  {
   "cell_type": "code",
   "execution_count": 5,
   "id": "003df293",
   "metadata": {},
   "outputs": [],
   "source": [
    "shop_data = read_files(files)"
   ]
  },
  {
   "cell_type": "markdown",
   "id": "61af49bc",
   "metadata": {},
   "source": [
    "# Insert timesteps to show minutes spent in section"
   ]
  },
  {
   "cell_type": "code",
   "execution_count": 6,
   "id": "a18f884c",
   "metadata": {},
   "outputs": [],
   "source": [
    "shop_df = shop_data.groupby(['customer_no', 'location']).resample('T').ffill()"
   ]
  },
  {
   "cell_type": "code",
   "execution_count": 7,
   "id": "8d2571d0",
   "metadata": {},
   "outputs": [],
   "source": [
    "shop_df = shop_df.droplevel('location').reset_index(level=1)"
   ]
  },
  {
   "cell_type": "code",
   "execution_count": 8,
   "id": "cee187b5",
   "metadata": {},
   "outputs": [],
   "source": [
    "shop_df = shop_df.drop('customer_no', axis=1)"
   ]
  },
  {
   "cell_type": "code",
   "execution_count": 9,
   "id": "235e2819",
   "metadata": {},
   "outputs": [],
   "source": [
    "shop_df = shop_df.reset_index()"
   ]
  },
  {
   "cell_type": "code",
   "execution_count": 10,
   "id": "21662167",
   "metadata": {},
   "outputs": [
    {
     "data": {
      "text/html": [
       "<div>\n",
       "<style scoped>\n",
       "    .dataframe tbody tr th:only-of-type {\n",
       "        vertical-align: middle;\n",
       "    }\n",
       "\n",
       "    .dataframe tbody tr th {\n",
       "        vertical-align: top;\n",
       "    }\n",
       "\n",
       "    .dataframe thead th {\n",
       "        text-align: right;\n",
       "    }\n",
       "</style>\n",
       "<table border=\"1\" class=\"dataframe\">\n",
       "  <thead>\n",
       "    <tr style=\"text-align: right;\">\n",
       "      <th></th>\n",
       "      <th>customer_no</th>\n",
       "      <th>timestamp</th>\n",
       "      <th>location</th>\n",
       "    </tr>\n",
       "  </thead>\n",
       "  <tbody>\n",
       "    <tr>\n",
       "      <th>0</th>\n",
       "      <td>Fri_1</td>\n",
       "      <td>2019-09-06 07:05:00</td>\n",
       "      <td>checkout</td>\n",
       "    </tr>\n",
       "    <tr>\n",
       "      <th>1</th>\n",
       "      <td>Fri_1</td>\n",
       "      <td>2019-09-06 07:00:00</td>\n",
       "      <td>dairy</td>\n",
       "    </tr>\n",
       "    <tr>\n",
       "      <th>2</th>\n",
       "      <td>Fri_1</td>\n",
       "      <td>2019-09-06 07:04:00</td>\n",
       "      <td>spices</td>\n",
       "    </tr>\n",
       "    <tr>\n",
       "      <th>3</th>\n",
       "      <td>Fri_10</td>\n",
       "      <td>2019-09-06 07:11:00</td>\n",
       "      <td>checkout</td>\n",
       "    </tr>\n",
       "    <tr>\n",
       "      <th>4</th>\n",
       "      <td>Fri_10</td>\n",
       "      <td>2019-09-06 07:06:00</td>\n",
       "      <td>fruit</td>\n",
       "    </tr>\n",
       "    <tr>\n",
       "      <th>...</th>\n",
       "      <td>...</td>\n",
       "      <td>...</td>\n",
       "      <td>...</td>\n",
       "    </tr>\n",
       "    <tr>\n",
       "      <th>43623</th>\n",
       "      <td>Wed_998</td>\n",
       "      <td>2019-09-04 16:59:00</td>\n",
       "      <td>checkout</td>\n",
       "    </tr>\n",
       "    <tr>\n",
       "      <th>43624</th>\n",
       "      <td>Wed_998</td>\n",
       "      <td>2019-09-04 16:53:00</td>\n",
       "      <td>dairy</td>\n",
       "    </tr>\n",
       "    <tr>\n",
       "      <th>43625</th>\n",
       "      <td>Wed_998</td>\n",
       "      <td>2019-09-04 16:57:00</td>\n",
       "      <td>fruit</td>\n",
       "    </tr>\n",
       "    <tr>\n",
       "      <th>43626</th>\n",
       "      <td>Wed_999</td>\n",
       "      <td>2019-09-04 16:54:00</td>\n",
       "      <td>checkout</td>\n",
       "    </tr>\n",
       "    <tr>\n",
       "      <th>43627</th>\n",
       "      <td>Wed_999</td>\n",
       "      <td>2019-09-04 16:53:00</td>\n",
       "      <td>fruit</td>\n",
       "    </tr>\n",
       "  </tbody>\n",
       "</table>\n",
       "<p>43628 rows × 3 columns</p>\n",
       "</div>"
      ],
      "text/plain": [
       "      customer_no           timestamp  location\n",
       "0           Fri_1 2019-09-06 07:05:00  checkout\n",
       "1           Fri_1 2019-09-06 07:00:00     dairy\n",
       "2           Fri_1 2019-09-06 07:04:00    spices\n",
       "3          Fri_10 2019-09-06 07:11:00  checkout\n",
       "4          Fri_10 2019-09-06 07:06:00     fruit\n",
       "...           ...                 ...       ...\n",
       "43623     Wed_998 2019-09-04 16:59:00  checkout\n",
       "43624     Wed_998 2019-09-04 16:53:00     dairy\n",
       "43625     Wed_998 2019-09-04 16:57:00     fruit\n",
       "43626     Wed_999 2019-09-04 16:54:00  checkout\n",
       "43627     Wed_999 2019-09-04 16:53:00     fruit\n",
       "\n",
       "[43628 rows x 3 columns]"
      ]
     },
     "execution_count": 10,
     "metadata": {},
     "output_type": "execute_result"
    }
   ],
   "source": [
    "shop_df"
   ]
  },
  {
   "cell_type": "markdown",
   "id": "aec22dd1",
   "metadata": {},
   "source": [
    "location_list = shop_data.groupby(['customer_no'])['location'].apply(list)"
   ]
  },
  {
   "cell_type": "markdown",
   "id": "c1515d49",
   "metadata": {},
   "source": [
    "food_store = Store()\n",
    "\n",
    "for i in location_list.index:\n",
    "    print(i, location_list[i])\n",
    "    cust = Customer(fake.name(), i, location_list[i])\n",
    "    data = cust.send_info()\n",
    "    food_store.store_customer(data)"
   ]
  },
  {
   "cell_type": "markdown",
   "id": "855308fc",
   "metadata": {},
   "source": [
    "food_store.customers[0]['Fri_1'][1]"
   ]
  },
  {
   "cell_type": "markdown",
   "id": "dc539e4a",
   "metadata": {},
   "source": [
    "# Create entrance times and fill checkout times"
   ]
  },
  {
   "cell_type": "code",
   "execution_count": 11,
   "id": "d4ff3bce",
   "metadata": {},
   "outputs": [],
   "source": [
    "def fill_enter(dataframe):\n",
    "    \n",
    "    entry_time = dataframe.loc[dataframe.notnull()].min() - dt.timedelta(minutes=1)\n",
    "    return entry_time\n",
    "    #if dataframe.entrance != dataframe.entrance:\n",
    "    #    entry_time = dataframe.loc[dataframe.notnull()].min() - timedelta(minuntes=1)\n",
    "    #    return entry_time\n",
    "    #elif dataframe.entrance:\n",
    "    #    return dataframe.entrance"
   ]
  },
  {
   "cell_type": "code",
   "execution_count": 12,
   "id": "e20ed349",
   "metadata": {},
   "outputs": [],
   "source": [
    "def fill_checkout(dataframe):\n",
    "    if dataframe.checkout != dataframe.checkout:\n",
    "        closing_time = dataframe.loc[dataframe.notnull()].max().round('H')\n",
    "        return closing_time\n",
    "    elif dataframe.checkout:\n",
    "        return dataframe.checkout"
   ]
  },
  {
   "cell_type": "code",
   "execution_count": 13,
   "id": "835dd590",
   "metadata": {},
   "outputs": [],
   "source": [
    "def fill_exit(dataframe):\n",
    "    exit_time = dataframe.loc[dataframe.notnull()].max() + dt.timedelta(minutes=1)\n",
    "    return exit_time\n",
    "\n",
    "    #if dataframe.checkout != dataframe.checkout:\n",
    "    #    closing_time = dataframe.loc[dataframe.notnull()].max().round('H')\n",
    "    #    return closing_time\n",
    "    #elif dataframe.checkout:\n",
    "    #    return dataframe.checkout"
   ]
  },
  {
   "cell_type": "code",
   "execution_count": 14,
   "id": "981c623c",
   "metadata": {},
   "outputs": [],
   "source": [
    "#Create customer flow pivoted table for addition of entrance and checkout times\n",
    "customer_flow = pd.pivot_table(shop_df, index='customer_no', columns='location', values='timestamp' )"
   ]
  },
  {
   "cell_type": "code",
   "execution_count": 15,
   "id": "25536cf1",
   "metadata": {},
   "outputs": [],
   "source": [
    "#Fill Entrance and checkout times\n",
    "customer_flow['entrance'] = customer_flow.apply(fill_enter, axis=1)\n",
    "customer_flow['checkout'] = customer_flow.apply(fill_checkout, axis=1)\n",
    "customer_flow['exit'] = customer_flow.apply(fill_exit, axis=1)"
   ]
  },
  {
   "cell_type": "markdown",
   "id": "d16676e5",
   "metadata": {},
   "source": [
    "# Table from wide to long"
   ]
  },
  {
   "cell_type": "code",
   "execution_count": 16,
   "id": "9c14a6ed",
   "metadata": {},
   "outputs": [],
   "source": [
    "customer_flow = customer_flow.reset_index(level=0)"
   ]
  },
  {
   "cell_type": "code",
   "execution_count": 17,
   "id": "874bde7f",
   "metadata": {},
   "outputs": [],
   "source": [
    "#Unpivot table\n",
    "customer_flow = customer_flow.melt(id_vars='customer_no', value_name='timestamp')"
   ]
  },
  {
   "cell_type": "code",
   "execution_count": 18,
   "id": "b77f3b61",
   "metadata": {},
   "outputs": [],
   "source": [
    "#Drop na values\n",
    "customer_flow = customer_flow.dropna()"
   ]
  },
  {
   "cell_type": "code",
   "execution_count": 19,
   "id": "8341a5e3",
   "metadata": {},
   "outputs": [],
   "source": [
    "#Sort values to show flow in order\n",
    "customer_flow = customer_flow.sort_values(by=['customer_no', 'timestamp'])"
   ]
  },
  {
   "cell_type": "code",
   "execution_count": 20,
   "id": "3197bc36",
   "metadata": {},
   "outputs": [
    {
     "data": {
      "text/html": [
       "<div>\n",
       "<style scoped>\n",
       "    .dataframe tbody tr th:only-of-type {\n",
       "        vertical-align: middle;\n",
       "    }\n",
       "\n",
       "    .dataframe tbody tr th {\n",
       "        vertical-align: top;\n",
       "    }\n",
       "\n",
       "    .dataframe thead th {\n",
       "        text-align: right;\n",
       "    }\n",
       "</style>\n",
       "<table border=\"1\" class=\"dataframe\">\n",
       "  <thead>\n",
       "    <tr style=\"text-align: right;\">\n",
       "      <th></th>\n",
       "      <th>customer_no</th>\n",
       "      <th>location</th>\n",
       "      <th>timestamp</th>\n",
       "    </tr>\n",
       "  </thead>\n",
       "  <tbody>\n",
       "    <tr>\n",
       "      <th>37225</th>\n",
       "      <td>Fri_1</td>\n",
       "      <td>entrance</td>\n",
       "      <td>2019-09-06 06:59:00</td>\n",
       "    </tr>\n",
       "    <tr>\n",
       "      <th>7445</th>\n",
       "      <td>Fri_1</td>\n",
       "      <td>dairy</td>\n",
       "      <td>2019-09-06 07:00:00</td>\n",
       "    </tr>\n",
       "    <tr>\n",
       "      <th>29780</th>\n",
       "      <td>Fri_1</td>\n",
       "      <td>spices</td>\n",
       "      <td>2019-09-06 07:04:00</td>\n",
       "    </tr>\n",
       "    <tr>\n",
       "      <th>0</th>\n",
       "      <td>Fri_1</td>\n",
       "      <td>checkout</td>\n",
       "      <td>2019-09-06 07:05:00</td>\n",
       "    </tr>\n",
       "    <tr>\n",
       "      <th>44670</th>\n",
       "      <td>Fri_1</td>\n",
       "      <td>exit</td>\n",
       "      <td>2019-09-06 07:06:00</td>\n",
       "    </tr>\n",
       "    <tr>\n",
       "      <th>...</th>\n",
       "      <td>...</td>\n",
       "      <td>...</td>\n",
       "      <td>...</td>\n",
       "    </tr>\n",
       "    <tr>\n",
       "      <th>52113</th>\n",
       "      <td>Wed_998</td>\n",
       "      <td>exit</td>\n",
       "      <td>2019-09-04 17:00:00</td>\n",
       "    </tr>\n",
       "    <tr>\n",
       "      <th>44669</th>\n",
       "      <td>Wed_999</td>\n",
       "      <td>entrance</td>\n",
       "      <td>2019-09-04 16:52:00</td>\n",
       "    </tr>\n",
       "    <tr>\n",
       "      <th>29779</th>\n",
       "      <td>Wed_999</td>\n",
       "      <td>fruit</td>\n",
       "      <td>2019-09-04 16:53:00</td>\n",
       "    </tr>\n",
       "    <tr>\n",
       "      <th>7444</th>\n",
       "      <td>Wed_999</td>\n",
       "      <td>checkout</td>\n",
       "      <td>2019-09-04 16:54:00</td>\n",
       "    </tr>\n",
       "    <tr>\n",
       "      <th>52114</th>\n",
       "      <td>Wed_999</td>\n",
       "      <td>exit</td>\n",
       "      <td>2019-09-04 16:55:00</td>\n",
       "    </tr>\n",
       "  </tbody>\n",
       "</table>\n",
       "<p>36589 rows × 3 columns</p>\n",
       "</div>"
      ],
      "text/plain": [
       "      customer_no  location           timestamp\n",
       "37225       Fri_1  entrance 2019-09-06 06:59:00\n",
       "7445        Fri_1     dairy 2019-09-06 07:00:00\n",
       "29780       Fri_1    spices 2019-09-06 07:04:00\n",
       "0           Fri_1  checkout 2019-09-06 07:05:00\n",
       "44670       Fri_1      exit 2019-09-06 07:06:00\n",
       "...           ...       ...                 ...\n",
       "52113     Wed_998      exit 2019-09-04 17:00:00\n",
       "44669     Wed_999  entrance 2019-09-04 16:52:00\n",
       "29779     Wed_999     fruit 2019-09-04 16:53:00\n",
       "7444      Wed_999  checkout 2019-09-04 16:54:00\n",
       "52114     Wed_999      exit 2019-09-04 16:55:00\n",
       "\n",
       "[36589 rows x 3 columns]"
      ]
     },
     "execution_count": 20,
     "metadata": {},
     "output_type": "execute_result"
    }
   ],
   "source": [
    "customer_flow"
   ]
  },
  {
   "cell_type": "markdown",
   "id": "15daefe2",
   "metadata": {},
   "source": [
    "# Shift location one step"
   ]
  },
  {
   "cell_type": "code",
   "execution_count": 21,
   "id": "80498c0c",
   "metadata": {},
   "outputs": [],
   "source": [
    "customer_transitions = customer_flow.sort_values(by=['customer_no', 'timestamp'])"
   ]
  },
  {
   "cell_type": "code",
   "execution_count": 22,
   "id": "8d2ee093",
   "metadata": {},
   "outputs": [],
   "source": [
    "customer_transitions = customer_transitions[['customer_no', 'location']]"
   ]
  },
  {
   "cell_type": "code",
   "execution_count": 23,
   "id": "89cca832",
   "metadata": {},
   "outputs": [],
   "source": [
    "customer_transitions['location+1'] = customer_transitions.groupby('customer_no')['location'].shift(-1)"
   ]
  },
  {
   "cell_type": "code",
   "execution_count": 24,
   "id": "f6934421",
   "metadata": {},
   "outputs": [
    {
     "data": {
      "text/html": [
       "<div>\n",
       "<style scoped>\n",
       "    .dataframe tbody tr th:only-of-type {\n",
       "        vertical-align: middle;\n",
       "    }\n",
       "\n",
       "    .dataframe tbody tr th {\n",
       "        vertical-align: top;\n",
       "    }\n",
       "\n",
       "    .dataframe thead th {\n",
       "        text-align: right;\n",
       "    }\n",
       "</style>\n",
       "<table border=\"1\" class=\"dataframe\">\n",
       "  <thead>\n",
       "    <tr style=\"text-align: right;\">\n",
       "      <th></th>\n",
       "      <th>customer_no</th>\n",
       "      <th>location</th>\n",
       "      <th>location+1</th>\n",
       "    </tr>\n",
       "  </thead>\n",
       "  <tbody>\n",
       "    <tr>\n",
       "      <th>37225</th>\n",
       "      <td>Fri_1</td>\n",
       "      <td>entrance</td>\n",
       "      <td>dairy</td>\n",
       "    </tr>\n",
       "    <tr>\n",
       "      <th>7445</th>\n",
       "      <td>Fri_1</td>\n",
       "      <td>dairy</td>\n",
       "      <td>spices</td>\n",
       "    </tr>\n",
       "    <tr>\n",
       "      <th>29780</th>\n",
       "      <td>Fri_1</td>\n",
       "      <td>spices</td>\n",
       "      <td>checkout</td>\n",
       "    </tr>\n",
       "    <tr>\n",
       "      <th>0</th>\n",
       "      <td>Fri_1</td>\n",
       "      <td>checkout</td>\n",
       "      <td>exit</td>\n",
       "    </tr>\n",
       "    <tr>\n",
       "      <th>44670</th>\n",
       "      <td>Fri_1</td>\n",
       "      <td>exit</td>\n",
       "      <td>NaN</td>\n",
       "    </tr>\n",
       "    <tr>\n",
       "      <th>...</th>\n",
       "      <td>...</td>\n",
       "      <td>...</td>\n",
       "      <td>...</td>\n",
       "    </tr>\n",
       "    <tr>\n",
       "      <th>52113</th>\n",
       "      <td>Wed_998</td>\n",
       "      <td>exit</td>\n",
       "      <td>NaN</td>\n",
       "    </tr>\n",
       "    <tr>\n",
       "      <th>44669</th>\n",
       "      <td>Wed_999</td>\n",
       "      <td>entrance</td>\n",
       "      <td>fruit</td>\n",
       "    </tr>\n",
       "    <tr>\n",
       "      <th>29779</th>\n",
       "      <td>Wed_999</td>\n",
       "      <td>fruit</td>\n",
       "      <td>checkout</td>\n",
       "    </tr>\n",
       "    <tr>\n",
       "      <th>7444</th>\n",
       "      <td>Wed_999</td>\n",
       "      <td>checkout</td>\n",
       "      <td>exit</td>\n",
       "    </tr>\n",
       "    <tr>\n",
       "      <th>52114</th>\n",
       "      <td>Wed_999</td>\n",
       "      <td>exit</td>\n",
       "      <td>NaN</td>\n",
       "    </tr>\n",
       "  </tbody>\n",
       "</table>\n",
       "<p>36589 rows × 3 columns</p>\n",
       "</div>"
      ],
      "text/plain": [
       "      customer_no  location location+1\n",
       "37225       Fri_1  entrance      dairy\n",
       "7445        Fri_1     dairy     spices\n",
       "29780       Fri_1    spices   checkout\n",
       "0           Fri_1  checkout       exit\n",
       "44670       Fri_1      exit        NaN\n",
       "...           ...       ...        ...\n",
       "52113     Wed_998      exit        NaN\n",
       "44669     Wed_999  entrance      fruit\n",
       "29779     Wed_999     fruit   checkout\n",
       "7444      Wed_999  checkout       exit\n",
       "52114     Wed_999      exit        NaN\n",
       "\n",
       "[36589 rows x 3 columns]"
      ]
     },
     "execution_count": 24,
     "metadata": {},
     "output_type": "execute_result"
    }
   ],
   "source": [
    "customer_transitions"
   ]
  },
  {
   "cell_type": "markdown",
   "id": "4f9c0bb1",
   "metadata": {},
   "source": [
    "# Create Probabilities table"
   ]
  },
  {
   "cell_type": "code",
   "execution_count": 25,
   "id": "1c949463",
   "metadata": {},
   "outputs": [
    {
     "data": {
      "text/plain": [
       "37225    entrance\n",
       "7445        dairy\n",
       "29780      spices\n",
       "0        checkout\n",
       "44670        exit\n",
       "           ...   \n",
       "52113        exit\n",
       "44669    entrance\n",
       "29779       fruit\n",
       "7444     checkout\n",
       "52114        exit\n",
       "Name: location, Length: 36589, dtype: object"
      ]
     },
     "execution_count": 25,
     "metadata": {},
     "output_type": "execute_result"
    }
   ],
   "source": [
    "customer_transitions['location']"
   ]
  },
  {
   "cell_type": "code",
   "execution_count": 26,
   "id": "e5659c37",
   "metadata": {},
   "outputs": [],
   "source": [
    "probabilites = pd.crosstab(customer_transitions['location'], customer_transitions['location+1'], normalize=0)"
   ]
  },
  {
   "cell_type": "code",
   "execution_count": 27,
   "id": "c2c77f6c",
   "metadata": {},
   "outputs": [],
   "source": [
    "STATES = probabilites.columns.tolist()"
   ]
  },
  {
   "cell_type": "code",
   "execution_count": 28,
   "id": "963084d4",
   "metadata": {},
   "outputs": [
    {
     "data": {
      "text/html": [
       "<div>\n",
       "<style scoped>\n",
       "    .dataframe tbody tr th:only-of-type {\n",
       "        vertical-align: middle;\n",
       "    }\n",
       "\n",
       "    .dataframe tbody tr th {\n",
       "        vertical-align: top;\n",
       "    }\n",
       "\n",
       "    .dataframe thead th {\n",
       "        text-align: right;\n",
       "    }\n",
       "</style>\n",
       "<table border=\"1\" class=\"dataframe\">\n",
       "  <thead>\n",
       "    <tr style=\"text-align: right;\">\n",
       "      <th>location+1</th>\n",
       "      <th>checkout</th>\n",
       "      <th>dairy</th>\n",
       "      <th>drinks</th>\n",
       "      <th>exit</th>\n",
       "      <th>fruit</th>\n",
       "      <th>spices</th>\n",
       "    </tr>\n",
       "    <tr>\n",
       "      <th>location</th>\n",
       "      <th></th>\n",
       "      <th></th>\n",
       "      <th></th>\n",
       "      <th></th>\n",
       "      <th></th>\n",
       "      <th></th>\n",
       "    </tr>\n",
       "  </thead>\n",
       "  <tbody>\n",
       "    <tr>\n",
       "      <th>checkout</th>\n",
       "      <td>0.000000</td>\n",
       "      <td>0.000000</td>\n",
       "      <td>0.000000</td>\n",
       "      <td>1.0</td>\n",
       "      <td>0.000000</td>\n",
       "      <td>0.000000</td>\n",
       "    </tr>\n",
       "    <tr>\n",
       "      <th>dairy</th>\n",
       "      <td>0.452069</td>\n",
       "      <td>0.000000</td>\n",
       "      <td>0.202200</td>\n",
       "      <td>0.0</td>\n",
       "      <td>0.174175</td>\n",
       "      <td>0.171556</td>\n",
       "    </tr>\n",
       "    <tr>\n",
       "      <th>drinks</th>\n",
       "      <td>0.625078</td>\n",
       "      <td>0.054449</td>\n",
       "      <td>0.000000</td>\n",
       "      <td>0.0</td>\n",
       "      <td>0.165215</td>\n",
       "      <td>0.155258</td>\n",
       "    </tr>\n",
       "    <tr>\n",
       "      <th>entrance</th>\n",
       "      <td>0.000000</td>\n",
       "      <td>0.305440</td>\n",
       "      <td>0.164540</td>\n",
       "      <td>0.0</td>\n",
       "      <td>0.357018</td>\n",
       "      <td>0.173002</td>\n",
       "    </tr>\n",
       "    <tr>\n",
       "      <th>fruit</th>\n",
       "      <td>0.587302</td>\n",
       "      <td>0.173669</td>\n",
       "      <td>0.123249</td>\n",
       "      <td>0.0</td>\n",
       "      <td>0.000000</td>\n",
       "      <td>0.115780</td>\n",
       "    </tr>\n",
       "    <tr>\n",
       "      <th>spices</th>\n",
       "      <td>0.406399</td>\n",
       "      <td>0.212730</td>\n",
       "      <td>0.234513</td>\n",
       "      <td>0.0</td>\n",
       "      <td>0.146358</td>\n",
       "      <td>0.000000</td>\n",
       "    </tr>\n",
       "  </tbody>\n",
       "</table>\n",
       "</div>"
      ],
      "text/plain": [
       "location+1  checkout     dairy    drinks  exit     fruit    spices\n",
       "location                                                          \n",
       "checkout    0.000000  0.000000  0.000000   1.0  0.000000  0.000000\n",
       "dairy       0.452069  0.000000  0.202200   0.0  0.174175  0.171556\n",
       "drinks      0.625078  0.054449  0.000000   0.0  0.165215  0.155258\n",
       "entrance    0.000000  0.305440  0.164540   0.0  0.357018  0.173002\n",
       "fruit       0.587302  0.173669  0.123249   0.0  0.000000  0.115780\n",
       "spices      0.406399  0.212730  0.234513   0.0  0.146358  0.000000"
      ]
     },
     "execution_count": 28,
     "metadata": {},
     "output_type": "execute_result"
    }
   ],
   "source": [
    "probabilites"
   ]
  },
  {
   "cell_type": "markdown",
   "id": "ec03419e",
   "metadata": {},
   "source": [
    "# Predict states"
   ]
  },
  {
   "cell_type": "code",
   "execution_count": null,
   "id": "70138882",
   "metadata": {},
   "outputs": [],
   "source": []
  },
  {
   "cell_type": "code",
   "execution_count": 29,
   "id": "f5ed4ac3",
   "metadata": {},
   "outputs": [
    {
     "data": {
      "text/plain": [
       "['entrance', 'dairy', 'spices', 'checkout', 'exit', 'fruit', 'drinks']"
      ]
     },
     "execution_count": 29,
     "metadata": {},
     "output_type": "execute_result"
    }
   ],
   "source": [
    "location_states = list(customer_transitions.location.unique())\n",
    "location_states"
   ]
  },
  {
   "cell_type": "markdown",
   "id": "edc25b16",
   "metadata": {},
   "source": [
    "# Global Variables"
   ]
  },
  {
   "cell_type": "markdown",
   "id": "010c21ab",
   "metadata": {},
   "source": [
    "#### Store traffic by hour"
   ]
  },
  {
   "cell_type": "code",
   "execution_count": 30,
   "id": "ba730639",
   "metadata": {},
   "outputs": [],
   "source": [
    "TIMESTAMPS = customer_flow.timestamp.dt.hour.values.tolist()\n",
    "TIMESTAMPS_totals = Counter(TIMESTAMPS)"
   ]
  },
  {
   "cell_type": "markdown",
   "id": "81cb008c",
   "metadata": {},
   "source": [
    "#### Store traffic by section"
   ]
  },
  {
   "cell_type": "code",
   "execution_count": 31,
   "id": "4ccc8bc9",
   "metadata": {},
   "outputs": [],
   "source": [
    "visited = customer_flow.location.values.tolist()\n",
    "visited_totals = Counter(visited)"
   ]
  },
  {
   "cell_type": "markdown",
   "id": "00097118",
   "metadata": {},
   "source": [
    "#### States"
   ]
  },
  {
   "cell_type": "code",
   "execution_count": 32,
   "id": "9521b9f7",
   "metadata": {},
   "outputs": [],
   "source": [
    "STATES = probabilites.columns.tolist()"
   ]
  },
  {
   "cell_type": "code",
   "execution_count": 33,
   "id": "90b58af9",
   "metadata": {},
   "outputs": [
    {
     "data": {
      "text/plain": [
       "['checkout', 'dairy', 'drinks', 'exit', 'fruit', 'spices']"
      ]
     },
     "execution_count": 33,
     "metadata": {},
     "output_type": "execute_result"
    }
   ],
   "source": [
    "STATES"
   ]
  },
  {
   "cell_type": "markdown",
   "id": "093cc253",
   "metadata": {},
   "source": [
    "#### Probabilities"
   ]
  },
  {
   "cell_type": "code",
   "execution_count": 34,
   "id": "7c49542e",
   "metadata": {},
   "outputs": [],
   "source": [
    "PROBABILITIES = probabilites.T.to_dict(orient='list')"
   ]
  },
  {
   "cell_type": "code",
   "execution_count": 35,
   "id": "7ac2be96",
   "metadata": {
    "collapsed": true
   },
   "outputs": [
    {
     "data": {
      "text/plain": [
       "{'checkout': [0.0, 0.0, 0.0, 1.0, 0.0, 0.0],\n",
       " 'dairy': [0.45206914614981664,\n",
       "  0.0,\n",
       "  0.20220010476689365,\n",
       "  0.0,\n",
       "  0.17417496071241487,\n",
       "  0.1715557883708748],\n",
       " 'drinks': [0.6250777846919726,\n",
       "  0.05444928438083385,\n",
       "  0.0,\n",
       "  0.0,\n",
       "  0.16521468574984444,\n",
       "  0.1552582451773491],\n",
       " 'entrance': [0.0,\n",
       "  0.30543989254533244,\n",
       "  0.16453995970449967,\n",
       "  0.0,\n",
       "  0.3570181329751511,\n",
       "  0.17300201477501678],\n",
       " 'fruit': [0.5873015873015873,\n",
       "  0.17366946778711484,\n",
       "  0.12324929971988796,\n",
       "  0.0,\n",
       "  0.0,\n",
       "  0.1157796451914099],\n",
       " 'spices': [0.40639891082368956,\n",
       "  0.2127297481279782,\n",
       "  0.2345132743362832,\n",
       "  0.0,\n",
       "  0.146358066712049,\n",
       "  0.0]}"
      ]
     },
     "execution_count": 35,
     "metadata": {},
     "output_type": "execute_result"
    }
   ],
   "source": [
    "PROBABILITIES"
   ]
  },
  {
   "cell_type": "markdown",
   "id": "b0e96795",
   "metadata": {},
   "source": [
    "#### Current Time"
   ]
  },
  {
   "cell_type": "code",
   "execution_count": 36,
   "id": "736839d4",
   "metadata": {},
   "outputs": [],
   "source": [
    "now = dt.datetime.now()\n",
    "current_time = now.strftime(\"%H:%M:%S\")"
   ]
  },
  {
   "cell_type": "markdown",
   "id": "694e7dd7",
   "metadata": {},
   "source": [
    "# Create Store and Customer Class"
   ]
  },
  {
   "cell_type": "code",
   "execution_count": 73,
   "id": "cdf74862",
   "metadata": {},
   "outputs": [],
   "source": [
    "class Store():\n",
    "    def __init__(self, name, sections=STATES, times=TIMESTAMPS_totals):\n",
    "        self.name = name\n",
    "        self.sections = sections\n",
    "        \n",
    "        #customer class for active customers and inactive customers\n",
    "        self.active_customers = []\n",
    "        self.visited_customers = []\n",
    "        \n",
    "        #Simulation visitation metrics\n",
    "        self.times = times\n",
    "        self.time_totals = []\n",
    "        self.section_data = []\n",
    "        \n",
    "        #To output information\n",
    "        self.to_print = []\n",
    "        \n",
    "    def add_customer(self, customer):\n",
    "        \"\"\"\n",
    "        Adds customer class instance to list of customers in the store.\n",
    "        \n",
    "        Returns\n",
    "        _______\n",
    "        \n",
    "        string telling name, state and time \n",
    "        \"\"\"\n",
    "        \n",
    "        now = dt.datetime.now()\n",
    "        current_time = now.strftime(\"%H:%M:%S\")\n",
    "                \n",
    "        self.active_customers.append(customer)\n",
    "        print(f'{customer.name} is at {self.name.title()} {customer.state} at {current_time}')\n",
    "        \n",
    "    def show_sections(self):\n",
    "        \"\"\"\n",
    "        Show all sections of store\n",
    "        \n",
    "        Returns\n",
    "        _______\n",
    "        \n",
    "        list: list of sections in store\n",
    "        \"\"\"\n",
    "        return self.sections\n",
    "   \n",
    "\n",
    "    def simulate_flow(self):\n",
    "        \"\"\"\n",
    "        Simulates customer moving through store.\n",
    "        \n",
    "        Returns\n",
    "        _______\n",
    "        \n",
    "        str: customers next state \n",
    "        \"\"\"\n",
    "        now = dt.datetime.now()\n",
    "        current_time = now.strftime(\"%H:%M:%S\")\n",
    "        \n",
    "        \n",
    "        for customer in self.active_customers:\n",
    "            temp_time = []\n",
    "            print(f'\\n####### Moving {customer.name} [customer_id: {customer.cust_id}] through {self.name} #######')\n",
    "            while customer.is_active:\n",
    "                customer.next_state()\n",
    "                if customer.state != 'checkout':\n",
    "                    self.section_data.append(customer.state)\n",
    "\n",
    "                print(f'{customer.cust_id} is now at {customer.state}: Timestamp({current_time})')\n",
    "                \n",
    "                #Append data for output\n",
    "                record = {'customer':customer.cust_id, 'location': customer.state,  'timestamp': current_time}\n",
    "                self.to_print.append(record)\n",
    "                \n",
    "                \n",
    "                timestep = random.randint(1,5)\n",
    "                \n",
    "                now+= dt.timedelta(minutes=timestep)\n",
    "                current_time = now.strftime(\"%H:%M:%S\")\n",
    "                temp_time.append(now)\n",
    "                \n",
    "            self.time_totals.append(temp_time)\n",
    "            \n",
    "            # Cutomer has reached check out, remove from active customers and add to visited list\n",
    "            self.active_customers.remove(customer)\n",
    "            self.visited_customers.append(customer)\n",
    "            print(f'{customer.name} [customer_id: {customer.cust_id}] has just left {self.name}')\n",
    "            \n",
    "    \n",
    "    def show_busiest(self):\n",
    "        \"\"\"\n",
    "        Shows busiest store times\n",
    "        \"\"\"\n",
    "        busiest = self.times.most_common()[0] \n",
    "        return f'{busiest[0]} o\\'clock is the buisiest time of the day with {busiest[1]} total visits'\n",
    "        \n",
    "    def show_slowest(self):\n",
    "        \"\"\"\n",
    "        Shows slowest store times\n",
    "        \"\"\"\n",
    "        slowest = self.times.most_common()[-1]\n",
    "        return f'{slowest[0]} o\\'clock is the buisiest time of the day with {slowest[1]} total visits'\n",
    "        \n",
    "    def most_visited(self):\n",
    "        #show section most visited\n",
    "        self.data = Counter(self.section_data) \n",
    "        self.data = self.data.most_common()[0]\n",
    "        return f'Most Visited Section: {self.data[0].title()} with {self.data[1]} vists'\n",
    "        \n",
    "    def least_visited(self):\n",
    "        #show section least visited\n",
    "        self.data = Counter(self.section_data) \n",
    "        self.data = self.data.most_common()[-1]\n",
    "        return f'Least Visited Section: {self.data[0].title()} with {self.data[1]} vists'\n",
    "    \n",
    "    def customer_time_data(self):\n",
    "        self.total_time = 0\n",
    "        self.total_timesteps = 0\n",
    "        for i in self.time_totals:\n",
    "            time_diff = i[-1] - i[0]\n",
    "            self.total = time_diff.seconds / 60\n",
    "            \n",
    "            self.total_time = self.total_time + self.total\n",
    "            self.total_timesteps = self.total_timesteps + len(i)\n",
    "            \n",
    "        self.avg_time = self.total_time/self.total_timesteps\n",
    "            \n",
    "        print(f'Customers total time in store: {self.total_time} minutes \\\n",
    "        Customers average time in store: {round(self.avg_time, 1)} minutes')\n",
    "        \n",
    "    def save_data(self):\n",
    "        now = dt.datetime.now()\n",
    "        #current_time = now.strftime()\n",
    "        current_time = now.strftime(\"%H_%M_%S\")\n",
    "        filename = f'customers_data_{current_time}'\n",
    "        df = pd.DataFrame(self.to_print)\n",
    "        df.to_csv(filename)\n",
    "        print('CSV Generated')\n",
    "        \n",
    "    "
   ]
  },
  {
   "cell_type": "code",
   "execution_count": 38,
   "id": "1eea6e3f",
   "metadata": {},
   "outputs": [],
   "source": [
    "class Customer():\n",
    "    \n",
    "    def __init__(self, cust_id,name, state='entrance'):\n",
    "        self.name = name\n",
    "        self.cust_id = cust_id\n",
    "        self.state = state\n",
    "        \n",
    "    def next_state(self):\n",
    "        probs = PROBABILITIES[self.state]\n",
    "        self.state = choices(STATES, weights=probs)[0]\n",
    "    \n",
    "    def __repr__(self):\n",
    "        return f'{self.name} (customer_id: {self.cust_id}) at {self.state}'\n",
    "    \n",
    "    @property\n",
    "    def is_active(self):\n",
    "        return self.state != 'checkout'\n",
    "        \n",
    "    "
   ]
  },
  {
   "cell_type": "code",
   "execution_count": 39,
   "id": "0214894d",
   "metadata": {},
   "outputs": [],
   "source": [
    "fake = Faker()"
   ]
  },
  {
   "cell_type": "code",
   "execution_count": 40,
   "id": "0a5d8117",
   "metadata": {},
   "outputs": [],
   "source": [
    "def customer_generator():\n",
    "    random.seed(10)\n",
    "    customer_ids = random.sample(range(10, 5000), 8)\n",
    "    customer_names = [fake.name() for i in range(len(customer_ids))]\n",
    "    \n",
    "    return customer_ids, customer_names"
   ]
  },
  {
   "cell_type": "code",
   "execution_count": 74,
   "id": "5144c7e4",
   "metadata": {},
   "outputs": [
    {
     "name": "stdout",
     "output_type": "stream",
     "text": [
      "Hannah Casey is at Edeka entrance at 15:46:46\n",
      "Austin Baker is at Edeka entrance at 15:46:46\n",
      "Diana Cummings is at Edeka entrance at 15:46:46\n",
      "William Perez is at Edeka entrance at 15:46:46\n",
      "Amanda Hunt is at Edeka entrance at 15:46:46\n",
      "Thomas Melendez is at Edeka entrance at 15:46:46\n",
      "Holly Duarte is at Edeka entrance at 15:46:46\n",
      "Amanda Price is at Edeka entrance at 15:46:46\n",
      "\n",
      "####### Moving Hannah Casey [customer_id: 4690] through Edeka #######\n",
      "4690 is now at fruit: Timestamp(15:46:46)\n",
      "4690 is now at dairy: Timestamp(15:49:46)\n",
      "4690 is now at checkout: Timestamp(15:51:46)\n",
      "Hannah Casey [customer_id: 4690] has just left Edeka\n",
      "\n",
      "####### Moving Diana Cummings [customer_id: 3523] through Edeka #######\n",
      "3523 is now at drinks: Timestamp(15:55:46)\n",
      "3523 is now at spices: Timestamp(15:57:46)\n",
      "3523 is now at checkout: Timestamp(16:00:46)\n",
      "Diana Cummings [customer_id: 3523] has just left Edeka\n",
      "\n",
      "####### Moving Amanda Hunt [customer_id: 4745] through Edeka #######\n",
      "4745 is now at fruit: Timestamp(16:02:46)\n",
      "4745 is now at checkout: Timestamp(16:06:46)\n",
      "Amanda Hunt [customer_id: 4745] has just left Edeka\n",
      "\n",
      "####### Moving Holly Duarte [customer_id: 1698] through Edeka #######\n",
      "1698 is now at drinks: Timestamp(16:09:46)\n",
      "1698 is now at dairy: Timestamp(16:12:46)\n",
      "1698 is now at drinks: Timestamp(16:14:46)\n",
      "1698 is now at spices: Timestamp(16:16:46)\n",
      "1698 is now at checkout: Timestamp(16:21:46)\n",
      "Holly Duarte [customer_id: 1698] has just left Edeka\n",
      "\n",
      "####### Moving Austin Baker [customer_id: 276] through Edeka #######\n",
      "276 is now at dairy: Timestamp(15:46:48)\n",
      "276 is now at checkout: Timestamp(15:48:48)\n",
      "Austin Baker [customer_id: 276] has just left Edeka\n",
      "\n",
      "####### Moving Thomas Melendez [customer_id: 131] through Edeka #######\n",
      "131 is now at fruit: Timestamp(15:51:48)\n",
      "131 is now at checkout: Timestamp(15:53:48)\n",
      "Thomas Melendez [customer_id: 131] has just left Edeka\n",
      "\n",
      "####### Moving William Perez [customer_id: 3963] through Edeka #######\n",
      "3963 is now at drinks: Timestamp(15:46:50)\n",
      "3963 is now at checkout: Timestamp(15:50:50)\n",
      "William Perez [customer_id: 3963] has just left Edeka\n",
      "\n",
      "####### Moving Amanda Price [customer_id: 3799] through Edeka #######\n",
      "3799 is now at drinks: Timestamp(15:46:52)\n",
      "3799 is now at checkout: Timestamp(15:51:52)\n",
      "Amanda Price [customer_id: 3799] has just left Edeka\n",
      "\n",
      "There are no more customers currently in Edeka\n"
     ]
    }
   ],
   "source": [
    "if __name__ == '__main__':\n",
    "    \n",
    "    edeka = Store('Edeka')\n",
    "    \n",
    "    customer_ids, customer_names = customer_generator()\n",
    "    for i in range(len(customer_ids)):\n",
    "        cust_id = customer_ids[i]\n",
    "        cust_name = customer_names[i]\n",
    "    \n",
    "    \n",
    "        customer = Customer(cust_id, cust_name)\n",
    "        edeka.add_customer(customer)\n",
    "        \n",
    "    \n",
    "\n",
    "    for i in range(len(edeka.active_customers)):\n",
    "        edeka.simulate_flow()\n",
    "        time.sleep(2)\n",
    "        \n",
    "    print(f'\\nThere are no more customers currently in {edeka.name}')\n",
    "    #customer3 = ''\n",
    "    "
   ]
  },
  {
   "cell_type": "markdown",
   "id": "e8db403a",
   "metadata": {},
   "source": [
    "***Note that the follow block shows busiest times based off data\n",
    "imported from the data used to get the MCMC probabilites data***"
   ]
  },
  {
   "cell_type": "code",
   "execution_count": null,
   "id": "874e670b",
   "metadata": {},
   "outputs": [],
   "source": [
    "shop.show_busiest()"
   ]
  },
  {
   "cell_type": "code",
   "execution_count": 69,
   "id": "82a28dd2",
   "metadata": {},
   "outputs": [
    {
     "data": {
      "text/plain": [
       "'Most Visited Section: Drinks with 5 vists'"
      ]
     },
     "execution_count": 69,
     "metadata": {},
     "output_type": "execute_result"
    }
   ],
   "source": [
    "edeka.most_visited()"
   ]
  },
  {
   "cell_type": "code",
   "execution_count": 76,
   "id": "2fb045fb",
   "metadata": {},
   "outputs": [
    {
     "data": {
      "text/plain": [
       "'Least Visited Section: Spices with 2 vists'"
      ]
     },
     "execution_count": 76,
     "metadata": {},
     "output_type": "execute_result"
    }
   ],
   "source": [
    "edeka.least_visited()"
   ]
  },
  {
   "cell_type": "code",
   "execution_count": 75,
   "id": "1884098b",
   "metadata": {},
   "outputs": [
    {
     "name": "stdout",
     "output_type": "stream",
     "text": [
      "Customers total time in store: 43.0 minutes         Customers average time in store: 2.0 minutes\n"
     ]
    }
   ],
   "source": [
    "edeka.customer_time_data()"
   ]
  },
  {
   "cell_type": "code",
   "execution_count": 77,
   "id": "a0966c34",
   "metadata": {},
   "outputs": [
    {
     "name": "stdout",
     "output_type": "stream",
     "text": [
      "CSV Generated\n"
     ]
    }
   ],
   "source": [
    "edeka.save_data()"
   ]
  },
  {
   "cell_type": "code",
   "execution_count": null,
   "id": "5ca5f5a5",
   "metadata": {},
   "outputs": [],
   "source": []
  }
 ],
 "metadata": {
  "kernelspec": {
   "display_name": "Python 3 (ipykernel)",
   "language": "python",
   "name": "python3"
  },
  "language_info": {
   "codemirror_mode": {
    "name": "ipython",
    "version": 3
   },
   "file_extension": ".py",
   "mimetype": "text/x-python",
   "name": "python",
   "nbconvert_exporter": "python",
   "pygments_lexer": "ipython3",
   "version": "3.9.7"
  }
 },
 "nbformat": 4,
 "nbformat_minor": 5
}

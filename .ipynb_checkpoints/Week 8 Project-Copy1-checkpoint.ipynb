{
 "cells": [
  {
   "cell_type": "code",
   "execution_count": 1,
   "id": "a9bac27b",
   "metadata": {},
   "outputs": [],
   "source": [
    "import pandas as pd\n",
    "import seaborn as sns\n",
    "import numpy as np\n",
    "import matplotlib.pyplot as plt\n",
    "import os\n",
    "import datetime as dt"
   ]
  },
  {
   "cell_type": "code",
   "execution_count": 2,
   "id": "4daf8808",
   "metadata": {},
   "outputs": [],
   "source": [
    "files = os.listdir(path='data')"
   ]
  },
  {
   "cell_type": "code",
   "execution_count": 3,
   "id": "ad0da84f",
   "metadata": {},
   "outputs": [],
   "source": [
    "def read_files(files, datapath='data/', delimiter = ';'):\n",
    "        df_temp = []\n",
    "\n",
    "        if type(files) == list:\n",
    "            for i in files:\n",
    "                df = pd.read_csv(datapath+i, delimiter=delimiter, parse_dates=True, index_col='timestamp')\n",
    "                day_name = df.index.day_name()[0][:3]\n",
    "                df['customer_no'] = df.customer_no.apply(lambda x: f'{day_name}_{x}')\n",
    "                df_temp.append(df)\n",
    "            df = pd.concat(df_temp)\n",
    "        else:\n",
    "            df = pd.read_csv(files, delimiter=delimiter, parse_dates=True, index_col='timestamp')\n",
    "            day_name = df.index.day_name()[0][:3]\n",
    "            df['customer_no'] = df.customer_no.apply(lambda x: f'{day_name}_{x}')\n",
    "\n",
    "        return df"
   ]
  },
  {
   "cell_type": "code",
   "execution_count": 4,
   "id": "003df293",
   "metadata": {},
   "outputs": [],
   "source": [
    "shop_data = read_files(files)"
   ]
  },
  {
   "cell_type": "markdown",
   "id": "39c6abc1",
   "metadata": {},
   "source": [
    "# Part 1: Data Exploration"
   ]
  },
  {
   "cell_type": "code",
   "execution_count": 11,
   "id": "73238d88",
   "metadata": {},
   "outputs": [],
   "source": [
    "shop_data = shop_data.sort_values(by='timestamp')"
   ]
  },
  {
   "cell_type": "markdown",
   "id": "8a0bfd01",
   "metadata": {},
   "source": [
    "##### Get list of all sections in the store"
   ]
  },
  {
   "cell_type": "code",
   "execution_count": 12,
   "id": "2485091b",
   "metadata": {},
   "outputs": [],
   "source": [
    "store_sections = list(shop_data.location.unique())"
   ]
  },
  {
   "cell_type": "code",
   "execution_count": 32,
   "id": "8a8544c5",
   "metadata": {},
   "outputs": [],
   "source": [
    "shop_data.reset_index(inplace=True)"
   ]
  },
  {
   "cell_type": "code",
   "execution_count": 34,
   "id": "53f981c1",
   "metadata": {},
   "outputs": [],
   "source": []
  },
  {
   "cell_type": "code",
   "execution_count": 51,
   "id": "d5022aca",
   "metadata": {},
   "outputs": [],
   "source": [
    "sort_customer = shop_data.groupby(['customer_no', 'location'])['timestamp'].agg(['min']).sort_values(by=['customer_no','min'])"
   ]
  },
  {
   "cell_type": "code",
   "execution_count": 65,
   "id": "84778520",
   "metadata": {},
   "outputs": [
    {
     "data": {
      "text/html": [
       "<div>\n",
       "<style scoped>\n",
       "    .dataframe tbody tr th:only-of-type {\n",
       "        vertical-align: middle;\n",
       "    }\n",
       "\n",
       "    .dataframe tbody tr th {\n",
       "        vertical-align: top;\n",
       "    }\n",
       "\n",
       "    .dataframe thead th {\n",
       "        text-align: right;\n",
       "    }\n",
       "</style>\n",
       "<table border=\"1\" class=\"dataframe\">\n",
       "  <thead>\n",
       "    <tr style=\"text-align: right;\">\n",
       "      <th></th>\n",
       "      <th></th>\n",
       "      <th>min</th>\n",
       "    </tr>\n",
       "    <tr>\n",
       "      <th>customer_no</th>\n",
       "      <th>location</th>\n",
       "      <th></th>\n",
       "    </tr>\n",
       "  </thead>\n",
       "  <tbody>\n",
       "    <tr>\n",
       "      <th rowspan=\"3\" valign=\"top\">Fri_1</th>\n",
       "      <th>dairy</th>\n",
       "      <td>2019-09-06 07:00:00</td>\n",
       "    </tr>\n",
       "    <tr>\n",
       "      <th>spices</th>\n",
       "      <td>2019-09-06 07:04:00</td>\n",
       "    </tr>\n",
       "    <tr>\n",
       "      <th>checkout</th>\n",
       "      <td>2019-09-06 07:05:00</td>\n",
       "    </tr>\n",
       "    <tr>\n",
       "      <th rowspan=\"2\" valign=\"top\">Fri_10</th>\n",
       "      <th>fruit</th>\n",
       "      <td>2019-09-06 07:06:00</td>\n",
       "    </tr>\n",
       "    <tr>\n",
       "      <th>checkout</th>\n",
       "      <td>2019-09-06 07:11:00</td>\n",
       "    </tr>\n",
       "    <tr>\n",
       "      <th>...</th>\n",
       "      <th>...</th>\n",
       "      <td>...</td>\n",
       "    </tr>\n",
       "    <tr>\n",
       "      <th rowspan=\"3\" valign=\"top\">Wed_998</th>\n",
       "      <th>dairy</th>\n",
       "      <td>2019-09-04 16:53:00</td>\n",
       "    </tr>\n",
       "    <tr>\n",
       "      <th>fruit</th>\n",
       "      <td>2019-09-04 16:57:00</td>\n",
       "    </tr>\n",
       "    <tr>\n",
       "      <th>checkout</th>\n",
       "      <td>2019-09-04 16:59:00</td>\n",
       "    </tr>\n",
       "    <tr>\n",
       "      <th rowspan=\"2\" valign=\"top\">Wed_999</th>\n",
       "      <th>fruit</th>\n",
       "      <td>2019-09-04 16:53:00</td>\n",
       "    </tr>\n",
       "    <tr>\n",
       "      <th>checkout</th>\n",
       "      <td>2019-09-04 16:54:00</td>\n",
       "    </tr>\n",
       "  </tbody>\n",
       "</table>\n",
       "<p>21671 rows × 1 columns</p>\n",
       "</div>"
      ],
      "text/plain": [
       "                                     min\n",
       "customer_no location                    \n",
       "Fri_1       dairy    2019-09-06 07:00:00\n",
       "            spices   2019-09-06 07:04:00\n",
       "            checkout 2019-09-06 07:05:00\n",
       "Fri_10      fruit    2019-09-06 07:06:00\n",
       "            checkout 2019-09-06 07:11:00\n",
       "...                                  ...\n",
       "Wed_998     dairy    2019-09-04 16:53:00\n",
       "            fruit    2019-09-04 16:57:00\n",
       "            checkout 2019-09-04 16:59:00\n",
       "Wed_999     fruit    2019-09-04 16:53:00\n",
       "            checkout 2019-09-04 16:54:00\n",
       "\n",
       "[21671 rows x 1 columns]"
      ]
     },
     "execution_count": 65,
     "metadata": {},
     "output_type": "execute_result"
    }
   ],
   "source": [
    "sort_customer"
   ]
  },
  {
   "cell_type": "code",
   "execution_count": 61,
   "id": "a47db640",
   "metadata": {},
   "outputs": [
    {
     "ename": "NotImplementedError",
     "evalue": "initializing a Series from a MultiIndex is not supported",
     "output_type": "error",
     "traceback": [
      "\u001b[1;31m---------------------------------------------------------------------------\u001b[0m",
      "\u001b[1;31mNotImplementedError\u001b[0m                       Traceback (most recent call last)",
      "\u001b[1;32m~\\AppData\\Local\\Temp/ipykernel_31088/2693175939.py\u001b[0m in \u001b[0;36m<module>\u001b[1;34m\u001b[0m\n\u001b[1;32m----> 1\u001b[1;33m \u001b[0msort_customer\u001b[0m\u001b[1;33m.\u001b[0m\u001b[0mpivot\u001b[0m\u001b[1;33m(\u001b[0m\u001b[0mcolumns\u001b[0m\u001b[1;33m=\u001b[0m\u001b[1;33m[\u001b[0m\u001b[1;34m'location'\u001b[0m\u001b[1;33m]\u001b[0m\u001b[1;33m,\u001b[0m \u001b[0mvalues\u001b[0m\u001b[1;33m=\u001b[0m\u001b[1;34m'min'\u001b[0m\u001b[1;33m)\u001b[0m\u001b[1;33m\u001b[0m\u001b[1;33m\u001b[0m\u001b[0m\n\u001b[0m",
      "\u001b[1;32m~\\anaconda3\\lib\\site-packages\\pandas\\core\\frame.py\u001b[0m in \u001b[0;36mpivot\u001b[1;34m(self, index, columns, values)\u001b[0m\n\u001b[0;32m   7791\u001b[0m         \u001b[1;32mfrom\u001b[0m \u001b[0mpandas\u001b[0m\u001b[1;33m.\u001b[0m\u001b[0mcore\u001b[0m\u001b[1;33m.\u001b[0m\u001b[0mreshape\u001b[0m\u001b[1;33m.\u001b[0m\u001b[0mpivot\u001b[0m \u001b[1;32mimport\u001b[0m \u001b[0mpivot\u001b[0m\u001b[1;33m\u001b[0m\u001b[1;33m\u001b[0m\u001b[0m\n\u001b[0;32m   7792\u001b[0m \u001b[1;33m\u001b[0m\u001b[0m\n\u001b[1;32m-> 7793\u001b[1;33m         \u001b[1;32mreturn\u001b[0m \u001b[0mpivot\u001b[0m\u001b[1;33m(\u001b[0m\u001b[0mself\u001b[0m\u001b[1;33m,\u001b[0m \u001b[0mindex\u001b[0m\u001b[1;33m=\u001b[0m\u001b[0mindex\u001b[0m\u001b[1;33m,\u001b[0m \u001b[0mcolumns\u001b[0m\u001b[1;33m=\u001b[0m\u001b[0mcolumns\u001b[0m\u001b[1;33m,\u001b[0m \u001b[0mvalues\u001b[0m\u001b[1;33m=\u001b[0m\u001b[0mvalues\u001b[0m\u001b[1;33m)\u001b[0m\u001b[1;33m\u001b[0m\u001b[1;33m\u001b[0m\u001b[0m\n\u001b[0m\u001b[0;32m   7794\u001b[0m \u001b[1;33m\u001b[0m\u001b[0m\n\u001b[0;32m   7795\u001b[0m     _shared_docs[\n",
      "\u001b[1;32m~\\anaconda3\\lib\\site-packages\\pandas\\core\\reshape\\pivot.py\u001b[0m in \u001b[0;36mpivot\u001b[1;34m(data, index, columns, values)\u001b[0m\n\u001b[0;32m    499\u001b[0m     \u001b[1;32melse\u001b[0m\u001b[1;33m:\u001b[0m\u001b[1;33m\u001b[0m\u001b[1;33m\u001b[0m\u001b[0m\n\u001b[0;32m    500\u001b[0m         \u001b[1;32mif\u001b[0m \u001b[0mindex\u001b[0m \u001b[1;32mis\u001b[0m \u001b[1;32mNone\u001b[0m\u001b[1;33m:\u001b[0m\u001b[1;33m\u001b[0m\u001b[1;33m\u001b[0m\u001b[0m\n\u001b[1;32m--> 501\u001b[1;33m             \u001b[0mindex_list\u001b[0m \u001b[1;33m=\u001b[0m \u001b[1;33m[\u001b[0m\u001b[0mSeries\u001b[0m\u001b[1;33m(\u001b[0m\u001b[0mdata\u001b[0m\u001b[1;33m.\u001b[0m\u001b[0mindex\u001b[0m\u001b[1;33m,\u001b[0m \u001b[0mname\u001b[0m\u001b[1;33m=\u001b[0m\u001b[0mdata\u001b[0m\u001b[1;33m.\u001b[0m\u001b[0mindex\u001b[0m\u001b[1;33m.\u001b[0m\u001b[0mname\u001b[0m\u001b[1;33m)\u001b[0m\u001b[1;33m]\u001b[0m\u001b[1;33m\u001b[0m\u001b[1;33m\u001b[0m\u001b[0m\n\u001b[0m\u001b[0;32m    502\u001b[0m         \u001b[1;32melse\u001b[0m\u001b[1;33m:\u001b[0m\u001b[1;33m\u001b[0m\u001b[1;33m\u001b[0m\u001b[0m\n\u001b[0;32m    503\u001b[0m             \u001b[0mindex_list\u001b[0m \u001b[1;33m=\u001b[0m \u001b[1;33m[\u001b[0m\u001b[0mdata\u001b[0m\u001b[1;33m[\u001b[0m\u001b[0midx\u001b[0m\u001b[1;33m]\u001b[0m \u001b[1;32mfor\u001b[0m \u001b[0midx\u001b[0m \u001b[1;32min\u001b[0m \u001b[0mcom\u001b[0m\u001b[1;33m.\u001b[0m\u001b[0mconvert_to_list_like\u001b[0m\u001b[1;33m(\u001b[0m\u001b[0mindex\u001b[0m\u001b[1;33m)\u001b[0m\u001b[1;33m]\u001b[0m\u001b[1;33m\u001b[0m\u001b[1;33m\u001b[0m\u001b[0m\n",
      "\u001b[1;32m~\\anaconda3\\lib\\site-packages\\pandas\\core\\series.py\u001b[0m in \u001b[0;36m__init__\u001b[1;34m(self, data, index, dtype, name, copy, fastpath)\u001b[0m\n\u001b[0;32m    374\u001b[0m \u001b[1;33m\u001b[0m\u001b[0m\n\u001b[0;32m    375\u001b[0m             \u001b[1;32mif\u001b[0m \u001b[0misinstance\u001b[0m\u001b[1;33m(\u001b[0m\u001b[0mdata\u001b[0m\u001b[1;33m,\u001b[0m \u001b[0mMultiIndex\u001b[0m\u001b[1;33m)\u001b[0m\u001b[1;33m:\u001b[0m\u001b[1;33m\u001b[0m\u001b[1;33m\u001b[0m\u001b[0m\n\u001b[1;32m--> 376\u001b[1;33m                 raise NotImplementedError(\n\u001b[0m\u001b[0;32m    377\u001b[0m                     \u001b[1;34m\"initializing a Series from a MultiIndex is not supported\"\u001b[0m\u001b[1;33m\u001b[0m\u001b[1;33m\u001b[0m\u001b[0m\n\u001b[0;32m    378\u001b[0m                 )\n",
      "\u001b[1;31mNotImplementedError\u001b[0m: initializing a Series from a MultiIndex is not supported"
     ]
    }
   ],
   "source": []
  },
  {
   "cell_type": "markdown",
   "id": "85deee91",
   "metadata": {},
   "source": [
    "# Calculate the total number of customers in each section"
   ]
  },
  {
   "cell_type": "code",
   "execution_count": 13,
   "id": "9ca44a93",
   "metadata": {},
   "outputs": [
    {
     "data": {
      "image/png": "[encoded data removed]",
      "text/plain": [
       "<Figure size 432x288 with 1 Axes>"
      ]
     },
     "metadata": {
      "needs_background": "light"
     },
     "output_type": "display_data"
    },
    {
     "name": "stdout",
     "output_type": "stream",
     "text": [
      "----Section Visitation Numbers----\n",
      " The following sections have had 24877 vists between 2019-09-02 and 2019-09-06:\n",
      "\n",
      "Checkout: 7417\n",
      "Dairy: 4679\n",
      "Drinks: 3905\n",
      "Fruit: 5122\n",
      "Spices: 3754\n"
     ]
    }
   ],
   "source": [
    "shop_data.groupby('location')['customer_no'].count().plot(kind='bar')\n",
    "plt.xlabel('Store Sections')\n",
    "plt.ylabel('Total Number of Customers')\n",
    "plt.xticks(rotation=0)\n",
    "plt.show()\n",
    "\n",
    "locations = shop_data.groupby('location')['customer_no'].count().reset_index()\n",
    "total_visits = locations.sum()\n",
    "\n",
    "start_date = shop_data.index.date.min()\n",
    "end_date = shop_data.index.date.max()\n",
    "\n",
    "print(f'----Section Visitation Numbers----\\n \\\n",
    "The following sections have had {total_visits[1]} vists between {start_date} and {end_date}:\\n')\n",
    "for idx, rows in locations.iterrows():\n",
    "    print(f'{rows[0].title()}: {rows[1]}')\n"
   ]
  },
  {
   "cell_type": "code",
   "execution_count": 16,
   "id": "c7492142",
   "metadata": {},
   "outputs": [
    {
     "data": {
      "image/png": "[encoded data removed]",
      "text/plain": [
       "<Figure size 432x288 with 1 Axes>"
      ]
     },
     "metadata": {
      "needs_background": "light"
     },
     "output_type": "display_data"
    },
    {
     "ename": "AttributeError",
     "evalue": "'float' object has no attribute 'reset_index'",
     "output_type": "error",
     "traceback": [
      "\u001b[1;31m---------------------------------------------------------------------------\u001b[0m",
      "\u001b[1;31mAttributeError\u001b[0m                            Traceback (most recent call last)",
      "\u001b[1;32m~\\AppData\\Local\\Temp/ipykernel_31088/3544499062.py\u001b[0m in \u001b[0;36m<module>\u001b[1;34m\u001b[0m\n\u001b[0;32m      5\u001b[0m \u001b[0mplt\u001b[0m\u001b[1;33m.\u001b[0m\u001b[0mshow\u001b[0m\u001b[1;33m(\u001b[0m\u001b[1;33m)\u001b[0m\u001b[1;33m\u001b[0m\u001b[1;33m\u001b[0m\u001b[0m\n\u001b[0;32m      6\u001b[0m \u001b[1;33m\u001b[0m\u001b[0m\n\u001b[1;32m----> 7\u001b[1;33m \u001b[0mlocations\u001b[0m \u001b[1;33m=\u001b[0m \u001b[0mshop_data\u001b[0m\u001b[1;33m.\u001b[0m\u001b[0mgroupby\u001b[0m\u001b[1;33m(\u001b[0m\u001b[1;34m'location'\u001b[0m\u001b[1;33m)\u001b[0m\u001b[1;33m[\u001b[0m\u001b[1;34m'customer_no'\u001b[0m\u001b[1;33m]\u001b[0m\u001b[1;33m.\u001b[0m\u001b[0mcount\u001b[0m\u001b[1;33m(\u001b[0m\u001b[1;33m)\u001b[0m\u001b[1;33m.\u001b[0m\u001b[0mmean\u001b[0m\u001b[1;33m(\u001b[0m\u001b[1;33m)\u001b[0m\u001b[1;33m.\u001b[0m\u001b[0mreset_index\u001b[0m\u001b[1;33m(\u001b[0m\u001b[1;33m)\u001b[0m\u001b[1;33m\u001b[0m\u001b[1;33m\u001b[0m\u001b[0m\n\u001b[0m\u001b[0;32m      8\u001b[0m \u001b[0mtotal_visits\u001b[0m \u001b[1;33m=\u001b[0m \u001b[0mlocations\u001b[0m\u001b[1;33m.\u001b[0m\u001b[0msum\u001b[0m\u001b[1;33m(\u001b[0m\u001b[1;33m)\u001b[0m\u001b[1;33m\u001b[0m\u001b[1;33m\u001b[0m\u001b[0m\n\u001b[0;32m      9\u001b[0m \u001b[1;33m\u001b[0m\u001b[0m\n",
      "\u001b[1;31mAttributeError\u001b[0m: 'float' object has no attribute 'reset_index'"
     ]
    }
   ],
   "source": [
    "shop_data.groupby('location')['customer_no'].count().plot(kind='bar')\n",
    "plt.xlabel('Store Sections')\n",
    "plt.ylabel('Total Number of Customers')\n",
    "plt.xticks(rotation=0)\n",
    "plt.show()\n",
    "\n",
    "locations = shop_data.groupby('location')['customer_no'].count().mean().reset_index()\n",
    "total_visits = locations.sum()\n",
    "\n",
    "start_date = shop_data.index.date.min()\n",
    "end_date = shop_data.index.date.max()\n",
    "\n",
    "print(f'----Section Visitation Numbers----\\n \\\n",
    "The following sections have had and average of {int(total_visits[1])} daily vists between {start_date} and {end_date}:\\n')\n",
    "for idx, rows in locations.iterrows():\n",
    "    print(f'{rows[0].title()}: {int(rows[1])}')"
   ]
  },
  {
   "cell_type": "code",
   "execution_count": 18,
   "id": "e7caa206",
   "metadata": {},
   "outputs": [],
   "source": [
    "day_overtime = shop_data.groupby(['location', shop_data.index.hour])['customer_no'].count().reset_index()"
   ]
  },
  {
   "cell_type": "code",
   "execution_count": 19,
   "id": "625aa52d",
   "metadata": {},
   "outputs": [
    {
     "data": {
      "text/html": [
       "<div>\n",
       "<style scoped>\n",
       "    .dataframe tbody tr th:only-of-type {\n",
       "        vertical-align: middle;\n",
       "    }\n",
       "\n",
       "    .dataframe tbody tr th {\n",
       "        vertical-align: top;\n",
       "    }\n",
       "\n",
       "    .dataframe thead th {\n",
       "        text-align: right;\n",
       "    }\n",
       "</style>\n",
       "<table border=\"1\" class=\"dataframe\">\n",
       "  <thead>\n",
       "    <tr style=\"text-align: right;\">\n",
       "      <th></th>\n",
       "      <th>location</th>\n",
       "      <th>timestamp</th>\n",
       "      <th>customer_no</th>\n",
       "    </tr>\n",
       "  </thead>\n",
       "  <tbody>\n",
       "    <tr>\n",
       "      <th>0</th>\n",
       "      <td>checkout</td>\n",
       "      <td>7</td>\n",
       "      <td>454</td>\n",
       "    </tr>\n",
       "    <tr>\n",
       "      <th>1</th>\n",
       "      <td>checkout</td>\n",
       "      <td>8</td>\n",
       "      <td>677</td>\n",
       "    </tr>\n",
       "    <tr>\n",
       "      <th>2</th>\n",
       "      <td>checkout</td>\n",
       "      <td>9</td>\n",
       "      <td>455</td>\n",
       "    </tr>\n",
       "    <tr>\n",
       "      <th>3</th>\n",
       "      <td>checkout</td>\n",
       "      <td>10</td>\n",
       "      <td>427</td>\n",
       "    </tr>\n",
       "    <tr>\n",
       "      <th>4</th>\n",
       "      <td>checkout</td>\n",
       "      <td>11</td>\n",
       "      <td>342</td>\n",
       "    </tr>\n",
       "    <tr>\n",
       "      <th>...</th>\n",
       "      <td>...</td>\n",
       "      <td>...</td>\n",
       "      <td>...</td>\n",
       "    </tr>\n",
       "    <tr>\n",
       "      <th>70</th>\n",
       "      <td>spices</td>\n",
       "      <td>17</td>\n",
       "      <td>269</td>\n",
       "    </tr>\n",
       "    <tr>\n",
       "      <th>71</th>\n",
       "      <td>spices</td>\n",
       "      <td>18</td>\n",
       "      <td>346</td>\n",
       "    </tr>\n",
       "    <tr>\n",
       "      <th>72</th>\n",
       "      <td>spices</td>\n",
       "      <td>19</td>\n",
       "      <td>389</td>\n",
       "    </tr>\n",
       "    <tr>\n",
       "      <th>73</th>\n",
       "      <td>spices</td>\n",
       "      <td>20</td>\n",
       "      <td>246</td>\n",
       "    </tr>\n",
       "    <tr>\n",
       "      <th>74</th>\n",
       "      <td>spices</td>\n",
       "      <td>21</td>\n",
       "      <td>122</td>\n",
       "    </tr>\n",
       "  </tbody>\n",
       "</table>\n",
       "<p>75 rows × 3 columns</p>\n",
       "</div>"
      ],
      "text/plain": [
       "    location  timestamp  customer_no\n",
       "0   checkout          7          454\n",
       "1   checkout          8          677\n",
       "2   checkout          9          455\n",
       "3   checkout         10          427\n",
       "4   checkout         11          342\n",
       "..       ...        ...          ...\n",
       "70    spices         17          269\n",
       "71    spices         18          346\n",
       "72    spices         19          389\n",
       "73    spices         20          246\n",
       "74    spices         21          122\n",
       "\n",
       "[75 rows x 3 columns]"
      ]
     },
     "execution_count": 19,
     "metadata": {},
     "output_type": "execute_result"
    }
   ],
   "source": [
    "day_overtime"
   ]
  },
  {
   "cell_type": "code",
   "execution_count": 20,
   "id": "0805fc88",
   "metadata": {},
   "outputs": [],
   "source": [
    "sections_overtime = day_overtime.pivot(index='timestamp', columns='location', values='customer_no')"
   ]
  },
  {
   "cell_type": "code",
   "execution_count": 21,
   "id": "31052681",
   "metadata": {},
   "outputs": [
    {
     "data": {
      "text/html": [
       "<div>\n",
       "<style scoped>\n",
       "    .dataframe tbody tr th:only-of-type {\n",
       "        vertical-align: middle;\n",
       "    }\n",
       "\n",
       "    .dataframe tbody tr th {\n",
       "        vertical-align: top;\n",
       "    }\n",
       "\n",
       "    .dataframe thead th {\n",
       "        text-align: right;\n",
       "    }\n",
       "</style>\n",
       "<table border=\"1\" class=\"dataframe\">\n",
       "  <thead>\n",
       "    <tr style=\"text-align: right;\">\n",
       "      <th>location</th>\n",
       "      <th>checkout</th>\n",
       "      <th>dairy</th>\n",
       "      <th>drinks</th>\n",
       "      <th>fruit</th>\n",
       "      <th>spices</th>\n",
       "    </tr>\n",
       "    <tr>\n",
       "      <th>timestamp</th>\n",
       "      <th></th>\n",
       "      <th></th>\n",
       "      <th></th>\n",
       "      <th></th>\n",
       "      <th></th>\n",
       "    </tr>\n",
       "  </thead>\n",
       "  <tbody>\n",
       "    <tr>\n",
       "      <th>7</th>\n",
       "      <td>454</td>\n",
       "      <td>275</td>\n",
       "      <td>278</td>\n",
       "      <td>299</td>\n",
       "      <td>238</td>\n",
       "    </tr>\n",
       "    <tr>\n",
       "      <th>8</th>\n",
       "      <td>677</td>\n",
       "      <td>455</td>\n",
       "      <td>348</td>\n",
       "      <td>468</td>\n",
       "      <td>342</td>\n",
       "    </tr>\n",
       "    <tr>\n",
       "      <th>9</th>\n",
       "      <td>455</td>\n",
       "      <td>291</td>\n",
       "      <td>231</td>\n",
       "      <td>336</td>\n",
       "      <td>207</td>\n",
       "    </tr>\n",
       "    <tr>\n",
       "      <th>10</th>\n",
       "      <td>427</td>\n",
       "      <td>294</td>\n",
       "      <td>198</td>\n",
       "      <td>270</td>\n",
       "      <td>242</td>\n",
       "    </tr>\n",
       "    <tr>\n",
       "      <th>11</th>\n",
       "      <td>342</td>\n",
       "      <td>210</td>\n",
       "      <td>150</td>\n",
       "      <td>244</td>\n",
       "      <td>165</td>\n",
       "    </tr>\n",
       "    <tr>\n",
       "      <th>12</th>\n",
       "      <td>384</td>\n",
       "      <td>225</td>\n",
       "      <td>188</td>\n",
       "      <td>247</td>\n",
       "      <td>208</td>\n",
       "    </tr>\n",
       "    <tr>\n",
       "      <th>13</th>\n",
       "      <td>514</td>\n",
       "      <td>340</td>\n",
       "      <td>238</td>\n",
       "      <td>389</td>\n",
       "      <td>273</td>\n",
       "    </tr>\n",
       "    <tr>\n",
       "      <th>14</th>\n",
       "      <td>496</td>\n",
       "      <td>319</td>\n",
       "      <td>229</td>\n",
       "      <td>345</td>\n",
       "      <td>261</td>\n",
       "    </tr>\n",
       "    <tr>\n",
       "      <th>15</th>\n",
       "      <td>412</td>\n",
       "      <td>233</td>\n",
       "      <td>190</td>\n",
       "      <td>316</td>\n",
       "      <td>184</td>\n",
       "    </tr>\n",
       "    <tr>\n",
       "      <th>16</th>\n",
       "      <td>518</td>\n",
       "      <td>337</td>\n",
       "      <td>272</td>\n",
       "      <td>353</td>\n",
       "      <td>262</td>\n",
       "    </tr>\n",
       "    <tr>\n",
       "      <th>17</th>\n",
       "      <td>556</td>\n",
       "      <td>360</td>\n",
       "      <td>294</td>\n",
       "      <td>410</td>\n",
       "      <td>269</td>\n",
       "    </tr>\n",
       "    <tr>\n",
       "      <th>18</th>\n",
       "      <td>630</td>\n",
       "      <td>425</td>\n",
       "      <td>361</td>\n",
       "      <td>453</td>\n",
       "      <td>346</td>\n",
       "    </tr>\n",
       "    <tr>\n",
       "      <th>19</th>\n",
       "      <td>755</td>\n",
       "      <td>466</td>\n",
       "      <td>441</td>\n",
       "      <td>507</td>\n",
       "      <td>389</td>\n",
       "    </tr>\n",
       "    <tr>\n",
       "      <th>20</th>\n",
       "      <td>492</td>\n",
       "      <td>298</td>\n",
       "      <td>307</td>\n",
       "      <td>312</td>\n",
       "      <td>246</td>\n",
       "    </tr>\n",
       "    <tr>\n",
       "      <th>21</th>\n",
       "      <td>305</td>\n",
       "      <td>151</td>\n",
       "      <td>180</td>\n",
       "      <td>173</td>\n",
       "      <td>122</td>\n",
       "    </tr>\n",
       "  </tbody>\n",
       "</table>\n",
       "</div>"
      ],
      "text/plain": [
       "location   checkout  dairy  drinks  fruit  spices\n",
       "timestamp                                        \n",
       "7               454    275     278    299     238\n",
       "8               677    455     348    468     342\n",
       "9               455    291     231    336     207\n",
       "10              427    294     198    270     242\n",
       "11              342    210     150    244     165\n",
       "12              384    225     188    247     208\n",
       "13              514    340     238    389     273\n",
       "14              496    319     229    345     261\n",
       "15              412    233     190    316     184\n",
       "16              518    337     272    353     262\n",
       "17              556    360     294    410     269\n",
       "18              630    425     361    453     346\n",
       "19              755    466     441    507     389\n",
       "20              492    298     307    312     246\n",
       "21              305    151     180    173     122"
      ]
     },
     "execution_count": 21,
     "metadata": {},
     "output_type": "execute_result"
    },
    {
     "data": {
      "image/png": "[encoded data removed]",
      "text/plain": [
       "<Figure size 432x288 with 1 Axes>"
      ]
     },
     "metadata": {
      "needs_background": "light"
     },
     "output_type": "display_data"
    }
   ],
   "source": [
    "sections_overtime.plot()\n",
    "sections_overtime"
   ]
  },
  {
   "cell_type": "code",
   "execution_count": null,
   "id": "feed325d",
   "metadata": {},
   "outputs": [],
   "source": [
    "sections_overtime['day']"
   ]
  },
  {
   "cell_type": "code",
   "execution_count": null,
   "id": "9559ca5f",
   "metadata": {},
   "outputs": [],
   "source": [
    "day_checkouts = sections_overtime['checkout']"
   ]
  },
  {
   "cell_type": "markdown",
   "id": "90d8f06a",
   "metadata": {},
   "source": [
    "# Display the number of customers at checkout over time"
   ]
  },
  {
   "cell_type": "code",
   "execution_count": 22,
   "id": "0121214f",
   "metadata": {},
   "outputs": [
    {
     "data": {
      "image/png": "[encoded data removed]",
      "text/plain": [
       "<Figure size 432x288 with 1 Axes>"
      ]
     },
     "metadata": {
      "needs_background": "light"
     },
     "output_type": "display_data"
    },
    {
     "ename": "NameError",
     "evalue": "name 'day_checkouts' is not defined",
     "output_type": "error",
     "traceback": [
      "\u001b[1;31m---------------------------------------------------------------------------\u001b[0m",
      "\u001b[1;31mNameError\u001b[0m                                 Traceback (most recent call last)",
      "\u001b[1;32m~\\AppData\\Local\\Temp/ipykernel_31088/3418063104.py\u001b[0m in \u001b[0;36m<module>\u001b[1;34m\u001b[0m\n\u001b[0;32m      5\u001b[0m \u001b[0mplt\u001b[0m\u001b[1;33m.\u001b[0m\u001b[0mshow\u001b[0m\u001b[1;33m(\u001b[0m\u001b[1;33m)\u001b[0m\u001b[1;33m\u001b[0m\u001b[1;33m\u001b[0m\u001b[0m\n\u001b[0;32m      6\u001b[0m \u001b[1;33m\u001b[0m\u001b[0m\n\u001b[1;32m----> 7\u001b[1;33m \u001b[0mday_totals\u001b[0m \u001b[1;33m=\u001b[0m \u001b[0mday_checkouts\u001b[0m\u001b[1;33m[\u001b[0m\u001b[1;34m'customer_no'\u001b[0m\u001b[1;33m]\u001b[0m\u001b[1;33m.\u001b[0m\u001b[0msum\u001b[0m\u001b[1;33m(\u001b[0m\u001b[1;33m)\u001b[0m\u001b[1;33m\u001b[0m\u001b[1;33m\u001b[0m\u001b[0m\n\u001b[0m\u001b[0;32m      8\u001b[0m \u001b[1;33m\u001b[0m\u001b[0m\n\u001b[0;32m      9\u001b[0m print(f'----Section Visitation Numbers----\\n \\\n",
      "\u001b[1;31mNameError\u001b[0m: name 'day_checkouts' is not defined"
     ]
    }
   ],
   "source": [
    "sections_overtime['checkout'].plot(kind='line')\n",
    "plt.xlabel(f'Trend from {start_date} to {end_date}')\n",
    "plt.ylabel('Average Number of Customers')\n",
    "plt.xticks(rotation=20)\n",
    "plt.show()\n",
    "\n",
    "day_totals = day_checkouts['customer_no'].sum()\n",
    "\n",
    "print(f'----Section Visitation Numbers----\\n \\\n",
    "The following sections have had an average of {int(day_totals)} daily vists between {start_date} and {end_date}:\\n')\n",
    "for idx, rows in day_checkouts.iterrows():\n",
    "    print(f'{rows[0]}: {int(rows[2])}')"
   ]
  },
  {
   "cell_type": "code",
   "execution_count": null,
   "id": "9e1f35be",
   "metadata": {},
   "outputs": [],
   "source": [
    "day_checkouts.plot(x='timestamp', y='customer_no', kind='bar')\n",
    "plt.xlabel(f'Trend from {start_date} to {end_date}')\n",
    "plt.ylabel('Average Number of Customers')\n",
    "plt.xticks(rotation=20)\n",
    "plt.show()\n",
    "\n",
    "day_totals = day_checkouts['customer_no'].sum()\n",
    "\n",
    "print(f'----Section Visitation Numbers----\\n \\\n",
    "The following sections have had an average of {int(day_totals)} daily vists between {start_date} and {end_date}:\\n')\n",
    "for idx, rows in day_checkouts.iterrows():\n",
    "    print(f'{rows[0]}: {int(rows[2])}')"
   ]
  },
  {
   "cell_type": "markdown",
   "id": "f4cd0436",
   "metadata": {},
   "source": [
    "# Calculate the time each customer spent in the market"
   ]
  },
  {
   "cell_type": "code",
   "execution_count": null,
   "id": "5a2a9137",
   "metadata": {},
   "outputs": [],
   "source": [
    "def total_time(dataframe):\n",
    "    time_diff = dataframe[1] - dataframe[0]\n",
    "    \n",
    "    total_time = time_diff.seconds / 60\n",
    "    \n",
    "    return time_diff.seconds"
   ]
  },
  {
   "cell_type": "code",
   "execution_count": null,
   "id": "732d6418",
   "metadata": {},
   "outputs": [],
   "source": [
    "shop_data"
   ]
  },
  {
   "cell_type": "code",
   "execution_count": null,
   "id": "8f724454",
   "metadata": {},
   "outputs": [],
   "source": [
    "shop_data['day'] = shop_data.index.day_name()"
   ]
  },
  {
   "cell_type": "code",
   "execution_count": null,
   "id": "6c5bc120",
   "metadata": {},
   "outputs": [],
   "source": [
    "shop_data.reset_index(inplace=True)"
   ]
  },
  {
   "cell_type": "code",
   "execution_count": null,
   "id": "54f50c02",
   "metadata": {},
   "outputs": [],
   "source": [
    "customers = shop_data.groupby(['day','customer_no'])['timestamp'].agg(['min', 'max'])"
   ]
  },
  {
   "cell_type": "code",
   "execution_count": null,
   "id": "f83c5079",
   "metadata": {},
   "outputs": [],
   "source": [
    "customers"
   ]
  },
  {
   "cell_type": "code",
   "execution_count": null,
   "id": "b554df3c",
   "metadata": {},
   "outputs": [],
   "source": [
    "customers['total_shop_time (seconds)'] = customers[['min','max']].apply(total_time, axis=1)"
   ]
  },
  {
   "cell_type": "code",
   "execution_count": null,
   "id": "4337b448",
   "metadata": {},
   "outputs": [],
   "source": [
    "total_avg_time_spent = round(customers['total_shop_time (seconds)'].mean(),1)"
   ]
  },
  {
   "cell_type": "code",
   "execution_count": null,
   "id": "a0031bf1",
   "metadata": {},
   "outputs": [],
   "source": [
    "daily_avg_time_spent = customers.groupby('day')[['total_shop_time (seconds)']].mean().reset_index()\n",
    "daily_avg_time_spent"
   ]
  },
  {
   "cell_type": "code",
   "execution_count": null,
   "id": "21a3cde0",
   "metadata": {},
   "outputs": [],
   "source": [
    "daily_avg_time_spent.plot(x='day', y='total_shop_time (seconds)', kind='bar')\n",
    "plt.xlabel(f'Trend from {start_date} to {end_date}')\n",
    "plt.ylabel('Average Shopping Time (in seconds)')\n",
    "plt.title('Average Time Spent Shopping')\n",
    "plt.xticks(rotation=20)\n",
    "plt.show()\n",
    "\n",
    "print(f'----Section Visitation Numbers----\\n \\\n",
    "Customers spend on average {total_avg_time_spent} seconds shopping on the days between {start_date} and {end_date}:\\n')\n",
    "for idx, rows in daily_avg_time_spent.iterrows():\n",
    "    print(f'{rows[0]}: {round(rows[1], 2)} seconds spent in the store')"
   ]
  },
  {
   "cell_type": "code",
   "execution_count": null,
   "id": "1f29de85",
   "metadata": {},
   "outputs": [],
   "source": []
  },
  {
   "cell_type": "code",
   "execution_count": null,
   "id": "59801b67",
   "metadata": {},
   "outputs": [],
   "source": [
    "t = shop_data.groupby('day')"
   ]
  },
  {
   "cell_type": "code",
   "execution_count": null,
   "id": "0f8ea67f",
   "metadata": {},
   "outputs": [],
   "source": []
  }
 ],
 "metadata": {
  "kernelspec": {
   "display_name": "Python 3 (ipykernel)",
   "language": "python",
   "name": "python3"
  },
  "language_info": {
   "codemirror_mode": {
    "name": "ipython",
    "version": 3
   },
   "file_extension": ".py",
   "mimetype": "text/x-python",
   "name": "python",
   "nbconvert_exporter": "python",
   "pygments_lexer": "ipython3",
   "version": "3.9.7"
  }
 },
 "nbformat": 4,
 "nbformat_minor": 5
}

{
 "cells": [
  {
   "cell_type": "code",
   "execution_count": 4,
   "id": "b71718b6",
   "metadata": {},
   "outputs": [
    {
     "name": "stdout",
     "output_type": "stream",
     "text": [
      "Collecting sha256\n",
      "  Using cached sha256-0.3.tar.gz (55 kB)\n",
      "Building wheels for collected packages: sha256\n",
      "  Building wheel for sha256 (setup.py): started\n",
      "  Building wheel for sha256 (setup.py): finished with status 'error'\n",
      "  Running setup.py clean for sha256\n",
      "Failed to build sha256\n",
      "Installing collected packages: sha256\n",
      "    Running setup.py install for sha256: started\n",
      "    Running setup.py install for sha256: finished with status 'error'\n",
      "Note: you may need to restart the kernel to use updated packages.\n"
     ]
    },
    {
     "name": "stderr",
     "output_type": "stream",
     "text": [
      "  ERROR: Command errored out with exit status 1:\n",
      "   command: 'C:\\Users\\emank\\anaconda3\\python.exe' -u -c 'import io, os, sys, setuptools, tokenize; sys.argv[0] = '\"'\"'C:\\\\Users\\\\emank\\\\AppData\\\\Local\\\\Temp\\\\pip-install-_70jif7b\\\\sha256_2954754752154fdc89585e8f092c0dc5\\\\setup.py'\"'\"'; __file__='\"'\"'C:\\\\Users\\\\emank\\\\AppData\\\\Local\\\\Temp\\\\pip-install-_70jif7b\\\\sha256_2954754752154fdc89585e8f092c0dc5\\\\setup.py'\"'\"';f = getattr(tokenize, '\"'\"'open'\"'\"', open)(__file__) if os.path.exists(__file__) else io.StringIO('\"'\"'from setuptools import setup; setup()'\"'\"');code = f.read().replace('\"'\"'\\r\\n'\"'\"', '\"'\"'\\n'\"'\"');f.close();exec(compile(code, __file__, '\"'\"'exec'\"'\"'))' bdist_wheel -d 'C:\\Users\\emank\\AppData\\Local\\Temp\\pip-wheel-wpss0ir_'\n",
      "       cwd: C:\\Users\\emank\\AppData\\Local\\Temp\\pip-install-_70jif7b\\sha256_2954754752154fdc89585e8f092c0dc5\\\n",
      "  Complete output (11 lines):\n",
      "  running bdist_wheel\n",
      "  running build\n",
      "  running build_ext\n",
      "  building 'sha256' extension\n",
      "  creating build\n",
      "  creating build\\temp.win-amd64-3.9\n",
      "  creating build\\temp.win-amd64-3.9\\Release\n",
      "  C:\\Program Files (x86)\\Microsoft Visual Studio\\2019\\BuildTools\\VC\\Tools\\MSVC\\14.29.30133\\bin\\HostX86\\x64\\cl.exe /c /nologo /Ox /W3 /GL /DNDEBUG /MD -IC:\\Users\\emank\\anaconda3\\include -IC:\\Users\\emank\\anaconda3\\include -IC:\\Program Files (x86)\\Microsoft Visual Studio\\2019\\BuildTools\\VC\\Tools\\MSVC\\14.29.30133\\include /Tcsha256.c /Fobuild\\temp.win-amd64-3.9\\Release\\sha256.obj\n",
      "  sha256.c\n",
      "  C:\\Users\\emank\\anaconda3\\include\\pyconfig.h(59): fatal error C1083: Cannot open include file: 'io.h': No such file or directory\n",
      "  error: command 'C:\\\\Program Files (x86)\\\\Microsoft Visual Studio\\\\2019\\\\BuildTools\\\\VC\\\\Tools\\\\MSVC\\\\14.29.30133\\\\bin\\\\HostX86\\\\x64\\\\cl.exe' failed with exit code 2\n",
      "  ----------------------------------------\n",
      "  ERROR: Failed building wheel for sha256\n",
      "    ERROR: Command errored out with exit status 1:\n",
      "     command: 'C:\\Users\\emank\\anaconda3\\python.exe' -u -c 'import io, os, sys, setuptools, tokenize; sys.argv[0] = '\"'\"'C:\\\\Users\\\\emank\\\\AppData\\\\Local\\\\Temp\\\\pip-install-_70jif7b\\\\sha256_2954754752154fdc89585e8f092c0dc5\\\\setup.py'\"'\"'; __file__='\"'\"'C:\\\\Users\\\\emank\\\\AppData\\\\Local\\\\Temp\\\\pip-install-_70jif7b\\\\sha256_2954754752154fdc89585e8f092c0dc5\\\\setup.py'\"'\"';f = getattr(tokenize, '\"'\"'open'\"'\"', open)(__file__) if os.path.exists(__file__) else io.StringIO('\"'\"'from setuptools import setup; setup()'\"'\"');code = f.read().replace('\"'\"'\\r\\n'\"'\"', '\"'\"'\\n'\"'\"');f.close();exec(compile(code, __file__, '\"'\"'exec'\"'\"'))' install --record 'C:\\Users\\emank\\AppData\\Local\\Temp\\pip-record-f4r0bq7g\\install-record.txt' --single-version-externally-managed --compile --install-headers 'C:\\Users\\emank\\anaconda3\\Include\\sha256'\n",
      "         cwd: C:\\Users\\emank\\AppData\\Local\\Temp\\pip-install-_70jif7b\\sha256_2954754752154fdc89585e8f092c0dc5\\\n",
      "    Complete output (11 lines):\n",
      "    running install\n",
      "    running build\n",
      "    running build_ext\n",
      "    building 'sha256' extension\n",
      "    creating build\n",
      "    creating build\\temp.win-amd64-3.9\n",
      "    creating build\\temp.win-amd64-3.9\\Release\n",
      "    C:\\Program Files (x86)\\Microsoft Visual Studio\\2019\\BuildTools\\VC\\Tools\\MSVC\\14.29.30133\\bin\\HostX86\\x64\\cl.exe /c /nologo /Ox /W3 /GL /DNDEBUG /MD -IC:\\Users\\emank\\anaconda3\\include -IC:\\Users\\emank\\anaconda3\\include -IC:\\Program Files (x86)\\Microsoft Visual Studio\\2019\\BuildTools\\VC\\Tools\\MSVC\\14.29.30133\\include /Tcsha256.c /Fobuild\\temp.win-amd64-3.9\\Release\\sha256.obj\n",
      "    sha256.c\n",
      "    C:\\Users\\emank\\anaconda3\\include\\pyconfig.h(59): fatal error C1083: Cannot open include file: 'io.h': No such file or directory\n",
      "    error: command 'C:\\\\Program Files (x86)\\\\Microsoft Visual Studio\\\\2019\\\\BuildTools\\\\VC\\\\Tools\\\\MSVC\\\\14.29.30133\\\\bin\\\\HostX86\\\\x64\\\\cl.exe' failed with exit code 2\n",
      "    ----------------------------------------\n",
      "ERROR: Command errored out with exit status 1: 'C:\\Users\\emank\\anaconda3\\python.exe' -u -c 'import io, os, sys, setuptools, tokenize; sys.argv[0] = '\"'\"'C:\\\\Users\\\\emank\\\\AppData\\\\Local\\\\Temp\\\\pip-install-_70jif7b\\\\sha256_2954754752154fdc89585e8f092c0dc5\\\\setup.py'\"'\"'; __file__='\"'\"'C:\\\\Users\\\\emank\\\\AppData\\\\Local\\\\Temp\\\\pip-install-_70jif7b\\\\sha256_2954754752154fdc89585e8f092c0dc5\\\\setup.py'\"'\"';f = getattr(tokenize, '\"'\"'open'\"'\"', open)(__file__) if os.path.exists(__file__) else io.StringIO('\"'\"'from setuptools import setup; setup()'\"'\"');code = f.read().replace('\"'\"'\\r\\n'\"'\"', '\"'\"'\\n'\"'\"');f.close();exec(compile(code, __file__, '\"'\"'exec'\"'\"'))' install --record 'C:\\Users\\emank\\AppData\\Local\\Temp\\pip-record-f4r0bq7g\\install-record.txt' --single-version-externally-managed --compile --install-headers 'C:\\Users\\emank\\anaconda3\\Include\\sha256' Check the logs for full command output.\n"
     ]
    }
   ],
   "source": [
    "pip install sha256"
   ]
  },
  {
   "cell_type": "code",
   "execution_count": 5,
   "id": "a8a1127f",
   "metadata": {},
   "outputs": [
    {
     "ename": "ModuleNotFoundError",
     "evalue": "No module named 'sha256'",
     "output_type": "error",
     "traceback": [
      "\u001b[1;31m---------------------------------------------------------------------------\u001b[0m",
      "\u001b[1;31mModuleNotFoundError\u001b[0m                       Traceback (most recent call last)",
      "\u001b[1;32m~\\AppData\\Local\\Temp/ipykernel_24304/4283462662.py\u001b[0m in \u001b[0;36m<module>\u001b[1;34m\u001b[0m\n\u001b[1;32m----> 1\u001b[1;33m \u001b[1;32mimport\u001b[0m \u001b[0msha256\u001b[0m\u001b[1;33m\u001b[0m\u001b[1;33m\u001b[0m\u001b[0m\n\u001b[0m",
      "\u001b[1;31mModuleNotFoundError\u001b[0m: No module named 'sha256'"
     ]
    }
   ],
   "source": [
    "import sha256"
   ]
  },
  {
   "cell_type": "code",
   "execution_count": null,
   "id": "91222ac9",
   "metadata": {},
   "outputs": [],
   "source": []
  }
 ],
 "metadata": {
  "kernelspec": {
   "display_name": "Python 3 (ipykernel)",
   "language": "python",
   "name": "python3"
  },
  "language_info": {
   "codemirror_mode": {
    "name": "ipython",
    "version": 3
   },
   "file_extension": ".py",
   "mimetype": "text/x-python",
   "name": "python",
   "nbconvert_exporter": "python",
   "pygments_lexer": "ipython3",
   "version": "3.9.7"
  }
 },
 "nbformat": 4,
 "nbformat_minor": 5
}
